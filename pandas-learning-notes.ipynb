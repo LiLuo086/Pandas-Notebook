{
 "cells": [
  {
   "cell_type": "markdown",
   "id": "5dea73c7",
   "metadata": {
    "papermill": {
     "duration": 0.008042,
     "end_time": "2023-08-19T12:14:20.699993",
     "exception": false,
     "start_time": "2023-08-19T12:14:20.691951",
     "status": "completed"
    },
    "tags": []
   },
   "source": [
    "**Pandas** stands for “Python Data Analysis” Library, is the most popular Python library for data analysis."
   ]
  },
  {
   "cell_type": "markdown",
   "id": "9711337e",
   "metadata": {
    "papermill": {
     "duration": 0.006682,
     "end_time": "2023-08-19T12:14:20.714018",
     "exception": false,
     "start_time": "2023-08-19T12:14:20.707336",
     "status": "completed"
    },
    "tags": []
   },
   "source": [
    "**Import pandas using alias pd**"
   ]
  },
  {
   "cell_type": "code",
   "execution_count": 1,
   "id": "711f321e",
   "metadata": {
    "execution": {
     "iopub.execute_input": "2023-08-19T12:14:20.731380Z",
     "iopub.status.busy": "2023-08-19T12:14:20.730631Z",
     "iopub.status.idle": "2023-08-19T12:14:20.742259Z",
     "shell.execute_reply": "2023-08-19T12:14:20.741174Z"
    },
    "papermill": {
     "duration": 0.024226,
     "end_time": "2023-08-19T12:14:20.745409",
     "exception": false,
     "start_time": "2023-08-19T12:14:20.721183",
     "status": "completed"
    },
    "tags": []
   },
   "outputs": [],
   "source": [
    "import pandas as pd "
   ]
  },
  {
   "cell_type": "markdown",
   "id": "928d1c88",
   "metadata": {
    "papermill": {
     "duration": 0.006835,
     "end_time": "2023-08-19T12:14:20.759484",
     "exception": false,
     "start_time": "2023-08-19T12:14:20.752649",
     "status": "completed"
    },
    "tags": []
   },
   "source": [
    "\n",
    "### Working with data that already exists"
   ]
  },
  {
   "cell_type": "markdown",
   "id": "1378b369",
   "metadata": {
    "papermill": {
     "duration": 0.006958,
     "end_time": "2023-08-19T12:14:20.773340",
     "exception": false,
     "start_time": "2023-08-19T12:14:20.766382",
     "status": "completed"
    },
    "tags": []
   },
   "source": [
    "**Load data stored in a csv file into a DataFrame**"
   ]
  },
  {
   "cell_type": "code",
   "execution_count": 2,
   "id": "fe89c114",
   "metadata": {
    "execution": {
     "iopub.execute_input": "2023-08-19T12:14:20.790347Z",
     "iopub.status.busy": "2023-08-19T12:14:20.789593Z",
     "iopub.status.idle": "2023-08-19T12:14:20.816178Z",
     "shell.execute_reply": "2023-08-19T12:14:20.814700Z"
    },
    "papermill": {
     "duration": 0.03841,
     "end_time": "2023-08-19T12:14:20.819094",
     "exception": false,
     "start_time": "2023-08-19T12:14:20.780684",
     "status": "completed"
    },
    "tags": []
   },
   "outputs": [],
   "source": [
    "df = pd.read_csv('/kaggle/input/canada-per-capita-income/Canada_per_capita_income.csv') "
   ]
  },
  {
   "cell_type": "markdown",
   "id": "ad822b82",
   "metadata": {
    "papermill": {
     "duration": 0.006745,
     "end_time": "2023-08-19T12:14:20.832787",
     "exception": false,
     "start_time": "2023-08-19T12:14:20.826042",
     "status": "completed"
    },
    "tags": []
   },
   "source": [
    "**Show the DataFrame shape, such as number of rows and columns**"
   ]
  },
  {
   "cell_type": "code",
   "execution_count": 3,
   "id": "c6c9d763",
   "metadata": {
    "execution": {
     "iopub.execute_input": "2023-08-19T12:14:20.848429Z",
     "iopub.status.busy": "2023-08-19T12:14:20.848013Z",
     "iopub.status.idle": "2023-08-19T12:14:20.854038Z",
     "shell.execute_reply": "2023-08-19T12:14:20.852757Z"
    },
    "papermill": {
     "duration": 0.017135,
     "end_time": "2023-08-19T12:14:20.856821",
     "exception": false,
     "start_time": "2023-08-19T12:14:20.839686",
     "status": "completed"
    },
    "tags": []
   },
   "outputs": [
    {
     "name": "stdout",
     "output_type": "stream",
     "text": [
      "Shape of the DataFrame:  (47, 2)\n"
     ]
    }
   ],
   "source": [
    "print(\"Shape of the DataFrame: \",df.shape)"
   ]
  },
  {
   "cell_type": "markdown",
   "id": "8237ce17",
   "metadata": {
    "papermill": {
     "duration": 0.006882,
     "end_time": "2023-08-19T12:14:20.870554",
     "exception": false,
     "start_time": "2023-08-19T12:14:20.863672",
     "status": "completed"
    },
    "tags": []
   },
   "source": [
    "Pandas only return the **first 5 rows** and **last 5 rows** and **headers** of a DataFrame, if the total rows of a DataFrame is less the the maximal rows allowed by system.\n",
    "\n",
    "If the system allowed maximal rows is larger than the number of rows of a DataFrame, all rows can be displayed."
   ]
  },
  {
   "cell_type": "markdown",
   "id": "36891a23",
   "metadata": {
    "papermill": {
     "duration": 0.006669,
     "end_time": "2023-08-19T12:14:20.885557",
     "exception": false,
     "start_time": "2023-08-19T12:14:20.878888",
     "status": "completed"
    },
    "tags": []
   },
   "source": [
    "**Show the maximal system allowed rows in a DataFrame**"
   ]
  },
  {
   "cell_type": "code",
   "execution_count": 4,
   "id": "f475b151",
   "metadata": {
    "execution": {
     "iopub.execute_input": "2023-08-19T12:14:20.900902Z",
     "iopub.status.busy": "2023-08-19T12:14:20.900441Z",
     "iopub.status.idle": "2023-08-19T12:14:20.906620Z",
     "shell.execute_reply": "2023-08-19T12:14:20.905250Z"
    },
    "papermill": {
     "duration": 0.016602,
     "end_time": "2023-08-19T12:14:20.908925",
     "exception": false,
     "start_time": "2023-08-19T12:14:20.892323",
     "status": "completed"
    },
    "tags": []
   },
   "outputs": [
    {
     "name": "stdout",
     "output_type": "stream",
     "text": [
      "60\n"
     ]
    }
   ],
   "source": [
    "print(pd.options.display.max_rows)"
   ]
  },
  {
   "cell_type": "markdown",
   "id": "6b1cd07c",
   "metadata": {
    "papermill": {
     "duration": 0.006575,
     "end_time": "2023-08-19T12:14:20.922501",
     "exception": false,
     "start_time": "2023-08-19T12:14:20.915926",
     "status": "completed"
    },
    "tags": []
   },
   "source": [
    "**Change the system allowed maximal rows**"
   ]
  },
  {
   "cell_type": "code",
   "execution_count": 5,
   "id": "44de3721",
   "metadata": {
    "execution": {
     "iopub.execute_input": "2023-08-19T12:14:20.938005Z",
     "iopub.status.busy": "2023-08-19T12:14:20.937589Z",
     "iopub.status.idle": "2023-08-19T12:14:20.942613Z",
     "shell.execute_reply": "2023-08-19T12:14:20.941408Z"
    },
    "papermill": {
     "duration": 0.015797,
     "end_time": "2023-08-19T12:14:20.945151",
     "exception": false,
     "start_time": "2023-08-19T12:14:20.929354",
     "status": "completed"
    },
    "tags": []
   },
   "outputs": [],
   "source": [
    "pd.options.display.max_rows = 30"
   ]
  },
  {
   "cell_type": "code",
   "execution_count": 6,
   "id": "26368162",
   "metadata": {
    "execution": {
     "iopub.execute_input": "2023-08-19T12:14:20.961624Z",
     "iopub.status.busy": "2023-08-19T12:14:20.960641Z",
     "iopub.status.idle": "2023-08-19T12:14:20.977985Z",
     "shell.execute_reply": "2023-08-19T12:14:20.976437Z"
    },
    "papermill": {
     "duration": 0.02835,
     "end_time": "2023-08-19T12:14:20.980422",
     "exception": false,
     "start_time": "2023-08-19T12:14:20.952072",
     "status": "completed"
    },
    "tags": []
   },
   "outputs": [
    {
     "name": "stdout",
     "output_type": "stream",
     "text": [
      "Display Content of the DataFrame:\n",
      "      year        income\n",
      "0   1970   3399.299037\n",
      "1   1971   3768.297935\n",
      "2   1972   4251.175484\n",
      "3   1973   4804.463248\n",
      "4   1974   5576.514583\n",
      "..   ...           ...\n",
      "42  2012  42665.255970\n",
      "43  2013  42676.468370\n",
      "44  2014  41039.893600\n",
      "45  2015  35175.188980\n",
      "46  2016  34229.193630\n",
      "\n",
      "[47 rows x 2 columns]\n"
     ]
    }
   ],
   "source": [
    "print(\"Display Content of the DataFrame:\\n \", df)"
   ]
  },
  {
   "cell_type": "markdown",
   "id": "2e36f7be",
   "metadata": {
    "papermill": {
     "duration": 0.006825,
     "end_time": "2023-08-19T12:14:20.994489",
     "exception": false,
     "start_time": "2023-08-19T12:14:20.987664",
     "status": "completed"
    },
    "tags": []
   },
   "source": [
    "**Show the information of a DataFrame**"
   ]
  },
  {
   "cell_type": "code",
   "execution_count": 7,
   "id": "78a9903a",
   "metadata": {
    "execution": {
     "iopub.execute_input": "2023-08-19T12:14:21.011169Z",
     "iopub.status.busy": "2023-08-19T12:14:21.010744Z",
     "iopub.status.idle": "2023-08-19T12:14:21.039240Z",
     "shell.execute_reply": "2023-08-19T12:14:21.037232Z"
    },
    "papermill": {
     "duration": 0.04045,
     "end_time": "2023-08-19T12:14:21.042058",
     "exception": false,
     "start_time": "2023-08-19T12:14:21.001608",
     "status": "completed"
    },
    "tags": []
   },
   "outputs": [
    {
     "name": "stdout",
     "output_type": "stream",
     "text": [
      "<class 'pandas.core.frame.DataFrame'>\n",
      "RangeIndex: 47 entries, 0 to 46\n",
      "Data columns (total 2 columns):\n",
      " #   Column  Non-Null Count  Dtype  \n",
      "---  ------  --------------  -----  \n",
      " 0   year    47 non-null     int64  \n",
      " 1   income  47 non-null     float64\n",
      "dtypes: float64(1), int64(1)\n",
      "memory usage: 880.0 bytes\n"
     ]
    }
   ],
   "source": [
    "df.info()"
   ]
  },
  {
   "cell_type": "markdown",
   "id": "1a4b0af3",
   "metadata": {
    "papermill": {
     "duration": 0.006927,
     "end_time": "2023-08-19T12:14:21.056560",
     "exception": false,
     "start_time": "2023-08-19T12:14:21.049633",
     "status": "completed"
    },
    "tags": []
   },
   "source": [
    "**Generate descriptive statstics of a DataFrame**"
   ]
  },
  {
   "cell_type": "code",
   "execution_count": 8,
   "id": "200da42b",
   "metadata": {
    "execution": {
     "iopub.execute_input": "2023-08-19T12:14:21.072779Z",
     "iopub.status.busy": "2023-08-19T12:14:21.072324Z",
     "iopub.status.idle": "2023-08-19T12:14:21.096926Z",
     "shell.execute_reply": "2023-08-19T12:14:21.095685Z"
    },
    "papermill": {
     "duration": 0.035629,
     "end_time": "2023-08-19T12:14:21.099431",
     "exception": false,
     "start_time": "2023-08-19T12:14:21.063802",
     "status": "completed"
    },
    "tags": []
   },
   "outputs": [
    {
     "data": {
      "text/html": [
       "<div>\n",
       "<style scoped>\n",
       "    .dataframe tbody tr th:only-of-type {\n",
       "        vertical-align: middle;\n",
       "    }\n",
       "\n",
       "    .dataframe tbody tr th {\n",
       "        vertical-align: top;\n",
       "    }\n",
       "\n",
       "    .dataframe thead th {\n",
       "        text-align: right;\n",
       "    }\n",
       "</style>\n",
       "<table border=\"1\" class=\"dataframe\">\n",
       "  <thead>\n",
       "    <tr style=\"text-align: right;\">\n",
       "      <th></th>\n",
       "      <th>year</th>\n",
       "      <th>income</th>\n",
       "    </tr>\n",
       "  </thead>\n",
       "  <tbody>\n",
       "    <tr>\n",
       "      <th>count</th>\n",
       "      <td>47.000000</td>\n",
       "      <td>47.000000</td>\n",
       "    </tr>\n",
       "    <tr>\n",
       "      <th>mean</th>\n",
       "      <td>1993.000000</td>\n",
       "      <td>18920.137063</td>\n",
       "    </tr>\n",
       "    <tr>\n",
       "      <th>std</th>\n",
       "      <td>13.711309</td>\n",
       "      <td>12034.679438</td>\n",
       "    </tr>\n",
       "    <tr>\n",
       "      <th>min</th>\n",
       "      <td>1970.000000</td>\n",
       "      <td>3399.299037</td>\n",
       "    </tr>\n",
       "    <tr>\n",
       "      <th>25%</th>\n",
       "      <td>1981.500000</td>\n",
       "      <td>9526.914515</td>\n",
       "    </tr>\n",
       "    <tr>\n",
       "      <th>50%</th>\n",
       "      <td>1993.000000</td>\n",
       "      <td>16426.725480</td>\n",
       "    </tr>\n",
       "    <tr>\n",
       "      <th>75%</th>\n",
       "      <td>2004.500000</td>\n",
       "      <td>27458.601420</td>\n",
       "    </tr>\n",
       "    <tr>\n",
       "      <th>max</th>\n",
       "      <td>2016.000000</td>\n",
       "      <td>42676.468370</td>\n",
       "    </tr>\n",
       "  </tbody>\n",
       "</table>\n",
       "</div>"
      ],
      "text/plain": [
       "              year        income\n",
       "count    47.000000     47.000000\n",
       "mean   1993.000000  18920.137063\n",
       "std      13.711309  12034.679438\n",
       "min    1970.000000   3399.299037\n",
       "25%    1981.500000   9526.914515\n",
       "50%    1993.000000  16426.725480\n",
       "75%    2004.500000  27458.601420\n",
       "max    2016.000000  42676.468370"
      ]
     },
     "execution_count": 8,
     "metadata": {},
     "output_type": "execute_result"
    }
   ],
   "source": [
    "df.describe()"
   ]
  },
  {
   "cell_type": "markdown",
   "id": "42235ccd",
   "metadata": {
    "papermill": {
     "duration": 0.007388,
     "end_time": "2023-08-19T12:14:21.114309",
     "exception": false,
     "start_time": "2023-08-19T12:14:21.106921",
     "status": "completed"
    },
    "tags": []
   },
   "source": [
    "---"
   ]
  },
  {
   "cell_type": "markdown",
   "id": "7b1ab71d",
   "metadata": {
    "papermill": {
     "duration": 0.007158,
     "end_time": "2023-08-19T12:14:21.128969",
     "exception": false,
     "start_time": "2023-08-19T12:14:21.121811",
     "status": "completed"
    },
    "tags": []
   },
   "source": [
    "### Creating new DataFrame\n",
    "A DataFrame can be created by **df.DataFrame()** method.\n",
    "\n",
    "The content of a DataFrame is constructed using Python **dictionary-list**, where the **key** in the dictionary is the **column name** of the DataFrame, and the **values** are **a list of entries**."
   ]
  },
  {
   "cell_type": "code",
   "execution_count": 9,
   "id": "d12dcd17",
   "metadata": {
    "execution": {
     "iopub.execute_input": "2023-08-19T12:14:21.146279Z",
     "iopub.status.busy": "2023-08-19T12:14:21.145300Z",
     "iopub.status.idle": "2023-08-19T12:14:21.156919Z",
     "shell.execute_reply": "2023-08-19T12:14:21.155655Z"
    },
    "papermill": {
     "duration": 0.023168,
     "end_time": "2023-08-19T12:14:21.159671",
     "exception": false,
     "start_time": "2023-08-19T12:14:21.136503",
     "status": "completed"
    },
    "tags": []
   },
   "outputs": [
    {
     "data": {
      "text/html": [
       "<div>\n",
       "<style scoped>\n",
       "    .dataframe tbody tr th:only-of-type {\n",
       "        vertical-align: middle;\n",
       "    }\n",
       "\n",
       "    .dataframe tbody tr th {\n",
       "        vertical-align: top;\n",
       "    }\n",
       "\n",
       "    .dataframe thead th {\n",
       "        text-align: right;\n",
       "    }\n",
       "</style>\n",
       "<table border=\"1\" class=\"dataframe\">\n",
       "  <thead>\n",
       "    <tr style=\"text-align: right;\">\n",
       "      <th></th>\n",
       "      <th>year</th>\n",
       "      <th>income</th>\n",
       "    </tr>\n",
       "  </thead>\n",
       "  <tbody>\n",
       "    <tr>\n",
       "      <th>0</th>\n",
       "      <td>2020</td>\n",
       "      <td>36000</td>\n",
       "    </tr>\n",
       "    <tr>\n",
       "      <th>1</th>\n",
       "      <td>2021</td>\n",
       "      <td>38000</td>\n",
       "    </tr>\n",
       "  </tbody>\n",
       "</table>\n",
       "</div>"
      ],
      "text/plain": [
       "   year  income\n",
       "0  2020   36000\n",
       "1  2021   38000"
      ]
     },
     "execution_count": 9,
     "metadata": {},
     "output_type": "execute_result"
    }
   ],
   "source": [
    "pd.DataFrame({\"year\":[2020,2021],\n",
    "              \"income\":[36000,38000]})"
   ]
  },
  {
   "cell_type": "markdown",
   "id": "6cde0abb",
   "metadata": {
    "papermill": {
     "duration": 0.007394,
     "end_time": "2023-08-19T12:14:21.175198",
     "exception": false,
     "start_time": "2023-08-19T12:14:21.167804",
     "status": "completed"
    },
    "tags": []
   },
   "source": [
    "By default, the row index of a new DataFrame is acsending from 0(0,1,2,3,...).\n",
    "It's also possible to assign the desired row index when creating a DataFrame unsing `index`."
   ]
  },
  {
   "cell_type": "code",
   "execution_count": 10,
   "id": "0fe6c09d",
   "metadata": {
    "execution": {
     "iopub.execute_input": "2023-08-19T12:14:21.192446Z",
     "iopub.status.busy": "2023-08-19T12:14:21.192051Z",
     "iopub.status.idle": "2023-08-19T12:14:21.204345Z",
     "shell.execute_reply": "2023-08-19T12:14:21.203129Z"
    },
    "papermill": {
     "duration": 0.024032,
     "end_time": "2023-08-19T12:14:21.206950",
     "exception": false,
     "start_time": "2023-08-19T12:14:21.182918",
     "status": "completed"
    },
    "tags": []
   },
   "outputs": [
    {
     "data": {
      "text/html": [
       "<div>\n",
       "<style scoped>\n",
       "    .dataframe tbody tr th:only-of-type {\n",
       "        vertical-align: middle;\n",
       "    }\n",
       "\n",
       "    .dataframe tbody tr th {\n",
       "        vertical-align: top;\n",
       "    }\n",
       "\n",
       "    .dataframe thead th {\n",
       "        text-align: right;\n",
       "    }\n",
       "</style>\n",
       "<table border=\"1\" class=\"dataframe\">\n",
       "  <thead>\n",
       "    <tr style=\"text-align: right;\">\n",
       "      <th></th>\n",
       "      <th>year</th>\n",
       "      <th>income</th>\n",
       "    </tr>\n",
       "  </thead>\n",
       "  <tbody>\n",
       "    <tr>\n",
       "      <th>1</th>\n",
       "      <td>2020</td>\n",
       "      <td>36000</td>\n",
       "    </tr>\n",
       "    <tr>\n",
       "      <th>2</th>\n",
       "      <td>2021</td>\n",
       "      <td>38000</td>\n",
       "    </tr>\n",
       "  </tbody>\n",
       "</table>\n",
       "</div>"
      ],
      "text/plain": [
       "   year  income\n",
       "1  2020   36000\n",
       "2  2021   38000"
      ]
     },
     "execution_count": 10,
     "metadata": {},
     "output_type": "execute_result"
    }
   ],
   "source": [
    "pd.DataFrame({\"year\":[2020,2021],\n",
    "              \"income\":[36000,38000]},\n",
    "               index = [1,2])"
   ]
  }
 ],
 "metadata": {
  "kernelspec": {
   "display_name": "Python 3",
   "language": "python",
   "name": "python3"
  },
  "language_info": {
   "codemirror_mode": {
    "name": "ipython",
    "version": 3
   },
   "file_extension": ".py",
   "mimetype": "text/x-python",
   "name": "python",
   "nbconvert_exporter": "python",
   "pygments_lexer": "ipython3",
   "version": "3.10.12"
  },
  "papermill": {
   "default_parameters": {},
   "duration": 14.233782,
   "end_time": "2023-08-19T12:14:22.139266",
   "environment_variables": {},
   "exception": null,
   "input_path": "__notebook__.ipynb",
   "output_path": "__notebook__.ipynb",
   "parameters": {},
   "start_time": "2023-08-19T12:14:07.905484",
   "version": "2.4.0"
  }
 },
 "nbformat": 4,
 "nbformat_minor": 5
}
