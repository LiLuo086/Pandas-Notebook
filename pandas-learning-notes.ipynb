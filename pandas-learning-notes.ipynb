{
 "cells": [
  {
   "cell_type": "markdown",
   "id": "37f45337",
   "metadata": {
    "papermill": {
     "duration": 0.002418,
     "end_time": "2023-08-19T10:46:34.930579",
     "exception": false,
     "start_time": "2023-08-19T10:46:34.928161",
     "status": "completed"
    },
    "tags": []
   },
   "source": [
    "**Pandas** stands for “Python Data Analysis” Library, is the most popular Python library for data analysis."
   ]
  },
  {
   "cell_type": "code",
   "execution_count": 1,
   "id": "6a6c97b7",
   "metadata": {
    "execution": {
     "iopub.execute_input": "2023-08-19T10:46:34.936421Z",
     "iopub.status.busy": "2023-08-19T10:46:34.935998Z",
     "iopub.status.idle": "2023-08-19T10:46:34.961216Z",
     "shell.execute_reply": "2023-08-19T10:46:34.959835Z"
    },
    "papermill": {
     "duration": 0.031774,
     "end_time": "2023-08-19T10:46:34.964462",
     "exception": false,
     "start_time": "2023-08-19T10:46:34.932688",
     "status": "completed"
    },
    "tags": []
   },
   "outputs": [],
   "source": [
    "import pandas as pd # import pandas using alias pd\n",
    "\n",
    "df = pd.read_csv('/kaggle/input/canada-per-capita-income/Canada_per_capita_income.csv') # Load data stored in a csv file into a DataFrame"
   ]
  }
 ],
 "metadata": {
  "kernelspec": {
   "display_name": "Python 3",
   "language": "python",
   "name": "python3"
  },
  "language_info": {
   "codemirror_mode": {
    "name": "ipython",
    "version": 3
   },
   "file_extension": ".py",
   "mimetype": "text/x-python",
   "name": "python",
   "nbconvert_exporter": "python",
   "pygments_lexer": "ipython3",
   "version": "3.10.12"
  },
  "papermill": {
   "default_parameters": {},
   "duration": 13.984706,
   "end_time": "2023-08-19T10:46:35.890302",
   "environment_variables": {},
   "exception": null,
   "input_path": "__notebook__.ipynb",
   "output_path": "__notebook__.ipynb",
   "parameters": {},
   "start_time": "2023-08-19T10:46:21.905596",
   "version": "2.4.0"
  }
 },
 "nbformat": 4,
 "nbformat_minor": 5
}
