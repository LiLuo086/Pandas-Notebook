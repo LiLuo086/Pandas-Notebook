{
 "cells": [
  {
   "cell_type": "markdown",
   "id": "00d61c7d",
   "metadata": {
    "papermill": {
     "duration": 0.007801,
     "end_time": "2023-08-19T12:27:46.159301",
     "exception": false,
     "start_time": "2023-08-19T12:27:46.151500",
     "status": "completed"
    },
    "tags": []
   },
   "source": [
    "**Pandas** stands for “Python Data Analysis” Library, is the most popular Python library for data analysis."
   ]
  },
  {
   "cell_type": "markdown",
   "id": "95658c34",
   "metadata": {
    "papermill": {
     "duration": 0.006739,
     "end_time": "2023-08-19T12:27:46.173253",
     "exception": false,
     "start_time": "2023-08-19T12:27:46.166514",
     "status": "completed"
    },
    "tags": []
   },
   "source": [
    "Import **pandas** using alias **pd**"
   ]
  },
  {
   "cell_type": "code",
   "execution_count": 1,
   "id": "b6c85604",
   "metadata": {
    "execution": {
     "iopub.execute_input": "2023-08-19T12:27:46.189101Z",
     "iopub.status.busy": "2023-08-19T12:27:46.188691Z",
     "iopub.status.idle": "2023-08-19T12:27:46.200326Z",
     "shell.execute_reply": "2023-08-19T12:27:46.199368Z"
    },
    "papermill": {
     "duration": 0.02229,
     "end_time": "2023-08-19T12:27:46.202682",
     "exception": false,
     "start_time": "2023-08-19T12:27:46.180392",
     "status": "completed"
    },
    "tags": []
   },
   "outputs": [],
   "source": [
    "import pandas as pd "
   ]
  },
  {
   "cell_type": "markdown",
   "id": "ca0771bf",
   "metadata": {
    "papermill": {
     "duration": 0.006892,
     "end_time": "2023-08-19T12:27:46.216762",
     "exception": false,
     "start_time": "2023-08-19T12:27:46.209870",
     "status": "completed"
    },
    "tags": []
   },
   "source": [
    "\n",
    "### Working with data that already exists"
   ]
  },
  {
   "cell_type": "markdown",
   "id": "78cbe810",
   "metadata": {
    "papermill": {
     "duration": 0.00712,
     "end_time": "2023-08-19T12:27:46.231000",
     "exception": false,
     "start_time": "2023-08-19T12:27:46.223880",
     "status": "completed"
    },
    "tags": []
   },
   "source": [
    "Load data stored in a csv file into a DataFrame using **pd.read_scv()** method"
   ]
  },
  {
   "cell_type": "code",
   "execution_count": 2,
   "id": "b4b74064",
   "metadata": {
    "execution": {
     "iopub.execute_input": "2023-08-19T12:27:46.247799Z",
     "iopub.status.busy": "2023-08-19T12:27:46.247370Z",
     "iopub.status.idle": "2023-08-19T12:27:46.270133Z",
     "shell.execute_reply": "2023-08-19T12:27:46.269254Z"
    },
    "papermill": {
     "duration": 0.034795,
     "end_time": "2023-08-19T12:27:46.272964",
     "exception": false,
     "start_time": "2023-08-19T12:27:46.238169",
     "status": "completed"
    },
    "tags": []
   },
   "outputs": [],
   "source": [
    "df = pd.read_csv('/kaggle/input/canada-per-capita-income/Canada_per_capita_income.csv') "
   ]
  },
  {
   "cell_type": "markdown",
   "id": "25f4822f",
   "metadata": {
    "papermill": {
     "duration": 0.007116,
     "end_time": "2023-08-19T12:27:46.288252",
     "exception": false,
     "start_time": "2023-08-19T12:27:46.281136",
     "status": "completed"
    },
    "tags": []
   },
   "source": [
    "**Show the DataFrame shape**, such as number of rows and columns"
   ]
  },
  {
   "cell_type": "code",
   "execution_count": 3,
   "id": "4fe52bc6",
   "metadata": {
    "execution": {
     "iopub.execute_input": "2023-08-19T12:27:46.304637Z",
     "iopub.status.busy": "2023-08-19T12:27:46.303919Z",
     "iopub.status.idle": "2023-08-19T12:27:46.308968Z",
     "shell.execute_reply": "2023-08-19T12:27:46.308237Z"
    },
    "papermill": {
     "duration": 0.015798,
     "end_time": "2023-08-19T12:27:46.311215",
     "exception": false,
     "start_time": "2023-08-19T12:27:46.295417",
     "status": "completed"
    },
    "tags": []
   },
   "outputs": [
    {
     "name": "stdout",
     "output_type": "stream",
     "text": [
      "Shape of the DataFrame:  (47, 2)\n"
     ]
    }
   ],
   "source": [
    "print(\"Shape of the DataFrame: \",df.shape)"
   ]
  },
  {
   "cell_type": "markdown",
   "id": "769b053a",
   "metadata": {
    "papermill": {
     "duration": 0.006966,
     "end_time": "2023-08-19T12:27:46.326724",
     "exception": false,
     "start_time": "2023-08-19T12:27:46.319758",
     "status": "completed"
    },
    "tags": []
   },
   "source": [
    "Pandas only return the **first 5 rows** and **last 5 rows** and **headers** of a DataFrame, if the total rows of a DataFrame is less the the maximal rows allowed by system.\n",
    "\n",
    "If the system allowed maximal rows is larger than the number of rows of a DataFrame, all rows can be displayed."
   ]
  },
  {
   "cell_type": "markdown",
   "id": "af8d59f4",
   "metadata": {
    "papermill": {
     "duration": 0.006979,
     "end_time": "2023-08-19T12:27:46.340924",
     "exception": false,
     "start_time": "2023-08-19T12:27:46.333945",
     "status": "completed"
    },
    "tags": []
   },
   "source": [
    "**Show the maximal system allowed rows in a DataFrame**"
   ]
  },
  {
   "cell_type": "code",
   "execution_count": 4,
   "id": "618aac70",
   "metadata": {
    "execution": {
     "iopub.execute_input": "2023-08-19T12:27:46.357297Z",
     "iopub.status.busy": "2023-08-19T12:27:46.356879Z",
     "iopub.status.idle": "2023-08-19T12:27:46.362344Z",
     "shell.execute_reply": "2023-08-19T12:27:46.361209Z"
    },
    "papermill": {
     "duration": 0.017004,
     "end_time": "2023-08-19T12:27:46.365121",
     "exception": false,
     "start_time": "2023-08-19T12:27:46.348117",
     "status": "completed"
    },
    "tags": []
   },
   "outputs": [
    {
     "name": "stdout",
     "output_type": "stream",
     "text": [
      "60\n"
     ]
    }
   ],
   "source": [
    "print(pd.options.display.max_rows)"
   ]
  },
  {
   "cell_type": "markdown",
   "id": "b23ad293",
   "metadata": {
    "papermill": {
     "duration": 0.00716,
     "end_time": "2023-08-19T12:27:46.379713",
     "exception": false,
     "start_time": "2023-08-19T12:27:46.372553",
     "status": "completed"
    },
    "tags": []
   },
   "source": [
    "**Change the system allowed maximal rows**"
   ]
  },
  {
   "cell_type": "code",
   "execution_count": 5,
   "id": "583f0b49",
   "metadata": {
    "execution": {
     "iopub.execute_input": "2023-08-19T12:27:46.396483Z",
     "iopub.status.busy": "2023-08-19T12:27:46.396029Z",
     "iopub.status.idle": "2023-08-19T12:27:46.401953Z",
     "shell.execute_reply": "2023-08-19T12:27:46.400783Z"
    },
    "papermill": {
     "duration": 0.017246,
     "end_time": "2023-08-19T12:27:46.404450",
     "exception": false,
     "start_time": "2023-08-19T12:27:46.387204",
     "status": "completed"
    },
    "tags": []
   },
   "outputs": [],
   "source": [
    "pd.options.display.max_rows = 30"
   ]
  },
  {
   "cell_type": "code",
   "execution_count": 6,
   "id": "f52020db",
   "metadata": {
    "execution": {
     "iopub.execute_input": "2023-08-19T12:27:46.422036Z",
     "iopub.status.busy": "2023-08-19T12:27:46.421638Z",
     "iopub.status.idle": "2023-08-19T12:27:46.437577Z",
     "shell.execute_reply": "2023-08-19T12:27:46.436185Z"
    },
    "papermill": {
     "duration": 0.027691,
     "end_time": "2023-08-19T12:27:46.440051",
     "exception": false,
     "start_time": "2023-08-19T12:27:46.412360",
     "status": "completed"
    },
    "tags": []
   },
   "outputs": [
    {
     "name": "stdout",
     "output_type": "stream",
     "text": [
      "Display Content of the DataFrame:\n",
      "      year        income\n",
      "0   1970   3399.299037\n",
      "1   1971   3768.297935\n",
      "2   1972   4251.175484\n",
      "3   1973   4804.463248\n",
      "4   1974   5576.514583\n",
      "..   ...           ...\n",
      "42  2012  42665.255970\n",
      "43  2013  42676.468370\n",
      "44  2014  41039.893600\n",
      "45  2015  35175.188980\n",
      "46  2016  34229.193630\n",
      "\n",
      "[47 rows x 2 columns]\n"
     ]
    }
   ],
   "source": [
    "print(\"Display Content of the DataFrame:\\n \", df)"
   ]
  },
  {
   "cell_type": "markdown",
   "id": "5db62b19",
   "metadata": {
    "papermill": {
     "duration": 0.007186,
     "end_time": "2023-08-19T12:27:46.454898",
     "exception": false,
     "start_time": "2023-08-19T12:27:46.447712",
     "status": "completed"
    },
    "tags": []
   },
   "source": [
    "**Show the first 5 rows of a DataFrame using head() method**"
   ]
  },
  {
   "cell_type": "code",
   "execution_count": 7,
   "id": "ad2f936f",
   "metadata": {
    "execution": {
     "iopub.execute_input": "2023-08-19T12:27:46.472321Z",
     "iopub.status.busy": "2023-08-19T12:27:46.471761Z",
     "iopub.status.idle": "2023-08-19T12:27:46.486140Z",
     "shell.execute_reply": "2023-08-19T12:27:46.484931Z"
    },
    "papermill": {
     "duration": 0.026164,
     "end_time": "2023-08-19T12:27:46.488643",
     "exception": false,
     "start_time": "2023-08-19T12:27:46.462479",
     "status": "completed"
    },
    "tags": []
   },
   "outputs": [
    {
     "data": {
      "text/html": [
       "<div>\n",
       "<style scoped>\n",
       "    .dataframe tbody tr th:only-of-type {\n",
       "        vertical-align: middle;\n",
       "    }\n",
       "\n",
       "    .dataframe tbody tr th {\n",
       "        vertical-align: top;\n",
       "    }\n",
       "\n",
       "    .dataframe thead th {\n",
       "        text-align: right;\n",
       "    }\n",
       "</style>\n",
       "<table border=\"1\" class=\"dataframe\">\n",
       "  <thead>\n",
       "    <tr style=\"text-align: right;\">\n",
       "      <th></th>\n",
       "      <th>year</th>\n",
       "      <th>income</th>\n",
       "    </tr>\n",
       "  </thead>\n",
       "  <tbody>\n",
       "    <tr>\n",
       "      <th>0</th>\n",
       "      <td>1970</td>\n",
       "      <td>3399.299037</td>\n",
       "    </tr>\n",
       "    <tr>\n",
       "      <th>1</th>\n",
       "      <td>1971</td>\n",
       "      <td>3768.297935</td>\n",
       "    </tr>\n",
       "    <tr>\n",
       "      <th>2</th>\n",
       "      <td>1972</td>\n",
       "      <td>4251.175484</td>\n",
       "    </tr>\n",
       "    <tr>\n",
       "      <th>3</th>\n",
       "      <td>1973</td>\n",
       "      <td>4804.463248</td>\n",
       "    </tr>\n",
       "    <tr>\n",
       "      <th>4</th>\n",
       "      <td>1974</td>\n",
       "      <td>5576.514583</td>\n",
       "    </tr>\n",
       "  </tbody>\n",
       "</table>\n",
       "</div>"
      ],
      "text/plain": [
       "   year       income\n",
       "0  1970  3399.299037\n",
       "1  1971  3768.297935\n",
       "2  1972  4251.175484\n",
       "3  1973  4804.463248\n",
       "4  1974  5576.514583"
      ]
     },
     "execution_count": 7,
     "metadata": {},
     "output_type": "execute_result"
    }
   ],
   "source": [
    "df.head()"
   ]
  },
  {
   "cell_type": "markdown",
   "id": "0ca796f0",
   "metadata": {
    "papermill": {
     "duration": 0.007612,
     "end_time": "2023-08-19T12:27:46.504281",
     "exception": false,
     "start_time": "2023-08-19T12:27:46.496669",
     "status": "completed"
    },
    "tags": []
   },
   "source": [
    "**Show the information of a DataFrame**"
   ]
  },
  {
   "cell_type": "code",
   "execution_count": 8,
   "id": "c90f4e9c",
   "metadata": {
    "execution": {
     "iopub.execute_input": "2023-08-19T12:27:46.522441Z",
     "iopub.status.busy": "2023-08-19T12:27:46.522001Z",
     "iopub.status.idle": "2023-08-19T12:27:46.550427Z",
     "shell.execute_reply": "2023-08-19T12:27:46.549005Z"
    },
    "papermill": {
     "duration": 0.040733,
     "end_time": "2023-08-19T12:27:46.552939",
     "exception": false,
     "start_time": "2023-08-19T12:27:46.512206",
     "status": "completed"
    },
    "tags": []
   },
   "outputs": [
    {
     "name": "stdout",
     "output_type": "stream",
     "text": [
      "<class 'pandas.core.frame.DataFrame'>\n",
      "RangeIndex: 47 entries, 0 to 46\n",
      "Data columns (total 2 columns):\n",
      " #   Column  Non-Null Count  Dtype  \n",
      "---  ------  --------------  -----  \n",
      " 0   year    47 non-null     int64  \n",
      " 1   income  47 non-null     float64\n",
      "dtypes: float64(1), int64(1)\n",
      "memory usage: 880.0 bytes\n"
     ]
    }
   ],
   "source": [
    "df.info()"
   ]
  },
  {
   "cell_type": "markdown",
   "id": "88594df5",
   "metadata": {
    "papermill": {
     "duration": 0.008556,
     "end_time": "2023-08-19T12:27:46.569505",
     "exception": false,
     "start_time": "2023-08-19T12:27:46.560949",
     "status": "completed"
    },
    "tags": []
   },
   "source": [
    "**Generate descriptive statstics of a DataFrame**"
   ]
  },
  {
   "cell_type": "code",
   "execution_count": 9,
   "id": "3548106d",
   "metadata": {
    "execution": {
     "iopub.execute_input": "2023-08-19T12:27:46.588815Z",
     "iopub.status.busy": "2023-08-19T12:27:46.587885Z",
     "iopub.status.idle": "2023-08-19T12:27:46.608604Z",
     "shell.execute_reply": "2023-08-19T12:27:46.607264Z"
    },
    "papermill": {
     "duration": 0.033115,
     "end_time": "2023-08-19T12:27:46.611504",
     "exception": false,
     "start_time": "2023-08-19T12:27:46.578389",
     "status": "completed"
    },
    "tags": []
   },
   "outputs": [
    {
     "data": {
      "text/html": [
       "<div>\n",
       "<style scoped>\n",
       "    .dataframe tbody tr th:only-of-type {\n",
       "        vertical-align: middle;\n",
       "    }\n",
       "\n",
       "    .dataframe tbody tr th {\n",
       "        vertical-align: top;\n",
       "    }\n",
       "\n",
       "    .dataframe thead th {\n",
       "        text-align: right;\n",
       "    }\n",
       "</style>\n",
       "<table border=\"1\" class=\"dataframe\">\n",
       "  <thead>\n",
       "    <tr style=\"text-align: right;\">\n",
       "      <th></th>\n",
       "      <th>year</th>\n",
       "      <th>income</th>\n",
       "    </tr>\n",
       "  </thead>\n",
       "  <tbody>\n",
       "    <tr>\n",
       "      <th>count</th>\n",
       "      <td>47.000000</td>\n",
       "      <td>47.000000</td>\n",
       "    </tr>\n",
       "    <tr>\n",
       "      <th>mean</th>\n",
       "      <td>1993.000000</td>\n",
       "      <td>18920.137063</td>\n",
       "    </tr>\n",
       "    <tr>\n",
       "      <th>std</th>\n",
       "      <td>13.711309</td>\n",
       "      <td>12034.679438</td>\n",
       "    </tr>\n",
       "    <tr>\n",
       "      <th>min</th>\n",
       "      <td>1970.000000</td>\n",
       "      <td>3399.299037</td>\n",
       "    </tr>\n",
       "    <tr>\n",
       "      <th>25%</th>\n",
       "      <td>1981.500000</td>\n",
       "      <td>9526.914515</td>\n",
       "    </tr>\n",
       "    <tr>\n",
       "      <th>50%</th>\n",
       "      <td>1993.000000</td>\n",
       "      <td>16426.725480</td>\n",
       "    </tr>\n",
       "    <tr>\n",
       "      <th>75%</th>\n",
       "      <td>2004.500000</td>\n",
       "      <td>27458.601420</td>\n",
       "    </tr>\n",
       "    <tr>\n",
       "      <th>max</th>\n",
       "      <td>2016.000000</td>\n",
       "      <td>42676.468370</td>\n",
       "    </tr>\n",
       "  </tbody>\n",
       "</table>\n",
       "</div>"
      ],
      "text/plain": [
       "              year        income\n",
       "count    47.000000     47.000000\n",
       "mean   1993.000000  18920.137063\n",
       "std      13.711309  12034.679438\n",
       "min    1970.000000   3399.299037\n",
       "25%    1981.500000   9526.914515\n",
       "50%    1993.000000  16426.725480\n",
       "75%    2004.500000  27458.601420\n",
       "max    2016.000000  42676.468370"
      ]
     },
     "execution_count": 9,
     "metadata": {},
     "output_type": "execute_result"
    }
   ],
   "source": [
    "df.describe()"
   ]
  },
  {
   "cell_type": "markdown",
   "id": "a92794bf",
   "metadata": {
    "papermill": {
     "duration": 0.008111,
     "end_time": "2023-08-19T12:27:46.629443",
     "exception": false,
     "start_time": "2023-08-19T12:27:46.621332",
     "status": "completed"
    },
    "tags": []
   },
   "source": [
    "---"
   ]
  },
  {
   "cell_type": "markdown",
   "id": "2a05dfc5",
   "metadata": {
    "papermill": {
     "duration": 0.007845,
     "end_time": "2023-08-19T12:27:46.645633",
     "exception": false,
     "start_time": "2023-08-19T12:27:46.637788",
     "status": "completed"
    },
    "tags": []
   },
   "source": [
    "### Creating new DataFrame\n",
    "A DataFrame can be created by **df.DataFrame()** method.\n",
    "\n",
    "The content of a DataFrame is constructed using Python **dictionary-list**, where the **key** in the dictionary is the **column name** of the DataFrame, and the **values** are **a list of entries**."
   ]
  },
  {
   "cell_type": "code",
   "execution_count": 10,
   "id": "a4af262a",
   "metadata": {
    "execution": {
     "iopub.execute_input": "2023-08-19T12:27:46.663726Z",
     "iopub.status.busy": "2023-08-19T12:27:46.663323Z",
     "iopub.status.idle": "2023-08-19T12:27:46.673949Z",
     "shell.execute_reply": "2023-08-19T12:27:46.672777Z"
    },
    "papermill": {
     "duration": 0.022761,
     "end_time": "2023-08-19T12:27:46.676584",
     "exception": false,
     "start_time": "2023-08-19T12:27:46.653823",
     "status": "completed"
    },
    "tags": []
   },
   "outputs": [
    {
     "data": {
      "text/html": [
       "<div>\n",
       "<style scoped>\n",
       "    .dataframe tbody tr th:only-of-type {\n",
       "        vertical-align: middle;\n",
       "    }\n",
       "\n",
       "    .dataframe tbody tr th {\n",
       "        vertical-align: top;\n",
       "    }\n",
       "\n",
       "    .dataframe thead th {\n",
       "        text-align: right;\n",
       "    }\n",
       "</style>\n",
       "<table border=\"1\" class=\"dataframe\">\n",
       "  <thead>\n",
       "    <tr style=\"text-align: right;\">\n",
       "      <th></th>\n",
       "      <th>year</th>\n",
       "      <th>income</th>\n",
       "    </tr>\n",
       "  </thead>\n",
       "  <tbody>\n",
       "    <tr>\n",
       "      <th>0</th>\n",
       "      <td>2020</td>\n",
       "      <td>36000</td>\n",
       "    </tr>\n",
       "    <tr>\n",
       "      <th>1</th>\n",
       "      <td>2021</td>\n",
       "      <td>38000</td>\n",
       "    </tr>\n",
       "  </tbody>\n",
       "</table>\n",
       "</div>"
      ],
      "text/plain": [
       "   year  income\n",
       "0  2020   36000\n",
       "1  2021   38000"
      ]
     },
     "execution_count": 10,
     "metadata": {},
     "output_type": "execute_result"
    }
   ],
   "source": [
    "pd.DataFrame({\"year\":[2020,2021],\n",
    "              \"income\":[36000,38000]})"
   ]
  },
  {
   "cell_type": "markdown",
   "id": "755d2569",
   "metadata": {
    "papermill": {
     "duration": 0.008229,
     "end_time": "2023-08-19T12:27:46.693509",
     "exception": false,
     "start_time": "2023-08-19T12:27:46.685280",
     "status": "completed"
    },
    "tags": []
   },
   "source": [
    "By default, the row index of a new DataFrame is acsending from 0(0,1,2,3,...).\n",
    "It's also possible to assign the desired row index when creating a DataFrame unsing `index`."
   ]
  },
  {
   "cell_type": "code",
   "execution_count": 11,
   "id": "ad34c0aa",
   "metadata": {
    "execution": {
     "iopub.execute_input": "2023-08-19T12:27:46.712083Z",
     "iopub.status.busy": "2023-08-19T12:27:46.711550Z",
     "iopub.status.idle": "2023-08-19T12:27:46.723102Z",
     "shell.execute_reply": "2023-08-19T12:27:46.722325Z"
    },
    "papermill": {
     "duration": 0.023268,
     "end_time": "2023-08-19T12:27:46.725156",
     "exception": false,
     "start_time": "2023-08-19T12:27:46.701888",
     "status": "completed"
    },
    "tags": []
   },
   "outputs": [
    {
     "data": {
      "text/html": [
       "<div>\n",
       "<style scoped>\n",
       "    .dataframe tbody tr th:only-of-type {\n",
       "        vertical-align: middle;\n",
       "    }\n",
       "\n",
       "    .dataframe tbody tr th {\n",
       "        vertical-align: top;\n",
       "    }\n",
       "\n",
       "    .dataframe thead th {\n",
       "        text-align: right;\n",
       "    }\n",
       "</style>\n",
       "<table border=\"1\" class=\"dataframe\">\n",
       "  <thead>\n",
       "    <tr style=\"text-align: right;\">\n",
       "      <th></th>\n",
       "      <th>year</th>\n",
       "      <th>income</th>\n",
       "    </tr>\n",
       "  </thead>\n",
       "  <tbody>\n",
       "    <tr>\n",
       "      <th>1</th>\n",
       "      <td>2020</td>\n",
       "      <td>36000</td>\n",
       "    </tr>\n",
       "    <tr>\n",
       "      <th>2</th>\n",
       "      <td>2021</td>\n",
       "      <td>38000</td>\n",
       "    </tr>\n",
       "  </tbody>\n",
       "</table>\n",
       "</div>"
      ],
      "text/plain": [
       "   year  income\n",
       "1  2020   36000\n",
       "2  2021   38000"
      ]
     },
     "execution_count": 11,
     "metadata": {},
     "output_type": "execute_result"
    }
   ],
   "source": [
    "pd.DataFrame({\"year\":[2020,2021],\n",
    "              \"income\":[36000,38000]},\n",
    "               index = [1,2])"
   ]
  }
 ],
 "metadata": {
  "kernelspec": {
   "display_name": "Python 3",
   "language": "python",
   "name": "python3"
  },
  "language_info": {
   "codemirror_mode": {
    "name": "ipython",
    "version": 3
   },
   "file_extension": ".py",
   "mimetype": "text/x-python",
   "name": "python",
   "nbconvert_exporter": "python",
   "pygments_lexer": "ipython3",
   "version": "3.10.12"
  },
  "papermill": {
   "default_parameters": {},
   "duration": 13.071632,
   "end_time": "2023-08-19T12:27:47.656538",
   "environment_variables": {},
   "exception": null,
   "input_path": "__notebook__.ipynb",
   "output_path": "__notebook__.ipynb",
   "parameters": {},
   "start_time": "2023-08-19T12:27:34.584906",
   "version": "2.4.0"
  }
 },
 "nbformat": 4,
 "nbformat_minor": 5
}
