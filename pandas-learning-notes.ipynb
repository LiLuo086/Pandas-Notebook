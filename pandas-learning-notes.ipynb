{
 "cells": [
  {
   "cell_type": "markdown",
   "id": "5ca308e7",
   "metadata": {
    "papermill": {
     "duration": 0.012127,
     "end_time": "2023-10-09T21:07:34.260519",
     "exception": false,
     "start_time": "2023-10-09T21:07:34.248392",
     "status": "completed"
    },
    "tags": []
   },
   "source": [
    "**Pandas** stands for “Python Data Analysis” Library, is the most popular Python library for data analysis."
   ]
  },
  {
   "cell_type": "markdown",
   "id": "98640ccb",
   "metadata": {
    "papermill": {
     "duration": 0.005658,
     "end_time": "2023-10-09T21:07:34.275129",
     "exception": false,
     "start_time": "2023-10-09T21:07:34.269471",
     "status": "completed"
    },
    "tags": []
   },
   "source": [
    "Import **pandas** using alias **pd**"
   ]
  },
  {
   "cell_type": "code",
   "execution_count": 1,
   "id": "cc6a75f6",
   "metadata": {
    "execution": {
     "iopub.execute_input": "2023-10-09T21:07:34.289182Z",
     "iopub.status.busy": "2023-10-09T21:07:34.288660Z",
     "iopub.status.idle": "2023-10-09T21:07:34.301243Z",
     "shell.execute_reply": "2023-10-09T21:07:34.299989Z"
    },
    "papermill": {
     "duration": 0.022722,
     "end_time": "2023-10-09T21:07:34.304074",
     "exception": false,
     "start_time": "2023-10-09T21:07:34.281352",
     "status": "completed"
    },
    "tags": []
   },
   "outputs": [],
   "source": [
    "import pandas as pd "
   ]
  },
  {
   "cell_type": "markdown",
   "id": "4b661624",
   "metadata": {
    "papermill": {
     "duration": 0.005855,
     "end_time": "2023-10-09T21:07:34.316374",
     "exception": false,
     "start_time": "2023-10-09T21:07:34.310519",
     "status": "completed"
    },
    "tags": []
   },
   "source": [
    "\n",
    "### Working with data that already exists"
   ]
  },
  {
   "cell_type": "markdown",
   "id": "3c1f69b6",
   "metadata": {
    "papermill": {
     "duration": 0.005505,
     "end_time": "2023-10-09T21:07:34.328982",
     "exception": false,
     "start_time": "2023-10-09T21:07:34.323477",
     "status": "completed"
    },
    "tags": []
   },
   "source": [
    "Load data stored in a csv file into a DataFrame using **pd.read_scv()** method"
   ]
  },
  {
   "cell_type": "code",
   "execution_count": 2,
   "id": "e66b7339",
   "metadata": {
    "execution": {
     "iopub.execute_input": "2023-10-09T21:07:34.345653Z",
     "iopub.status.busy": "2023-10-09T21:07:34.345268Z",
     "iopub.status.idle": "2023-10-09T21:07:34.364453Z",
     "shell.execute_reply": "2023-10-09T21:07:34.363687Z"
    },
    "papermill": {
     "duration": 0.028775,
     "end_time": "2023-10-09T21:07:34.366710",
     "exception": false,
     "start_time": "2023-10-09T21:07:34.337935",
     "status": "completed"
    },
    "tags": []
   },
   "outputs": [],
   "source": [
    "df = pd.read_csv('/kaggle/input/canada-per-capita-income/Canada_per_capita_income.csv') "
   ]
  },
  {
   "cell_type": "markdown",
   "id": "6174018f",
   "metadata": {
    "papermill": {
     "duration": 0.005678,
     "end_time": "2023-10-09T21:07:34.378556",
     "exception": false,
     "start_time": "2023-10-09T21:07:34.372878",
     "status": "completed"
    },
    "tags": []
   },
   "source": [
    "**Show the DataFrame shape**, such as number of rows and columns"
   ]
  },
  {
   "cell_type": "code",
   "execution_count": 3,
   "id": "a1906e78",
   "metadata": {
    "execution": {
     "iopub.execute_input": "2023-10-09T21:07:34.392108Z",
     "iopub.status.busy": "2023-10-09T21:07:34.391295Z",
     "iopub.status.idle": "2023-10-09T21:07:34.397323Z",
     "shell.execute_reply": "2023-10-09T21:07:34.396325Z"
    },
    "papermill": {
     "duration": 0.015372,
     "end_time": "2023-10-09T21:07:34.399675",
     "exception": false,
     "start_time": "2023-10-09T21:07:34.384303",
     "status": "completed"
    },
    "tags": []
   },
   "outputs": [
    {
     "name": "stdout",
     "output_type": "stream",
     "text": [
      "The shape of the DataFrame:  (47, 2)\n"
     ]
    }
   ],
   "source": [
    "print(\"The shape of the DataFrame: \",df.shape)"
   ]
  },
  {
   "cell_type": "markdown",
   "id": "eb3260ea",
   "metadata": {
    "papermill": {
     "duration": 0.005657,
     "end_time": "2023-10-09T21:07:34.411455",
     "exception": false,
     "start_time": "2023-10-09T21:07:34.405798",
     "status": "completed"
    },
    "tags": []
   },
   "source": [
    "Pandas only return the **first 5 rows** and **last 5 rows** and **headers** of a DataFrame, if the total rows of a DataFrame is less the the maximal rows allowed by system.\n",
    "\n",
    "If the system allowed maximal rows is larger than the number of rows of a DataFrame, all rows can be displayed."
   ]
  },
  {
   "cell_type": "markdown",
   "id": "30007ae4",
   "metadata": {
    "papermill": {
     "duration": 0.00565,
     "end_time": "2023-10-09T21:07:34.422983",
     "exception": false,
     "start_time": "2023-10-09T21:07:34.417333",
     "status": "completed"
    },
    "tags": []
   },
   "source": [
    "**Show the maximal system allowed rows in a DataFrame**"
   ]
  },
  {
   "cell_type": "code",
   "execution_count": 4,
   "id": "bc8921af",
   "metadata": {
    "execution": {
     "iopub.execute_input": "2023-10-09T21:07:34.436240Z",
     "iopub.status.busy": "2023-10-09T21:07:34.435913Z",
     "iopub.status.idle": "2023-10-09T21:07:34.441125Z",
     "shell.execute_reply": "2023-10-09T21:07:34.439955Z"
    },
    "papermill": {
     "duration": 0.014832,
     "end_time": "2023-10-09T21:07:34.443575",
     "exception": false,
     "start_time": "2023-10-09T21:07:34.428743",
     "status": "completed"
    },
    "tags": []
   },
   "outputs": [
    {
     "name": "stdout",
     "output_type": "stream",
     "text": [
      "60\n"
     ]
    }
   ],
   "source": [
    "print(pd.options.display.max_rows)"
   ]
  },
  {
   "cell_type": "markdown",
   "id": "b454cd71",
   "metadata": {
    "papermill": {
     "duration": 0.006509,
     "end_time": "2023-10-09T21:07:34.456210",
     "exception": false,
     "start_time": "2023-10-09T21:07:34.449701",
     "status": "completed"
    },
    "tags": []
   },
   "source": [
    "**Change the system allowed maximal rows**"
   ]
  },
  {
   "cell_type": "code",
   "execution_count": 5,
   "id": "151e7cf3",
   "metadata": {
    "execution": {
     "iopub.execute_input": "2023-10-09T21:07:34.470503Z",
     "iopub.status.busy": "2023-10-09T21:07:34.470155Z",
     "iopub.status.idle": "2023-10-09T21:07:34.474957Z",
     "shell.execute_reply": "2023-10-09T21:07:34.473810Z"
    },
    "papermill": {
     "duration": 0.014612,
     "end_time": "2023-10-09T21:07:34.476972",
     "exception": false,
     "start_time": "2023-10-09T21:07:34.462360",
     "status": "completed"
    },
    "tags": []
   },
   "outputs": [],
   "source": [
    "pd.options.display.max_rows = 30"
   ]
  },
  {
   "cell_type": "markdown",
   "id": "4216ba7b",
   "metadata": {
    "papermill": {
     "duration": 0.006651,
     "end_time": "2023-10-09T21:07:34.490084",
     "exception": false,
     "start_time": "2023-10-09T21:07:34.483433",
     "status": "completed"
    },
    "tags": []
   },
   "source": [
    "**Show all columns in the dataframe**"
   ]
  },
  {
   "cell_type": "code",
   "execution_count": 6,
   "id": "7d131aec",
   "metadata": {
    "execution": {
     "iopub.execute_input": "2023-10-09T21:07:34.504563Z",
     "iopub.status.busy": "2023-10-09T21:07:34.504243Z",
     "iopub.status.idle": "2023-10-09T21:07:34.508469Z",
     "shell.execute_reply": "2023-10-09T21:07:34.507520Z"
    },
    "papermill": {
     "duration": 0.013587,
     "end_time": "2023-10-09T21:07:34.510571",
     "exception": false,
     "start_time": "2023-10-09T21:07:34.496984",
     "status": "completed"
    },
    "tags": []
   },
   "outputs": [],
   "source": [
    "pd.set_option('display.max_columns', None)"
   ]
  },
  {
   "cell_type": "code",
   "execution_count": 7,
   "id": "ff0cf827",
   "metadata": {
    "execution": {
     "iopub.execute_input": "2023-10-09T21:07:34.525543Z",
     "iopub.status.busy": "2023-10-09T21:07:34.524478Z",
     "iopub.status.idle": "2023-10-09T21:07:34.542301Z",
     "shell.execute_reply": "2023-10-09T21:07:34.541182Z"
    },
    "papermill": {
     "duration": 0.027433,
     "end_time": "2023-10-09T21:07:34.544524",
     "exception": false,
     "start_time": "2023-10-09T21:07:34.517091",
     "status": "completed"
    },
    "tags": []
   },
   "outputs": [
    {
     "name": "stdout",
     "output_type": "stream",
     "text": [
      "Display Content of the DataFrame:\n",
      "      year        income\n",
      "0   1970   3399.299037\n",
      "1   1971   3768.297935\n",
      "2   1972   4251.175484\n",
      "3   1973   4804.463248\n",
      "4   1974   5576.514583\n",
      "..   ...           ...\n",
      "42  2012  42665.255970\n",
      "43  2013  42676.468370\n",
      "44  2014  41039.893600\n",
      "45  2015  35175.188980\n",
      "46  2016  34229.193630\n",
      "\n",
      "[47 rows x 2 columns]\n"
     ]
    }
   ],
   "source": [
    "print(\"Display Content of the DataFrame:\\n \", df)"
   ]
  },
  {
   "cell_type": "markdown",
   "id": "efb2fec2",
   "metadata": {
    "papermill": {
     "duration": 0.006146,
     "end_time": "2023-10-09T21:07:34.557981",
     "exception": false,
     "start_time": "2023-10-09T21:07:34.551835",
     "status": "completed"
    },
    "tags": []
   },
   "source": [
    "**Show the first 5 rows of a DataFrame using head() method**"
   ]
  },
  {
   "cell_type": "code",
   "execution_count": 8,
   "id": "8add6896",
   "metadata": {
    "execution": {
     "iopub.execute_input": "2023-10-09T21:07:34.574453Z",
     "iopub.status.busy": "2023-10-09T21:07:34.573901Z",
     "iopub.status.idle": "2023-10-09T21:07:34.585401Z",
     "shell.execute_reply": "2023-10-09T21:07:34.584338Z"
    },
    "papermill": {
     "duration": 0.022022,
     "end_time": "2023-10-09T21:07:34.587822",
     "exception": false,
     "start_time": "2023-10-09T21:07:34.565800",
     "status": "completed"
    },
    "tags": []
   },
   "outputs": [
    {
     "data": {
      "text/html": [
       "<div>\n",
       "<style scoped>\n",
       "    .dataframe tbody tr th:only-of-type {\n",
       "        vertical-align: middle;\n",
       "    }\n",
       "\n",
       "    .dataframe tbody tr th {\n",
       "        vertical-align: top;\n",
       "    }\n",
       "\n",
       "    .dataframe thead th {\n",
       "        text-align: right;\n",
       "    }\n",
       "</style>\n",
       "<table border=\"1\" class=\"dataframe\">\n",
       "  <thead>\n",
       "    <tr style=\"text-align: right;\">\n",
       "      <th></th>\n",
       "      <th>year</th>\n",
       "      <th>income</th>\n",
       "    </tr>\n",
       "  </thead>\n",
       "  <tbody>\n",
       "    <tr>\n",
       "      <th>0</th>\n",
       "      <td>1970</td>\n",
       "      <td>3399.299037</td>\n",
       "    </tr>\n",
       "    <tr>\n",
       "      <th>1</th>\n",
       "      <td>1971</td>\n",
       "      <td>3768.297935</td>\n",
       "    </tr>\n",
       "    <tr>\n",
       "      <th>2</th>\n",
       "      <td>1972</td>\n",
       "      <td>4251.175484</td>\n",
       "    </tr>\n",
       "    <tr>\n",
       "      <th>3</th>\n",
       "      <td>1973</td>\n",
       "      <td>4804.463248</td>\n",
       "    </tr>\n",
       "    <tr>\n",
       "      <th>4</th>\n",
       "      <td>1974</td>\n",
       "      <td>5576.514583</td>\n",
       "    </tr>\n",
       "  </tbody>\n",
       "</table>\n",
       "</div>"
      ],
      "text/plain": [
       "   year       income\n",
       "0  1970  3399.299037\n",
       "1  1971  3768.297935\n",
       "2  1972  4251.175484\n",
       "3  1973  4804.463248\n",
       "4  1974  5576.514583"
      ]
     },
     "execution_count": 8,
     "metadata": {},
     "output_type": "execute_result"
    }
   ],
   "source": [
    "df.head()"
   ]
  },
  {
   "cell_type": "markdown",
   "id": "c28fe767",
   "metadata": {
    "papermill": {
     "duration": 0.006429,
     "end_time": "2023-10-09T21:07:34.600971",
     "exception": false,
     "start_time": "2023-10-09T21:07:34.594542",
     "status": "completed"
    },
    "tags": []
   },
   "source": [
    "**Show the information of a DataFrame**"
   ]
  },
  {
   "cell_type": "code",
   "execution_count": 9,
   "id": "2c1d706a",
   "metadata": {
    "execution": {
     "iopub.execute_input": "2023-10-09T21:07:34.615325Z",
     "iopub.status.busy": "2023-10-09T21:07:34.614985Z",
     "iopub.status.idle": "2023-10-09T21:07:34.641827Z",
     "shell.execute_reply": "2023-10-09T21:07:34.640362Z"
    },
    "papermill": {
     "duration": 0.036686,
     "end_time": "2023-10-09T21:07:34.643998",
     "exception": false,
     "start_time": "2023-10-09T21:07:34.607312",
     "status": "completed"
    },
    "tags": []
   },
   "outputs": [
    {
     "name": "stdout",
     "output_type": "stream",
     "text": [
      "<class 'pandas.core.frame.DataFrame'>\n",
      "RangeIndex: 47 entries, 0 to 46\n",
      "Data columns (total 2 columns):\n",
      " #   Column  Non-Null Count  Dtype  \n",
      "---  ------  --------------  -----  \n",
      " 0   year    47 non-null     int64  \n",
      " 1   income  47 non-null     float64\n",
      "dtypes: float64(1), int64(1)\n",
      "memory usage: 880.0 bytes\n"
     ]
    }
   ],
   "source": [
    "df.info()"
   ]
  },
  {
   "cell_type": "markdown",
   "id": "1f7ea914",
   "metadata": {
    "papermill": {
     "duration": 0.006074,
     "end_time": "2023-10-09T21:07:34.656604",
     "exception": false,
     "start_time": "2023-10-09T21:07:34.650530",
     "status": "completed"
    },
    "tags": []
   },
   "source": [
    "**Generate descriptive statstics of a DataFrame**"
   ]
  },
  {
   "cell_type": "code",
   "execution_count": 10,
   "id": "67f7f314",
   "metadata": {
    "execution": {
     "iopub.execute_input": "2023-10-09T21:07:34.671331Z",
     "iopub.status.busy": "2023-10-09T21:07:34.670285Z",
     "iopub.status.idle": "2023-10-09T21:07:34.688194Z",
     "shell.execute_reply": "2023-10-09T21:07:34.687176Z"
    },
    "papermill": {
     "duration": 0.027329,
     "end_time": "2023-10-09T21:07:34.690256",
     "exception": false,
     "start_time": "2023-10-09T21:07:34.662927",
     "status": "completed"
    },
    "tags": []
   },
   "outputs": [
    {
     "data": {
      "text/html": [
       "<div>\n",
       "<style scoped>\n",
       "    .dataframe tbody tr th:only-of-type {\n",
       "        vertical-align: middle;\n",
       "    }\n",
       "\n",
       "    .dataframe tbody tr th {\n",
       "        vertical-align: top;\n",
       "    }\n",
       "\n",
       "    .dataframe thead th {\n",
       "        text-align: right;\n",
       "    }\n",
       "</style>\n",
       "<table border=\"1\" class=\"dataframe\">\n",
       "  <thead>\n",
       "    <tr style=\"text-align: right;\">\n",
       "      <th></th>\n",
       "      <th>year</th>\n",
       "      <th>income</th>\n",
       "    </tr>\n",
       "  </thead>\n",
       "  <tbody>\n",
       "    <tr>\n",
       "      <th>count</th>\n",
       "      <td>47.000000</td>\n",
       "      <td>47.000000</td>\n",
       "    </tr>\n",
       "    <tr>\n",
       "      <th>mean</th>\n",
       "      <td>1993.000000</td>\n",
       "      <td>18920.137063</td>\n",
       "    </tr>\n",
       "    <tr>\n",
       "      <th>std</th>\n",
       "      <td>13.711309</td>\n",
       "      <td>12034.679438</td>\n",
       "    </tr>\n",
       "    <tr>\n",
       "      <th>min</th>\n",
       "      <td>1970.000000</td>\n",
       "      <td>3399.299037</td>\n",
       "    </tr>\n",
       "    <tr>\n",
       "      <th>25%</th>\n",
       "      <td>1981.500000</td>\n",
       "      <td>9526.914515</td>\n",
       "    </tr>\n",
       "    <tr>\n",
       "      <th>50%</th>\n",
       "      <td>1993.000000</td>\n",
       "      <td>16426.725480</td>\n",
       "    </tr>\n",
       "    <tr>\n",
       "      <th>75%</th>\n",
       "      <td>2004.500000</td>\n",
       "      <td>27458.601420</td>\n",
       "    </tr>\n",
       "    <tr>\n",
       "      <th>max</th>\n",
       "      <td>2016.000000</td>\n",
       "      <td>42676.468370</td>\n",
       "    </tr>\n",
       "  </tbody>\n",
       "</table>\n",
       "</div>"
      ],
      "text/plain": [
       "              year        income\n",
       "count    47.000000     47.000000\n",
       "mean   1993.000000  18920.137063\n",
       "std      13.711309  12034.679438\n",
       "min    1970.000000   3399.299037\n",
       "25%    1981.500000   9526.914515\n",
       "50%    1993.000000  16426.725480\n",
       "75%    2004.500000  27458.601420\n",
       "max    2016.000000  42676.468370"
      ]
     },
     "execution_count": 10,
     "metadata": {},
     "output_type": "execute_result"
    }
   ],
   "source": [
    "df.describe()"
   ]
  },
  {
   "cell_type": "markdown",
   "id": "9ce1d6f4",
   "metadata": {
    "papermill": {
     "duration": 0.006185,
     "end_time": "2023-10-09T21:07:34.703075",
     "exception": false,
     "start_time": "2023-10-09T21:07:34.696890",
     "status": "completed"
    },
    "tags": []
   },
   "source": [
    "---"
   ]
  },
  {
   "cell_type": "markdown",
   "id": "89038a50",
   "metadata": {
    "papermill": {
     "duration": 0.006489,
     "end_time": "2023-10-09T21:07:34.716000",
     "exception": false,
     "start_time": "2023-10-09T21:07:34.709511",
     "status": "completed"
    },
    "tags": []
   },
   "source": [
    "### Creating new DataFrame\n",
    "A DataFrame can be created by **df.DataFrame()** method.\n",
    "\n",
    "The content of a DataFrame is constructed using Python **dictionary-list**, where the **key** in the dictionary is the **column name** of the DataFrame, and the **values** are **a list of entries**."
   ]
  },
  {
   "cell_type": "code",
   "execution_count": 11,
   "id": "170a76fc",
   "metadata": {
    "execution": {
     "iopub.execute_input": "2023-10-09T21:07:34.730656Z",
     "iopub.status.busy": "2023-10-09T21:07:34.730276Z",
     "iopub.status.idle": "2023-10-09T21:07:34.739962Z",
     "shell.execute_reply": "2023-10-09T21:07:34.739023Z"
    },
    "papermill": {
     "duration": 0.019617,
     "end_time": "2023-10-09T21:07:34.742007",
     "exception": false,
     "start_time": "2023-10-09T21:07:34.722390",
     "status": "completed"
    },
    "tags": []
   },
   "outputs": [
    {
     "data": {
      "text/html": [
       "<div>\n",
       "<style scoped>\n",
       "    .dataframe tbody tr th:only-of-type {\n",
       "        vertical-align: middle;\n",
       "    }\n",
       "\n",
       "    .dataframe tbody tr th {\n",
       "        vertical-align: top;\n",
       "    }\n",
       "\n",
       "    .dataframe thead th {\n",
       "        text-align: right;\n",
       "    }\n",
       "</style>\n",
       "<table border=\"1\" class=\"dataframe\">\n",
       "  <thead>\n",
       "    <tr style=\"text-align: right;\">\n",
       "      <th></th>\n",
       "      <th>year</th>\n",
       "      <th>income</th>\n",
       "    </tr>\n",
       "  </thead>\n",
       "  <tbody>\n",
       "    <tr>\n",
       "      <th>0</th>\n",
       "      <td>2020</td>\n",
       "      <td>36000</td>\n",
       "    </tr>\n",
       "    <tr>\n",
       "      <th>1</th>\n",
       "      <td>2021</td>\n",
       "      <td>38000</td>\n",
       "    </tr>\n",
       "  </tbody>\n",
       "</table>\n",
       "</div>"
      ],
      "text/plain": [
       "   year  income\n",
       "0  2020   36000\n",
       "1  2021   38000"
      ]
     },
     "execution_count": 11,
     "metadata": {},
     "output_type": "execute_result"
    }
   ],
   "source": [
    "pd.DataFrame({\"year\":[2020,2021],\n",
    "              \"income\":[36000,38000]})"
   ]
  },
  {
   "cell_type": "markdown",
   "id": "af4a160f",
   "metadata": {
    "papermill": {
     "duration": 0.006587,
     "end_time": "2023-10-09T21:07:34.755562",
     "exception": false,
     "start_time": "2023-10-09T21:07:34.748975",
     "status": "completed"
    },
    "tags": []
   },
   "source": [
    "By default, the row index of a new DataFrame is acsending from 0(0,1,2,3,...).\n",
    "It's also possible to assign the desired row index when creating a DataFrame unsing `index`."
   ]
  },
  {
   "cell_type": "code",
   "execution_count": 12,
   "id": "5c5c6273",
   "metadata": {
    "execution": {
     "iopub.execute_input": "2023-10-09T21:07:34.770557Z",
     "iopub.status.busy": "2023-10-09T21:07:34.770202Z",
     "iopub.status.idle": "2023-10-09T21:07:34.779350Z",
     "shell.execute_reply": "2023-10-09T21:07:34.778207Z"
    },
    "papermill": {
     "duration": 0.019312,
     "end_time": "2023-10-09T21:07:34.781599",
     "exception": false,
     "start_time": "2023-10-09T21:07:34.762287",
     "status": "completed"
    },
    "tags": []
   },
   "outputs": [
    {
     "data": {
      "text/html": [
       "<div>\n",
       "<style scoped>\n",
       "    .dataframe tbody tr th:only-of-type {\n",
       "        vertical-align: middle;\n",
       "    }\n",
       "\n",
       "    .dataframe tbody tr th {\n",
       "        vertical-align: top;\n",
       "    }\n",
       "\n",
       "    .dataframe thead th {\n",
       "        text-align: right;\n",
       "    }\n",
       "</style>\n",
       "<table border=\"1\" class=\"dataframe\">\n",
       "  <thead>\n",
       "    <tr style=\"text-align: right;\">\n",
       "      <th></th>\n",
       "      <th>year</th>\n",
       "      <th>income</th>\n",
       "    </tr>\n",
       "  </thead>\n",
       "  <tbody>\n",
       "    <tr>\n",
       "      <th>1</th>\n",
       "      <td>2020</td>\n",
       "      <td>36000</td>\n",
       "    </tr>\n",
       "    <tr>\n",
       "      <th>2</th>\n",
       "      <td>2021</td>\n",
       "      <td>38000</td>\n",
       "    </tr>\n",
       "  </tbody>\n",
       "</table>\n",
       "</div>"
      ],
      "text/plain": [
       "   year  income\n",
       "1  2020   36000\n",
       "2  2021   38000"
      ]
     },
     "execution_count": 12,
     "metadata": {},
     "output_type": "execute_result"
    }
   ],
   "source": [
    "pd.DataFrame({\"year\":[2020,2021],\n",
    "              \"income\":[36000,38000]},\n",
    "               index = [1,2])"
   ]
  },
  {
   "cell_type": "markdown",
   "id": "384ccef7",
   "metadata": {
    "papermill": {
     "duration": 0.006343,
     "end_time": "2023-10-09T21:07:34.794723",
     "exception": false,
     "start_time": "2023-10-09T21:07:34.788380",
     "status": "completed"
    },
    "tags": []
   },
   "source": [
    "---"
   ]
  },
  {
   "cell_type": "markdown",
   "id": "7a482189",
   "metadata": {
    "papermill": {
     "duration": 0.006285,
     "end_time": "2023-10-09T21:07:34.807634",
     "exception": false,
     "start_time": "2023-10-09T21:07:34.801349",
     "status": "completed"
    },
    "tags": []
   },
   "source": [
    "### Indexing and selecting data"
   ]
  },
  {
   "cell_type": "markdown",
   "id": "3e8eaeed",
   "metadata": {
    "papermill": {
     "duration": 0.006228,
     "end_time": "2023-10-09T21:07:34.820392",
     "exception": false,
     "start_time": "2023-10-09T21:07:34.814164",
     "status": "completed"
    },
    "tags": []
   },
   "source": [
    "Access column of a DataFrame using `.` or `[]` operator."
   ]
  },
  {
   "cell_type": "code",
   "execution_count": 13,
   "id": "f5bc52de",
   "metadata": {
    "execution": {
     "iopub.execute_input": "2023-10-09T21:07:34.835178Z",
     "iopub.status.busy": "2023-10-09T21:07:34.834842Z",
     "iopub.status.idle": "2023-10-09T21:07:34.842244Z",
     "shell.execute_reply": "2023-10-09T21:07:34.841200Z"
    },
    "papermill": {
     "duration": 0.017274,
     "end_time": "2023-10-09T21:07:34.844202",
     "exception": false,
     "start_time": "2023-10-09T21:07:34.826928",
     "status": "completed"
    },
    "tags": []
   },
   "outputs": [
    {
     "data": {
      "text/plain": [
       "0     1970\n",
       "1     1971\n",
       "2     1972\n",
       "3     1973\n",
       "4     1974\n",
       "      ... \n",
       "42    2012\n",
       "43    2013\n",
       "44    2014\n",
       "45    2015\n",
       "46    2016\n",
       "Name: year, Length: 47, dtype: int64"
      ]
     },
     "execution_count": 13,
     "metadata": {},
     "output_type": "execute_result"
    }
   ],
   "source": [
    "X = df.year\n",
    "X"
   ]
  },
  {
   "cell_type": "code",
   "execution_count": 14,
   "id": "7df4b244",
   "metadata": {
    "execution": {
     "iopub.execute_input": "2023-10-09T21:07:34.859460Z",
     "iopub.status.busy": "2023-10-09T21:07:34.859130Z",
     "iopub.status.idle": "2023-10-09T21:07:34.865302Z",
     "shell.execute_reply": "2023-10-09T21:07:34.864323Z"
    },
    "papermill": {
     "duration": 0.016205,
     "end_time": "2023-10-09T21:07:34.867235",
     "exception": false,
     "start_time": "2023-10-09T21:07:34.851030",
     "status": "completed"
    },
    "tags": []
   },
   "outputs": [
    {
     "data": {
      "text/plain": [
       "pandas.core.series.Series"
      ]
     },
     "execution_count": 14,
     "metadata": {},
     "output_type": "execute_result"
    }
   ],
   "source": [
    "type(X)"
   ]
  },
  {
   "cell_type": "code",
   "execution_count": 15,
   "id": "373d4b94",
   "metadata": {
    "execution": {
     "iopub.execute_input": "2023-10-09T21:07:34.883083Z",
     "iopub.status.busy": "2023-10-09T21:07:34.882720Z",
     "iopub.status.idle": "2023-10-09T21:07:34.888872Z",
     "shell.execute_reply": "2023-10-09T21:07:34.887801Z"
    },
    "papermill": {
     "duration": 0.016692,
     "end_time": "2023-10-09T21:07:34.891039",
     "exception": false,
     "start_time": "2023-10-09T21:07:34.874347",
     "status": "completed"
    },
    "tags": []
   },
   "outputs": [
    {
     "data": {
      "text/plain": [
       "pandas.core.series.Series"
      ]
     },
     "execution_count": 15,
     "metadata": {},
     "output_type": "execute_result"
    }
   ],
   "source": [
    "X= df['income']\n",
    "type(X)"
   ]
  },
  {
   "cell_type": "markdown",
   "id": "2314311b",
   "metadata": {
    "papermill": {
     "duration": 0.006621,
     "end_time": "2023-10-09T21:07:34.905058",
     "exception": false,
     "start_time": "2023-10-09T21:07:34.898437",
     "status": "completed"
    },
    "tags": []
   },
   "source": [
    "the indexing operator `[]` does have the advantage that it can handle column names with reserved characters in them (e.g. if we had a income in year column, df.income in year wouldn't work)."
   ]
  },
  {
   "cell_type": "markdown",
   "id": "8339c5a8",
   "metadata": {
    "papermill": {
     "duration": 0.006539,
     "end_time": "2023-10-09T21:07:34.918555",
     "exception": false,
     "start_time": "2023-10-09T21:07:34.912016",
     "status": "completed"
    },
    "tags": []
   },
   "source": [
    "Access single value of a column in DataFrame"
   ]
  },
  {
   "cell_type": "code",
   "execution_count": 16,
   "id": "2a94240c",
   "metadata": {
    "execution": {
     "iopub.execute_input": "2023-10-09T21:07:34.934675Z",
     "iopub.status.busy": "2023-10-09T21:07:34.934301Z",
     "iopub.status.idle": "2023-10-09T21:07:34.941437Z",
     "shell.execute_reply": "2023-10-09T21:07:34.940323Z"
    },
    "papermill": {
     "duration": 0.0176,
     "end_time": "2023-10-09T21:07:34.943504",
     "exception": false,
     "start_time": "2023-10-09T21:07:34.925904",
     "status": "completed"
    },
    "tags": []
   },
   "outputs": [
    {
     "data": {
      "text/plain": [
       "1970"
      ]
     },
     "execution_count": 16,
     "metadata": {},
     "output_type": "execute_result"
    }
   ],
   "source": [
    "df['year'][0]"
   ]
  },
  {
   "cell_type": "code",
   "execution_count": 17,
   "id": "939784eb",
   "metadata": {
    "execution": {
     "iopub.execute_input": "2023-10-09T21:07:34.960083Z",
     "iopub.status.busy": "2023-10-09T21:07:34.959733Z",
     "iopub.status.idle": "2023-10-09T21:07:34.965925Z",
     "shell.execute_reply": "2023-10-09T21:07:34.964838Z"
    },
    "papermill": {
     "duration": 0.017265,
     "end_time": "2023-10-09T21:07:34.968056",
     "exception": false,
     "start_time": "2023-10-09T21:07:34.950791",
     "status": "completed"
    },
    "tags": []
   },
   "outputs": [
    {
     "data": {
      "text/plain": [
       "3768.297935"
      ]
     },
     "execution_count": 17,
     "metadata": {},
     "output_type": "execute_result"
    }
   ],
   "source": [
    "df['income'][1]"
   ]
  }
 ],
 "metadata": {
  "kernelspec": {
   "display_name": "Python 3",
   "language": "python",
   "name": "python3"
  },
  "language_info": {
   "codemirror_mode": {
    "name": "ipython",
    "version": 3
   },
   "file_extension": ".py",
   "mimetype": "text/x-python",
   "name": "python",
   "nbconvert_exporter": "python",
   "pygments_lexer": "ipython3",
   "version": "3.10.12"
  },
  "papermill": {
   "default_parameters": {},
   "duration": 11.26979,
   "end_time": "2023-10-09T21:07:35.797125",
   "environment_variables": {},
   "exception": null,
   "input_path": "__notebook__.ipynb",
   "output_path": "__notebook__.ipynb",
   "parameters": {},
   "start_time": "2023-10-09T21:07:24.527335",
   "version": "2.4.0"
  }
 },
 "nbformat": 4,
 "nbformat_minor": 5
}
