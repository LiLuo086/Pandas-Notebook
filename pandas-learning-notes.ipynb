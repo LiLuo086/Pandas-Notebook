{
 "cells": [
  {
   "cell_type": "markdown",
   "id": "14977ea3",
   "metadata": {
    "papermill": {
     "duration": 0.009643,
     "end_time": "2023-08-20T18:56:59.767388",
     "exception": false,
     "start_time": "2023-08-20T18:56:59.757745",
     "status": "completed"
    },
    "tags": []
   },
   "source": [
    "**Pandas** stands for “Python Data Analysis” Library, is the most popular Python library for data analysis."
   ]
  },
  {
   "cell_type": "markdown",
   "id": "36677b55",
   "metadata": {
    "papermill": {
     "duration": 0.008795,
     "end_time": "2023-08-20T18:56:59.785509",
     "exception": false,
     "start_time": "2023-08-20T18:56:59.776714",
     "status": "completed"
    },
    "tags": []
   },
   "source": [
    "Import **pandas** using alias **pd**"
   ]
  },
  {
   "cell_type": "code",
   "execution_count": 1,
   "id": "60b7a01c",
   "metadata": {
    "execution": {
     "iopub.execute_input": "2023-08-20T18:56:59.806213Z",
     "iopub.status.busy": "2023-08-20T18:56:59.805038Z",
     "iopub.status.idle": "2023-08-20T18:56:59.816936Z",
     "shell.execute_reply": "2023-08-20T18:56:59.815810Z"
    },
    "papermill": {
     "duration": 0.02478,
     "end_time": "2023-08-20T18:56:59.819394",
     "exception": false,
     "start_time": "2023-08-20T18:56:59.794614",
     "status": "completed"
    },
    "tags": []
   },
   "outputs": [],
   "source": [
    "import pandas as pd "
   ]
  },
  {
   "cell_type": "markdown",
   "id": "96eea193",
   "metadata": {
    "papermill": {
     "duration": 0.00888,
     "end_time": "2023-08-20T18:56:59.838300",
     "exception": false,
     "start_time": "2023-08-20T18:56:59.829420",
     "status": "completed"
    },
    "tags": []
   },
   "source": [
    "\n",
    "### Working with data that already exists"
   ]
  },
  {
   "cell_type": "markdown",
   "id": "36c38a6d",
   "metadata": {
    "papermill": {
     "duration": 0.008915,
     "end_time": "2023-08-20T18:56:59.856967",
     "exception": false,
     "start_time": "2023-08-20T18:56:59.848052",
     "status": "completed"
    },
    "tags": []
   },
   "source": [
    "Load data stored in a csv file into a DataFrame using **pd.read_scv()** method"
   ]
  },
  {
   "cell_type": "code",
   "execution_count": 2,
   "id": "52ac3d30",
   "metadata": {
    "execution": {
     "iopub.execute_input": "2023-08-20T18:56:59.878703Z",
     "iopub.status.busy": "2023-08-20T18:56:59.878286Z",
     "iopub.status.idle": "2023-08-20T18:56:59.900156Z",
     "shell.execute_reply": "2023-08-20T18:56:59.898964Z"
    },
    "papermill": {
     "duration": 0.035381,
     "end_time": "2023-08-20T18:56:59.902980",
     "exception": false,
     "start_time": "2023-08-20T18:56:59.867599",
     "status": "completed"
    },
    "tags": []
   },
   "outputs": [],
   "source": [
    "df = pd.read_csv('/kaggle/input/canada-per-capita-income/Canada_per_capita_income.csv') "
   ]
  },
  {
   "cell_type": "markdown",
   "id": "7d4da69c",
   "metadata": {
    "papermill": {
     "duration": 0.009249,
     "end_time": "2023-08-20T18:56:59.921625",
     "exception": false,
     "start_time": "2023-08-20T18:56:59.912376",
     "status": "completed"
    },
    "tags": []
   },
   "source": [
    "**Show the DataFrame shape**, such as number of rows and columns"
   ]
  },
  {
   "cell_type": "code",
   "execution_count": 3,
   "id": "a423d0e9",
   "metadata": {
    "execution": {
     "iopub.execute_input": "2023-08-20T18:56:59.941700Z",
     "iopub.status.busy": "2023-08-20T18:56:59.941285Z",
     "iopub.status.idle": "2023-08-20T18:56:59.947178Z",
     "shell.execute_reply": "2023-08-20T18:56:59.946122Z"
    },
    "papermill": {
     "duration": 0.018573,
     "end_time": "2023-08-20T18:56:59.949398",
     "exception": false,
     "start_time": "2023-08-20T18:56:59.930825",
     "status": "completed"
    },
    "tags": []
   },
   "outputs": [
    {
     "name": "stdout",
     "output_type": "stream",
     "text": [
      "Shape of the DataFrame:  (47, 2)\n"
     ]
    }
   ],
   "source": [
    "print(\"Shape of the DataFrame: \",df.shape)"
   ]
  },
  {
   "cell_type": "markdown",
   "id": "c677a35d",
   "metadata": {
    "papermill": {
     "duration": 0.008993,
     "end_time": "2023-08-20T18:56:59.967689",
     "exception": false,
     "start_time": "2023-08-20T18:56:59.958696",
     "status": "completed"
    },
    "tags": []
   },
   "source": [
    "Pandas only return the **first 5 rows** and **last 5 rows** and **headers** of a DataFrame, if the total rows of a DataFrame is less the the maximal rows allowed by system.\n",
    "\n",
    "If the system allowed maximal rows is larger than the number of rows of a DataFrame, all rows can be displayed."
   ]
  },
  {
   "cell_type": "markdown",
   "id": "43e4a050",
   "metadata": {
    "papermill": {
     "duration": 0.009144,
     "end_time": "2023-08-20T18:56:59.986547",
     "exception": false,
     "start_time": "2023-08-20T18:56:59.977403",
     "status": "completed"
    },
    "tags": []
   },
   "source": [
    "**Show the maximal system allowed rows in a DataFrame**"
   ]
  },
  {
   "cell_type": "code",
   "execution_count": 4,
   "id": "6e04d6c4",
   "metadata": {
    "execution": {
     "iopub.execute_input": "2023-08-20T18:57:00.006562Z",
     "iopub.status.busy": "2023-08-20T18:57:00.006192Z",
     "iopub.status.idle": "2023-08-20T18:57:00.011209Z",
     "shell.execute_reply": "2023-08-20T18:57:00.010129Z"
    },
    "papermill": {
     "duration": 0.018184,
     "end_time": "2023-08-20T18:57:00.013697",
     "exception": false,
     "start_time": "2023-08-20T18:56:59.995513",
     "status": "completed"
    },
    "tags": []
   },
   "outputs": [
    {
     "name": "stdout",
     "output_type": "stream",
     "text": [
      "60\n"
     ]
    }
   ],
   "source": [
    "print(pd.options.display.max_rows)"
   ]
  },
  {
   "cell_type": "markdown",
   "id": "e231ef07",
   "metadata": {
    "papermill": {
     "duration": 0.009219,
     "end_time": "2023-08-20T18:57:00.033026",
     "exception": false,
     "start_time": "2023-08-20T18:57:00.023807",
     "status": "completed"
    },
    "tags": []
   },
   "source": [
    "**Change the system allowed maximal rows**"
   ]
  },
  {
   "cell_type": "code",
   "execution_count": 5,
   "id": "23a4cc35",
   "metadata": {
    "execution": {
     "iopub.execute_input": "2023-08-20T18:57:00.053861Z",
     "iopub.status.busy": "2023-08-20T18:57:00.053462Z",
     "iopub.status.idle": "2023-08-20T18:57:00.058667Z",
     "shell.execute_reply": "2023-08-20T18:57:00.057414Z"
    },
    "papermill": {
     "duration": 0.018894,
     "end_time": "2023-08-20T18:57:00.061312",
     "exception": false,
     "start_time": "2023-08-20T18:57:00.042418",
     "status": "completed"
    },
    "tags": []
   },
   "outputs": [],
   "source": [
    "pd.options.display.max_rows = 30"
   ]
  },
  {
   "cell_type": "code",
   "execution_count": 6,
   "id": "f2c3db93",
   "metadata": {
    "execution": {
     "iopub.execute_input": "2023-08-20T18:57:00.083388Z",
     "iopub.status.busy": "2023-08-20T18:57:00.082708Z",
     "iopub.status.idle": "2023-08-20T18:57:00.097605Z",
     "shell.execute_reply": "2023-08-20T18:57:00.096501Z"
    },
    "papermill": {
     "duration": 0.028608,
     "end_time": "2023-08-20T18:57:00.100114",
     "exception": false,
     "start_time": "2023-08-20T18:57:00.071506",
     "status": "completed"
    },
    "tags": []
   },
   "outputs": [
    {
     "name": "stdout",
     "output_type": "stream",
     "text": [
      "Display Content of the DataFrame:\n",
      "      year        income\n",
      "0   1970   3399.299037\n",
      "1   1971   3768.297935\n",
      "2   1972   4251.175484\n",
      "3   1973   4804.463248\n",
      "4   1974   5576.514583\n",
      "..   ...           ...\n",
      "42  2012  42665.255970\n",
      "43  2013  42676.468370\n",
      "44  2014  41039.893600\n",
      "45  2015  35175.188980\n",
      "46  2016  34229.193630\n",
      "\n",
      "[47 rows x 2 columns]\n"
     ]
    }
   ],
   "source": [
    "print(\"Display Content of the DataFrame:\\n \", df)"
   ]
  },
  {
   "cell_type": "markdown",
   "id": "ab7bc5bc",
   "metadata": {
    "papermill": {
     "duration": 0.009136,
     "end_time": "2023-08-20T18:57:00.118870",
     "exception": false,
     "start_time": "2023-08-20T18:57:00.109734",
     "status": "completed"
    },
    "tags": []
   },
   "source": [
    "**Show the first 5 rows of a DataFrame using head() method**"
   ]
  },
  {
   "cell_type": "code",
   "execution_count": 7,
   "id": "331bb4b2",
   "metadata": {
    "execution": {
     "iopub.execute_input": "2023-08-20T18:57:00.140026Z",
     "iopub.status.busy": "2023-08-20T18:57:00.139608Z",
     "iopub.status.idle": "2023-08-20T18:57:00.152566Z",
     "shell.execute_reply": "2023-08-20T18:57:00.151690Z"
    },
    "papermill": {
     "duration": 0.02573,
     "end_time": "2023-08-20T18:57:00.154564",
     "exception": false,
     "start_time": "2023-08-20T18:57:00.128834",
     "status": "completed"
    },
    "tags": []
   },
   "outputs": [
    {
     "data": {
      "text/html": [
       "<div>\n",
       "<style scoped>\n",
       "    .dataframe tbody tr th:only-of-type {\n",
       "        vertical-align: middle;\n",
       "    }\n",
       "\n",
       "    .dataframe tbody tr th {\n",
       "        vertical-align: top;\n",
       "    }\n",
       "\n",
       "    .dataframe thead th {\n",
       "        text-align: right;\n",
       "    }\n",
       "</style>\n",
       "<table border=\"1\" class=\"dataframe\">\n",
       "  <thead>\n",
       "    <tr style=\"text-align: right;\">\n",
       "      <th></th>\n",
       "      <th>year</th>\n",
       "      <th>income</th>\n",
       "    </tr>\n",
       "  </thead>\n",
       "  <tbody>\n",
       "    <tr>\n",
       "      <th>0</th>\n",
       "      <td>1970</td>\n",
       "      <td>3399.299037</td>\n",
       "    </tr>\n",
       "    <tr>\n",
       "      <th>1</th>\n",
       "      <td>1971</td>\n",
       "      <td>3768.297935</td>\n",
       "    </tr>\n",
       "    <tr>\n",
       "      <th>2</th>\n",
       "      <td>1972</td>\n",
       "      <td>4251.175484</td>\n",
       "    </tr>\n",
       "    <tr>\n",
       "      <th>3</th>\n",
       "      <td>1973</td>\n",
       "      <td>4804.463248</td>\n",
       "    </tr>\n",
       "    <tr>\n",
       "      <th>4</th>\n",
       "      <td>1974</td>\n",
       "      <td>5576.514583</td>\n",
       "    </tr>\n",
       "  </tbody>\n",
       "</table>\n",
       "</div>"
      ],
      "text/plain": [
       "   year       income\n",
       "0  1970  3399.299037\n",
       "1  1971  3768.297935\n",
       "2  1972  4251.175484\n",
       "3  1973  4804.463248\n",
       "4  1974  5576.514583"
      ]
     },
     "execution_count": 7,
     "metadata": {},
     "output_type": "execute_result"
    }
   ],
   "source": [
    "df.head()"
   ]
  },
  {
   "cell_type": "markdown",
   "id": "a81b74cb",
   "metadata": {
    "papermill": {
     "duration": 0.009441,
     "end_time": "2023-08-20T18:57:00.173734",
     "exception": false,
     "start_time": "2023-08-20T18:57:00.164293",
     "status": "completed"
    },
    "tags": []
   },
   "source": [
    "**Show the information of a DataFrame**"
   ]
  },
  {
   "cell_type": "code",
   "execution_count": 8,
   "id": "337cfee0",
   "metadata": {
    "execution": {
     "iopub.execute_input": "2023-08-20T18:57:00.195340Z",
     "iopub.status.busy": "2023-08-20T18:57:00.194494Z",
     "iopub.status.idle": "2023-08-20T18:57:00.220616Z",
     "shell.execute_reply": "2023-08-20T18:57:00.218940Z"
    },
    "papermill": {
     "duration": 0.039578,
     "end_time": "2023-08-20T18:57:00.223103",
     "exception": false,
     "start_time": "2023-08-20T18:57:00.183525",
     "status": "completed"
    },
    "tags": []
   },
   "outputs": [
    {
     "name": "stdout",
     "output_type": "stream",
     "text": [
      "<class 'pandas.core.frame.DataFrame'>\n",
      "RangeIndex: 47 entries, 0 to 46\n",
      "Data columns (total 2 columns):\n",
      " #   Column  Non-Null Count  Dtype  \n",
      "---  ------  --------------  -----  \n",
      " 0   year    47 non-null     int64  \n",
      " 1   income  47 non-null     float64\n",
      "dtypes: float64(1), int64(1)\n",
      "memory usage: 880.0 bytes\n"
     ]
    }
   ],
   "source": [
    "df.info()"
   ]
  },
  {
   "cell_type": "markdown",
   "id": "d8049ee0",
   "metadata": {
    "papermill": {
     "duration": 0.009737,
     "end_time": "2023-08-20T18:57:00.242932",
     "exception": false,
     "start_time": "2023-08-20T18:57:00.233195",
     "status": "completed"
    },
    "tags": []
   },
   "source": [
    "**Generate descriptive statstics of a DataFrame**"
   ]
  },
  {
   "cell_type": "code",
   "execution_count": 9,
   "id": "0d15de12",
   "metadata": {
    "execution": {
     "iopub.execute_input": "2023-08-20T18:57:00.264666Z",
     "iopub.status.busy": "2023-08-20T18:57:00.264253Z",
     "iopub.status.idle": "2023-08-20T18:57:00.284820Z",
     "shell.execute_reply": "2023-08-20T18:57:00.283834Z"
    },
    "papermill": {
     "duration": 0.034385,
     "end_time": "2023-08-20T18:57:00.287225",
     "exception": false,
     "start_time": "2023-08-20T18:57:00.252840",
     "status": "completed"
    },
    "tags": []
   },
   "outputs": [
    {
     "data": {
      "text/html": [
       "<div>\n",
       "<style scoped>\n",
       "    .dataframe tbody tr th:only-of-type {\n",
       "        vertical-align: middle;\n",
       "    }\n",
       "\n",
       "    .dataframe tbody tr th {\n",
       "        vertical-align: top;\n",
       "    }\n",
       "\n",
       "    .dataframe thead th {\n",
       "        text-align: right;\n",
       "    }\n",
       "</style>\n",
       "<table border=\"1\" class=\"dataframe\">\n",
       "  <thead>\n",
       "    <tr style=\"text-align: right;\">\n",
       "      <th></th>\n",
       "      <th>year</th>\n",
       "      <th>income</th>\n",
       "    </tr>\n",
       "  </thead>\n",
       "  <tbody>\n",
       "    <tr>\n",
       "      <th>count</th>\n",
       "      <td>47.000000</td>\n",
       "      <td>47.000000</td>\n",
       "    </tr>\n",
       "    <tr>\n",
       "      <th>mean</th>\n",
       "      <td>1993.000000</td>\n",
       "      <td>18920.137063</td>\n",
       "    </tr>\n",
       "    <tr>\n",
       "      <th>std</th>\n",
       "      <td>13.711309</td>\n",
       "      <td>12034.679438</td>\n",
       "    </tr>\n",
       "    <tr>\n",
       "      <th>min</th>\n",
       "      <td>1970.000000</td>\n",
       "      <td>3399.299037</td>\n",
       "    </tr>\n",
       "    <tr>\n",
       "      <th>25%</th>\n",
       "      <td>1981.500000</td>\n",
       "      <td>9526.914515</td>\n",
       "    </tr>\n",
       "    <tr>\n",
       "      <th>50%</th>\n",
       "      <td>1993.000000</td>\n",
       "      <td>16426.725480</td>\n",
       "    </tr>\n",
       "    <tr>\n",
       "      <th>75%</th>\n",
       "      <td>2004.500000</td>\n",
       "      <td>27458.601420</td>\n",
       "    </tr>\n",
       "    <tr>\n",
       "      <th>max</th>\n",
       "      <td>2016.000000</td>\n",
       "      <td>42676.468370</td>\n",
       "    </tr>\n",
       "  </tbody>\n",
       "</table>\n",
       "</div>"
      ],
      "text/plain": [
       "              year        income\n",
       "count    47.000000     47.000000\n",
       "mean   1993.000000  18920.137063\n",
       "std      13.711309  12034.679438\n",
       "min    1970.000000   3399.299037\n",
       "25%    1981.500000   9526.914515\n",
       "50%    1993.000000  16426.725480\n",
       "75%    2004.500000  27458.601420\n",
       "max    2016.000000  42676.468370"
      ]
     },
     "execution_count": 9,
     "metadata": {},
     "output_type": "execute_result"
    }
   ],
   "source": [
    "df.describe()"
   ]
  },
  {
   "cell_type": "markdown",
   "id": "d7b6e46b",
   "metadata": {
    "papermill": {
     "duration": 0.00995,
     "end_time": "2023-08-20T18:57:00.307407",
     "exception": false,
     "start_time": "2023-08-20T18:57:00.297457",
     "status": "completed"
    },
    "tags": []
   },
   "source": [
    "---"
   ]
  },
  {
   "cell_type": "markdown",
   "id": "4ca033fa",
   "metadata": {
    "papermill": {
     "duration": 0.009939,
     "end_time": "2023-08-20T18:57:00.327395",
     "exception": false,
     "start_time": "2023-08-20T18:57:00.317456",
     "status": "completed"
    },
    "tags": []
   },
   "source": [
    "### Creating new DataFrame\n",
    "A DataFrame can be created by **df.DataFrame()** method.\n",
    "\n",
    "The content of a DataFrame is constructed using Python **dictionary-list**, where the **key** in the dictionary is the **column name** of the DataFrame, and the **values** are **a list of entries**."
   ]
  },
  {
   "cell_type": "code",
   "execution_count": 10,
   "id": "05ea2c77",
   "metadata": {
    "execution": {
     "iopub.execute_input": "2023-08-20T18:57:00.349441Z",
     "iopub.status.busy": "2023-08-20T18:57:00.348691Z",
     "iopub.status.idle": "2023-08-20T18:57:00.359091Z",
     "shell.execute_reply": "2023-08-20T18:57:00.357877Z"
    },
    "papermill": {
     "duration": 0.023653,
     "end_time": "2023-08-20T18:57:00.361136",
     "exception": false,
     "start_time": "2023-08-20T18:57:00.337483",
     "status": "completed"
    },
    "tags": []
   },
   "outputs": [
    {
     "data": {
      "text/html": [
       "<div>\n",
       "<style scoped>\n",
       "    .dataframe tbody tr th:only-of-type {\n",
       "        vertical-align: middle;\n",
       "    }\n",
       "\n",
       "    .dataframe tbody tr th {\n",
       "        vertical-align: top;\n",
       "    }\n",
       "\n",
       "    .dataframe thead th {\n",
       "        text-align: right;\n",
       "    }\n",
       "</style>\n",
       "<table border=\"1\" class=\"dataframe\">\n",
       "  <thead>\n",
       "    <tr style=\"text-align: right;\">\n",
       "      <th></th>\n",
       "      <th>year</th>\n",
       "      <th>income</th>\n",
       "    </tr>\n",
       "  </thead>\n",
       "  <tbody>\n",
       "    <tr>\n",
       "      <th>0</th>\n",
       "      <td>2020</td>\n",
       "      <td>36000</td>\n",
       "    </tr>\n",
       "    <tr>\n",
       "      <th>1</th>\n",
       "      <td>2021</td>\n",
       "      <td>38000</td>\n",
       "    </tr>\n",
       "  </tbody>\n",
       "</table>\n",
       "</div>"
      ],
      "text/plain": [
       "   year  income\n",
       "0  2020   36000\n",
       "1  2021   38000"
      ]
     },
     "execution_count": 10,
     "metadata": {},
     "output_type": "execute_result"
    }
   ],
   "source": [
    "pd.DataFrame({\"year\":[2020,2021],\n",
    "              \"income\":[36000,38000]})"
   ]
  },
  {
   "cell_type": "markdown",
   "id": "95171bf1",
   "metadata": {
    "papermill": {
     "duration": 0.010001,
     "end_time": "2023-08-20T18:57:00.381464",
     "exception": false,
     "start_time": "2023-08-20T18:57:00.371463",
     "status": "completed"
    },
    "tags": []
   },
   "source": [
    "By default, the row index of a new DataFrame is acsending from 0(0,1,2,3,...).\n",
    "It's also possible to assign the desired row index when creating a DataFrame unsing `index`."
   ]
  },
  {
   "cell_type": "code",
   "execution_count": 11,
   "id": "e39dc912",
   "metadata": {
    "execution": {
     "iopub.execute_input": "2023-08-20T18:57:00.404294Z",
     "iopub.status.busy": "2023-08-20T18:57:00.403618Z",
     "iopub.status.idle": "2023-08-20T18:57:00.414889Z",
     "shell.execute_reply": "2023-08-20T18:57:00.413923Z"
    },
    "papermill": {
     "duration": 0.025543,
     "end_time": "2023-08-20T18:57:00.417288",
     "exception": false,
     "start_time": "2023-08-20T18:57:00.391745",
     "status": "completed"
    },
    "tags": []
   },
   "outputs": [
    {
     "data": {
      "text/html": [
       "<div>\n",
       "<style scoped>\n",
       "    .dataframe tbody tr th:only-of-type {\n",
       "        vertical-align: middle;\n",
       "    }\n",
       "\n",
       "    .dataframe tbody tr th {\n",
       "        vertical-align: top;\n",
       "    }\n",
       "\n",
       "    .dataframe thead th {\n",
       "        text-align: right;\n",
       "    }\n",
       "</style>\n",
       "<table border=\"1\" class=\"dataframe\">\n",
       "  <thead>\n",
       "    <tr style=\"text-align: right;\">\n",
       "      <th></th>\n",
       "      <th>year</th>\n",
       "      <th>income</th>\n",
       "    </tr>\n",
       "  </thead>\n",
       "  <tbody>\n",
       "    <tr>\n",
       "      <th>1</th>\n",
       "      <td>2020</td>\n",
       "      <td>36000</td>\n",
       "    </tr>\n",
       "    <tr>\n",
       "      <th>2</th>\n",
       "      <td>2021</td>\n",
       "      <td>38000</td>\n",
       "    </tr>\n",
       "  </tbody>\n",
       "</table>\n",
       "</div>"
      ],
      "text/plain": [
       "   year  income\n",
       "1  2020   36000\n",
       "2  2021   38000"
      ]
     },
     "execution_count": 11,
     "metadata": {},
     "output_type": "execute_result"
    }
   ],
   "source": [
    "pd.DataFrame({\"year\":[2020,2021],\n",
    "              \"income\":[36000,38000]},\n",
    "               index = [1,2])"
   ]
  },
  {
   "cell_type": "markdown",
   "id": "cd3e4bc7",
   "metadata": {
    "papermill": {
     "duration": 0.010274,
     "end_time": "2023-08-20T18:57:00.438192",
     "exception": false,
     "start_time": "2023-08-20T18:57:00.427918",
     "status": "completed"
    },
    "tags": []
   },
   "source": [
    "---"
   ]
  },
  {
   "cell_type": "markdown",
   "id": "da7791c1",
   "metadata": {
    "papermill": {
     "duration": 0.010205,
     "end_time": "2023-08-20T18:57:00.458995",
     "exception": false,
     "start_time": "2023-08-20T18:57:00.448790",
     "status": "completed"
    },
    "tags": []
   },
   "source": [
    "### Indexing and selecting data"
   ]
  },
  {
   "cell_type": "markdown",
   "id": "73b64781",
   "metadata": {
    "papermill": {
     "duration": 0.010102,
     "end_time": "2023-08-20T18:57:00.479718",
     "exception": false,
     "start_time": "2023-08-20T18:57:00.469616",
     "status": "completed"
    },
    "tags": []
   },
   "source": [
    "Access column of a DataFrame using `.` or `[]` operator."
   ]
  },
  {
   "cell_type": "code",
   "execution_count": 12,
   "id": "79e7bb1b",
   "metadata": {
    "execution": {
     "iopub.execute_input": "2023-08-20T18:57:00.502508Z",
     "iopub.status.busy": "2023-08-20T18:57:00.502128Z",
     "iopub.status.idle": "2023-08-20T18:57:00.510325Z",
     "shell.execute_reply": "2023-08-20T18:57:00.509323Z"
    },
    "papermill": {
     "duration": 0.02242,
     "end_time": "2023-08-20T18:57:00.512653",
     "exception": false,
     "start_time": "2023-08-20T18:57:00.490233",
     "status": "completed"
    },
    "tags": []
   },
   "outputs": [
    {
     "data": {
      "text/plain": [
       "0     1970\n",
       "1     1971\n",
       "2     1972\n",
       "3     1973\n",
       "4     1974\n",
       "      ... \n",
       "42    2012\n",
       "43    2013\n",
       "44    2014\n",
       "45    2015\n",
       "46    2016\n",
       "Name: year, Length: 47, dtype: int64"
      ]
     },
     "execution_count": 12,
     "metadata": {},
     "output_type": "execute_result"
    }
   ],
   "source": [
    "df.year"
   ]
  },
  {
   "cell_type": "code",
   "execution_count": 13,
   "id": "fd03c10f",
   "metadata": {
    "execution": {
     "iopub.execute_input": "2023-08-20T18:57:00.536245Z",
     "iopub.status.busy": "2023-08-20T18:57:00.535843Z",
     "iopub.status.idle": "2023-08-20T18:57:00.544523Z",
     "shell.execute_reply": "2023-08-20T18:57:00.543446Z"
    },
    "papermill": {
     "duration": 0.023141,
     "end_time": "2023-08-20T18:57:00.546839",
     "exception": false,
     "start_time": "2023-08-20T18:57:00.523698",
     "status": "completed"
    },
    "tags": []
   },
   "outputs": [
    {
     "data": {
      "text/plain": [
       "0      3399.299037\n",
       "1      3768.297935\n",
       "2      4251.175484\n",
       "3      4804.463248\n",
       "4      5576.514583\n",
       "          ...     \n",
       "42    42665.255970\n",
       "43    42676.468370\n",
       "44    41039.893600\n",
       "45    35175.188980\n",
       "46    34229.193630\n",
       "Name: income, Length: 47, dtype: float64"
      ]
     },
     "execution_count": 13,
     "metadata": {},
     "output_type": "execute_result"
    }
   ],
   "source": [
    "df['income']"
   ]
  },
  {
   "cell_type": "markdown",
   "id": "3818e877",
   "metadata": {
    "papermill": {
     "duration": 0.010647,
     "end_time": "2023-08-20T18:57:00.569603",
     "exception": false,
     "start_time": "2023-08-20T18:57:00.558956",
     "status": "completed"
    },
    "tags": []
   },
   "source": [
    "the indexing operator `[]` does have the advantage that it can handle column names with reserved characters in them (e.g. if we had a income in year column, df.income in year wouldn't work)."
   ]
  },
  {
   "cell_type": "markdown",
   "id": "cfc3c922",
   "metadata": {
    "papermill": {
     "duration": 0.010335,
     "end_time": "2023-08-20T18:57:00.590555",
     "exception": false,
     "start_time": "2023-08-20T18:57:00.580220",
     "status": "completed"
    },
    "tags": []
   },
   "source": [
    "Access single value of a column in DataFrame"
   ]
  },
  {
   "cell_type": "code",
   "execution_count": 14,
   "id": "8c48d494",
   "metadata": {
    "execution": {
     "iopub.execute_input": "2023-08-20T18:57:00.613554Z",
     "iopub.status.busy": "2023-08-20T18:57:00.613171Z",
     "iopub.status.idle": "2023-08-20T18:57:00.620363Z",
     "shell.execute_reply": "2023-08-20T18:57:00.619324Z"
    },
    "papermill": {
     "duration": 0.021592,
     "end_time": "2023-08-20T18:57:00.622788",
     "exception": false,
     "start_time": "2023-08-20T18:57:00.601196",
     "status": "completed"
    },
    "tags": []
   },
   "outputs": [
    {
     "data": {
      "text/plain": [
       "1970"
      ]
     },
     "execution_count": 14,
     "metadata": {},
     "output_type": "execute_result"
    }
   ],
   "source": [
    "df['year'][0]"
   ]
  },
  {
   "cell_type": "code",
   "execution_count": 15,
   "id": "2cf6c1b7",
   "metadata": {
    "execution": {
     "iopub.execute_input": "2023-08-20T18:57:00.646382Z",
     "iopub.status.busy": "2023-08-20T18:57:00.645960Z",
     "iopub.status.idle": "2023-08-20T18:57:00.653744Z",
     "shell.execute_reply": "2023-08-20T18:57:00.652366Z"
    },
    "papermill": {
     "duration": 0.02261,
     "end_time": "2023-08-20T18:57:00.656325",
     "exception": false,
     "start_time": "2023-08-20T18:57:00.633715",
     "status": "completed"
    },
    "tags": []
   },
   "outputs": [
    {
     "data": {
      "text/plain": [
       "3768.297935"
      ]
     },
     "execution_count": 15,
     "metadata": {},
     "output_type": "execute_result"
    }
   ],
   "source": [
    "df['income'][1]"
   ]
  }
 ],
 "metadata": {
  "kernelspec": {
   "display_name": "Python 3",
   "language": "python",
   "name": "python3"
  },
  "language_info": {
   "codemirror_mode": {
    "name": "ipython",
    "version": 3
   },
   "file_extension": ".py",
   "mimetype": "text/x-python",
   "name": "python",
   "nbconvert_exporter": "python",
   "pygments_lexer": "ipython3",
   "version": "3.10.12"
  },
  "papermill": {
   "default_parameters": {},
   "duration": 12.672902,
   "end_time": "2023-08-20T18:57:01.489406",
   "environment_variables": {},
   "exception": null,
   "input_path": "__notebook__.ipynb",
   "output_path": "__notebook__.ipynb",
   "parameters": {},
   "start_time": "2023-08-20T18:56:48.816504",
   "version": "2.4.0"
  }
 },
 "nbformat": 4,
 "nbformat_minor": 5
}
