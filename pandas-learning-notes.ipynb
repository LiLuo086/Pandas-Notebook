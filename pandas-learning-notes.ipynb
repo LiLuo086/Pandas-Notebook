{
 "cells": [
  {
   "cell_type": "markdown",
   "id": "3caa541a",
   "metadata": {
    "papermill": {
     "duration": 0.004891,
     "end_time": "2023-08-19T11:01:01.796754",
     "exception": false,
     "start_time": "2023-08-19T11:01:01.791863",
     "status": "completed"
    },
    "tags": []
   },
   "source": [
    "**Pandas** stands for “Python Data Analysis” Library, is the most popular Python library for data analysis."
   ]
  },
  {
   "cell_type": "markdown",
   "id": "7560efbb",
   "metadata": {
    "papermill": {
     "duration": 0.003627,
     "end_time": "2023-08-19T11:01:01.804557",
     "exception": false,
     "start_time": "2023-08-19T11:01:01.800930",
     "status": "completed"
    },
    "tags": []
   },
   "source": [
    "# Working with data that already exists"
   ]
  },
  {
   "cell_type": "code",
   "execution_count": 1,
   "id": "fef30664",
   "metadata": {
    "execution": {
     "iopub.execute_input": "2023-08-19T11:01:01.815178Z",
     "iopub.status.busy": "2023-08-19T11:01:01.814503Z",
     "iopub.status.idle": "2023-08-19T11:01:01.847491Z",
     "shell.execute_reply": "2023-08-19T11:01:01.846148Z"
    },
    "papermill": {
     "duration": 0.041931,
     "end_time": "2023-08-19T11:01:01.850329",
     "exception": false,
     "start_time": "2023-08-19T11:01:01.808398",
     "status": "completed"
    },
    "tags": []
   },
   "outputs": [],
   "source": [
    "import pandas as pd # import pandas using alias pd\n",
    "\n",
    "df = pd.read_csv('/kaggle/input/canada-per-capita-income/Canada_per_capita_income.csv') # Load data stored in a csv file into a DataFrame"
   ]
  },
  {
   "cell_type": "code",
   "execution_count": 2,
   "id": "e9c9913a",
   "metadata": {
    "execution": {
     "iopub.execute_input": "2023-08-19T11:01:01.860801Z",
     "iopub.status.busy": "2023-08-19T11:01:01.860340Z",
     "iopub.status.idle": "2023-08-19T11:01:01.866737Z",
     "shell.execute_reply": "2023-08-19T11:01:01.865231Z"
    },
    "papermill": {
     "duration": 0.015002,
     "end_time": "2023-08-19T11:01:01.869527",
     "exception": false,
     "start_time": "2023-08-19T11:01:01.854525",
     "status": "completed"
    },
    "tags": []
   },
   "outputs": [
    {
     "name": "stdout",
     "output_type": "stream",
     "text": [
      "Shape of the DataFrame:  (47, 2)\n"
     ]
    }
   ],
   "source": [
    "# show the DataFrame shape, such as number of rows and columns\n",
    "print(\"Shape of the DataFrame: \",df.shape)"
   ]
  },
  {
   "cell_type": "markdown",
   "id": "4a387677",
   "metadata": {
    "papermill": {
     "duration": 0.003664,
     "end_time": "2023-08-19T11:01:01.877205",
     "exception": false,
     "start_time": "2023-08-19T11:01:01.873541",
     "status": "completed"
    },
    "tags": []
   },
   "source": [
    "Pandas only return the **first 5 rows** and **last 5 rows** and **headers** of a DataFrame, if the total rows of a DataFrame is less the the maximal rows allowed by system.\n",
    "\n",
    "If the system allowed maximal rows is larger than the number of rows of a DataFrame, all rows can be displayed."
   ]
  },
  {
   "cell_type": "code",
   "execution_count": 3,
   "id": "13ff9fb3",
   "metadata": {
    "execution": {
     "iopub.execute_input": "2023-08-19T11:01:01.887891Z",
     "iopub.status.busy": "2023-08-19T11:01:01.887430Z",
     "iopub.status.idle": "2023-08-19T11:01:01.894407Z",
     "shell.execute_reply": "2023-08-19T11:01:01.892444Z"
    },
    "papermill": {
     "duration": 0.016278,
     "end_time": "2023-08-19T11:01:01.897391",
     "exception": false,
     "start_time": "2023-08-19T11:01:01.881113",
     "status": "completed"
    },
    "tags": []
   },
   "outputs": [
    {
     "name": "stdout",
     "output_type": "stream",
     "text": [
      "60\n"
     ]
    }
   ],
   "source": [
    "# show the maximal system allowed rows in a DataFrame\n",
    "print(pd.options.display.max_rows)"
   ]
  },
  {
   "cell_type": "code",
   "execution_count": 4,
   "id": "a3fd5e81",
   "metadata": {
    "execution": {
     "iopub.execute_input": "2023-08-19T11:01:01.908055Z",
     "iopub.status.busy": "2023-08-19T11:01:01.907572Z",
     "iopub.status.idle": "2023-08-19T11:01:01.912812Z",
     "shell.execute_reply": "2023-08-19T11:01:01.911459Z"
    },
    "papermill": {
     "duration": 0.013858,
     "end_time": "2023-08-19T11:01:01.915620",
     "exception": false,
     "start_time": "2023-08-19T11:01:01.901762",
     "status": "completed"
    },
    "tags": []
   },
   "outputs": [],
   "source": [
    "# change the system allowed maximal rows\n",
    "pd.options.display.max_rows = 30"
   ]
  },
  {
   "cell_type": "code",
   "execution_count": 5,
   "id": "45cbf82d",
   "metadata": {
    "execution": {
     "iopub.execute_input": "2023-08-19T11:01:01.925727Z",
     "iopub.status.busy": "2023-08-19T11:01:01.925339Z",
     "iopub.status.idle": "2023-08-19T11:01:01.942061Z",
     "shell.execute_reply": "2023-08-19T11:01:01.940909Z"
    },
    "papermill": {
     "duration": 0.024573,
     "end_time": "2023-08-19T11:01:01.944387",
     "exception": false,
     "start_time": "2023-08-19T11:01:01.919814",
     "status": "completed"
    },
    "tags": []
   },
   "outputs": [
    {
     "name": "stdout",
     "output_type": "stream",
     "text": [
      "Display Content of the DataFrame:      year        income\n",
      "0   1970   3399.299037\n",
      "1   1971   3768.297935\n",
      "2   1972   4251.175484\n",
      "3   1973   4804.463248\n",
      "4   1974   5576.514583\n",
      "..   ...           ...\n",
      "42  2012  42665.255970\n",
      "43  2013  42676.468370\n",
      "44  2014  41039.893600\n",
      "45  2015  35175.188980\n",
      "46  2016  34229.193630\n",
      "\n",
      "[47 rows x 2 columns]\n"
     ]
    }
   ],
   "source": [
    "print(\"Display Content of the DataFrame: \", df)"
   ]
  },
  {
   "cell_type": "code",
   "execution_count": 6,
   "id": "cf080257",
   "metadata": {
    "execution": {
     "iopub.execute_input": "2023-08-19T11:01:01.955348Z",
     "iopub.status.busy": "2023-08-19T11:01:01.954469Z",
     "iopub.status.idle": "2023-08-19T11:01:01.983781Z",
     "shell.execute_reply": "2023-08-19T11:01:01.982192Z"
    },
    "papermill": {
     "duration": 0.037967,
     "end_time": "2023-08-19T11:01:01.986527",
     "exception": false,
     "start_time": "2023-08-19T11:01:01.948560",
     "status": "completed"
    },
    "tags": []
   },
   "outputs": [
    {
     "name": "stdout",
     "output_type": "stream",
     "text": [
      "<class 'pandas.core.frame.DataFrame'>\n",
      "RangeIndex: 47 entries, 0 to 46\n",
      "Data columns (total 2 columns):\n",
      " #   Column  Non-Null Count  Dtype  \n",
      "---  ------  --------------  -----  \n",
      " 0   year    47 non-null     int64  \n",
      " 1   income  47 non-null     float64\n",
      "dtypes: float64(1), int64(1)\n",
      "memory usage: 880.0 bytes\n"
     ]
    }
   ],
   "source": [
    "# This method prints information about a DataFrame\n",
    "df.info()"
   ]
  },
  {
   "cell_type": "code",
   "execution_count": 7,
   "id": "8e42cc25",
   "metadata": {
    "execution": {
     "iopub.execute_input": "2023-08-19T11:01:01.997097Z",
     "iopub.status.busy": "2023-08-19T11:01:01.996692Z",
     "iopub.status.idle": "2023-08-19T11:01:02.028078Z",
     "shell.execute_reply": "2023-08-19T11:01:02.026395Z"
    },
    "papermill": {
     "duration": 0.039669,
     "end_time": "2023-08-19T11:01:02.030619",
     "exception": false,
     "start_time": "2023-08-19T11:01:01.990950",
     "status": "completed"
    },
    "tags": []
   },
   "outputs": [
    {
     "data": {
      "text/html": [
       "<div>\n",
       "<style scoped>\n",
       "    .dataframe tbody tr th:only-of-type {\n",
       "        vertical-align: middle;\n",
       "    }\n",
       "\n",
       "    .dataframe tbody tr th {\n",
       "        vertical-align: top;\n",
       "    }\n",
       "\n",
       "    .dataframe thead th {\n",
       "        text-align: right;\n",
       "    }\n",
       "</style>\n",
       "<table border=\"1\" class=\"dataframe\">\n",
       "  <thead>\n",
       "    <tr style=\"text-align: right;\">\n",
       "      <th></th>\n",
       "      <th>year</th>\n",
       "      <th>income</th>\n",
       "    </tr>\n",
       "  </thead>\n",
       "  <tbody>\n",
       "    <tr>\n",
       "      <th>count</th>\n",
       "      <td>47.000000</td>\n",
       "      <td>47.000000</td>\n",
       "    </tr>\n",
       "    <tr>\n",
       "      <th>mean</th>\n",
       "      <td>1993.000000</td>\n",
       "      <td>18920.137063</td>\n",
       "    </tr>\n",
       "    <tr>\n",
       "      <th>std</th>\n",
       "      <td>13.711309</td>\n",
       "      <td>12034.679438</td>\n",
       "    </tr>\n",
       "    <tr>\n",
       "      <th>min</th>\n",
       "      <td>1970.000000</td>\n",
       "      <td>3399.299037</td>\n",
       "    </tr>\n",
       "    <tr>\n",
       "      <th>25%</th>\n",
       "      <td>1981.500000</td>\n",
       "      <td>9526.914515</td>\n",
       "    </tr>\n",
       "    <tr>\n",
       "      <th>50%</th>\n",
       "      <td>1993.000000</td>\n",
       "      <td>16426.725480</td>\n",
       "    </tr>\n",
       "    <tr>\n",
       "      <th>75%</th>\n",
       "      <td>2004.500000</td>\n",
       "      <td>27458.601420</td>\n",
       "    </tr>\n",
       "    <tr>\n",
       "      <th>max</th>\n",
       "      <td>2016.000000</td>\n",
       "      <td>42676.468370</td>\n",
       "    </tr>\n",
       "  </tbody>\n",
       "</table>\n",
       "</div>"
      ],
      "text/plain": [
       "              year        income\n",
       "count    47.000000     47.000000\n",
       "mean   1993.000000  18920.137063\n",
       "std      13.711309  12034.679438\n",
       "min    1970.000000   3399.299037\n",
       "25%    1981.500000   9526.914515\n",
       "50%    1993.000000  16426.725480\n",
       "75%    2004.500000  27458.601420\n",
       "max    2016.000000  42676.468370"
      ]
     },
     "execution_count": 7,
     "metadata": {},
     "output_type": "execute_result"
    }
   ],
   "source": [
    "# generate descriptive statstics of a DataFrame\n",
    "df.describe()"
   ]
  }
 ],
 "metadata": {
  "kernelspec": {
   "display_name": "Python 3",
   "language": "python",
   "name": "python3"
  },
  "language_info": {
   "codemirror_mode": {
    "name": "ipython",
    "version": 3
   },
   "file_extension": ".py",
   "mimetype": "text/x-python",
   "name": "python",
   "nbconvert_exporter": "python",
   "pygments_lexer": "ipython3",
   "version": "3.10.12"
  },
  "papermill": {
   "default_parameters": {},
   "duration": 12.700046,
   "end_time": "2023-08-19T11:01:02.857191",
   "environment_variables": {},
   "exception": null,
   "input_path": "__notebook__.ipynb",
   "output_path": "__notebook__.ipynb",
   "parameters": {},
   "start_time": "2023-08-19T11:00:50.157145",
   "version": "2.4.0"
  }
 },
 "nbformat": 4,
 "nbformat_minor": 5
}
