{
 "cells": [
  {
   "cell_type": "markdown",
   "id": "e5bab955",
   "metadata": {
    "papermill": {
     "duration": 0.006931,
     "end_time": "2024-01-14T15:33:35.325551",
     "exception": false,
     "start_time": "2024-01-14T15:33:35.318620",
     "status": "completed"
    },
    "tags": []
   },
   "source": [
    "**Pandas** stands for “Python Data Analysis” Library, is the most popular Python library for data analysis."
   ]
  },
  {
   "cell_type": "markdown",
   "id": "8a2776e6",
   "metadata": {
    "papermill": {
     "duration": 0.005873,
     "end_time": "2024-01-14T15:33:35.338341",
     "exception": false,
     "start_time": "2024-01-14T15:33:35.332468",
     "status": "completed"
    },
    "tags": []
   },
   "source": [
    "Import **pandas** using alias **pd**"
   ]
  },
  {
   "cell_type": "code",
   "execution_count": 1,
   "id": "04125478",
   "metadata": {
    "execution": {
     "iopub.execute_input": "2024-01-14T15:33:35.352086Z",
     "iopub.status.busy": "2024-01-14T15:33:35.351698Z",
     "iopub.status.idle": "2024-01-14T15:33:35.361515Z",
     "shell.execute_reply": "2024-01-14T15:33:35.360132Z"
    },
    "papermill": {
     "duration": 0.019693,
     "end_time": "2024-01-14T15:33:35.364089",
     "exception": false,
     "start_time": "2024-01-14T15:33:35.344396",
     "status": "completed"
    },
    "tags": []
   },
   "outputs": [],
   "source": [
    "import pandas as pd "
   ]
  },
  {
   "cell_type": "markdown",
   "id": "8a4763f1",
   "metadata": {
    "papermill": {
     "duration": 0.006428,
     "end_time": "2024-01-14T15:33:35.378058",
     "exception": false,
     "start_time": "2024-01-14T15:33:35.371630",
     "status": "completed"
    },
    "tags": []
   },
   "source": [
    "\n",
    "### Working with data that already exists"
   ]
  },
  {
   "cell_type": "markdown",
   "id": "ca747ca8",
   "metadata": {
    "papermill": {
     "duration": 0.005883,
     "end_time": "2024-01-14T15:33:35.391469",
     "exception": false,
     "start_time": "2024-01-14T15:33:35.385586",
     "status": "completed"
    },
    "tags": []
   },
   "source": [
    "Load data stored in a csv file into a DataFrame using **pd.read_scv()** method"
   ]
  },
  {
   "cell_type": "code",
   "execution_count": 2,
   "id": "983583f2",
   "metadata": {
    "execution": {
     "iopub.execute_input": "2024-01-14T15:33:35.405143Z",
     "iopub.status.busy": "2024-01-14T15:33:35.404771Z",
     "iopub.status.idle": "2024-01-14T15:33:35.425176Z",
     "shell.execute_reply": "2024-01-14T15:33:35.423645Z"
    },
    "papermill": {
     "duration": 0.030328,
     "end_time": "2024-01-14T15:33:35.427841",
     "exception": false,
     "start_time": "2024-01-14T15:33:35.397513",
     "status": "completed"
    },
    "tags": []
   },
   "outputs": [],
   "source": [
    "df = pd.read_csv('/kaggle/input/canada-per-capita-income/Canada_per_capita_income.csv') "
   ]
  },
  {
   "cell_type": "markdown",
   "id": "d8849dd6",
   "metadata": {
    "papermill": {
     "duration": 0.006037,
     "end_time": "2024-01-14T15:33:35.441167",
     "exception": false,
     "start_time": "2024-01-14T15:33:35.435130",
     "status": "completed"
    },
    "tags": []
   },
   "source": [
    "**Show the DataFrame shape**, such as number of rows and columns"
   ]
  },
  {
   "cell_type": "code",
   "execution_count": 3,
   "id": "97274353",
   "metadata": {
    "execution": {
     "iopub.execute_input": "2024-01-14T15:33:35.455554Z",
     "iopub.status.busy": "2024-01-14T15:33:35.455162Z",
     "iopub.status.idle": "2024-01-14T15:33:35.461782Z",
     "shell.execute_reply": "2024-01-14T15:33:35.460313Z"
    },
    "papermill": {
     "duration": 0.016509,
     "end_time": "2024-01-14T15:33:35.464024",
     "exception": false,
     "start_time": "2024-01-14T15:33:35.447515",
     "status": "completed"
    },
    "tags": []
   },
   "outputs": [
    {
     "name": "stdout",
     "output_type": "stream",
     "text": [
      "The shape of the DataFrame:  (47, 2)\n"
     ]
    }
   ],
   "source": [
    "print(\"The shape of the DataFrame: \",df.shape)"
   ]
  },
  {
   "cell_type": "markdown",
   "id": "be5c93fa",
   "metadata": {
    "papermill": {
     "duration": 0.006002,
     "end_time": "2024-01-14T15:33:35.476698",
     "exception": false,
     "start_time": "2024-01-14T15:33:35.470696",
     "status": "completed"
    },
    "tags": []
   },
   "source": [
    "Pandas only return the **first 5 rows** and **last 5 rows** and **headers** of a DataFrame, if the total rows of a DataFrame is less the the maximal rows allowed by system.\n",
    "\n",
    "If the system allowed maximal rows is larger than the number of rows of a DataFrame, all rows can be displayed."
   ]
  },
  {
   "cell_type": "markdown",
   "id": "9d343657",
   "metadata": {
    "papermill": {
     "duration": 0.00608,
     "end_time": "2024-01-14T15:33:35.488831",
     "exception": false,
     "start_time": "2024-01-14T15:33:35.482751",
     "status": "completed"
    },
    "tags": []
   },
   "source": [
    "**Show the maximal system allowed rows in a DataFrame**"
   ]
  },
  {
   "cell_type": "code",
   "execution_count": 4,
   "id": "22c9abfa",
   "metadata": {
    "execution": {
     "iopub.execute_input": "2024-01-14T15:33:35.503308Z",
     "iopub.status.busy": "2024-01-14T15:33:35.502874Z",
     "iopub.status.idle": "2024-01-14T15:33:35.508604Z",
     "shell.execute_reply": "2024-01-14T15:33:35.506774Z"
    },
    "papermill": {
     "duration": 0.015976,
     "end_time": "2024-01-14T15:33:35.510989",
     "exception": false,
     "start_time": "2024-01-14T15:33:35.495013",
     "status": "completed"
    },
    "tags": []
   },
   "outputs": [
    {
     "name": "stdout",
     "output_type": "stream",
     "text": [
      "60\n"
     ]
    }
   ],
   "source": [
    "print(pd.options.display.max_rows)"
   ]
  },
  {
   "cell_type": "markdown",
   "id": "55565143",
   "metadata": {
    "papermill": {
     "duration": 0.006381,
     "end_time": "2024-01-14T15:33:35.524374",
     "exception": false,
     "start_time": "2024-01-14T15:33:35.517993",
     "status": "completed"
    },
    "tags": []
   },
   "source": [
    "**Change the system allowed maximal rows**"
   ]
  },
  {
   "cell_type": "code",
   "execution_count": 5,
   "id": "1e699653",
   "metadata": {
    "execution": {
     "iopub.execute_input": "2024-01-14T15:33:35.539644Z",
     "iopub.status.busy": "2024-01-14T15:33:35.539281Z",
     "iopub.status.idle": "2024-01-14T15:33:35.543641Z",
     "shell.execute_reply": "2024-01-14T15:33:35.542601Z"
    },
    "papermill": {
     "duration": 0.014798,
     "end_time": "2024-01-14T15:33:35.545773",
     "exception": false,
     "start_time": "2024-01-14T15:33:35.530975",
     "status": "completed"
    },
    "tags": []
   },
   "outputs": [],
   "source": [
    "pd.options.display.max_rows = 30"
   ]
  },
  {
   "cell_type": "markdown",
   "id": "5d5eed37",
   "metadata": {
    "papermill": {
     "duration": 0.006354,
     "end_time": "2024-01-14T15:33:35.558910",
     "exception": false,
     "start_time": "2024-01-14T15:33:35.552556",
     "status": "completed"
    },
    "tags": []
   },
   "source": [
    "**Show all columns in the dataframe**"
   ]
  },
  {
   "cell_type": "code",
   "execution_count": 6,
   "id": "c563e1e9",
   "metadata": {
    "execution": {
     "iopub.execute_input": "2024-01-14T15:33:35.573351Z",
     "iopub.status.busy": "2024-01-14T15:33:35.573010Z",
     "iopub.status.idle": "2024-01-14T15:33:35.579027Z",
     "shell.execute_reply": "2024-01-14T15:33:35.577409Z"
    },
    "papermill": {
     "duration": 0.01578,
     "end_time": "2024-01-14T15:33:35.581269",
     "exception": false,
     "start_time": "2024-01-14T15:33:35.565489",
     "status": "completed"
    },
    "tags": []
   },
   "outputs": [],
   "source": [
    "pd.set_option('display.max_columns', None)"
   ]
  },
  {
   "cell_type": "code",
   "execution_count": 7,
   "id": "50fa18c1",
   "metadata": {
    "execution": {
     "iopub.execute_input": "2024-01-14T15:33:35.596989Z",
     "iopub.status.busy": "2024-01-14T15:33:35.596694Z",
     "iopub.status.idle": "2024-01-14T15:33:35.610666Z",
     "shell.execute_reply": "2024-01-14T15:33:35.609626Z"
    },
    "papermill": {
     "duration": 0.024863,
     "end_time": "2024-01-14T15:33:35.612928",
     "exception": false,
     "start_time": "2024-01-14T15:33:35.588065",
     "status": "completed"
    },
    "tags": []
   },
   "outputs": [
    {
     "name": "stdout",
     "output_type": "stream",
     "text": [
      "Display Content of the DataFrame:\n",
      "      year        income\n",
      "0   1970   3399.299037\n",
      "1   1971   3768.297935\n",
      "2   1972   4251.175484\n",
      "3   1973   4804.463248\n",
      "4   1974   5576.514583\n",
      "..   ...           ...\n",
      "42  2012  42665.255970\n",
      "43  2013  42676.468370\n",
      "44  2014  41039.893600\n",
      "45  2015  35175.188980\n",
      "46  2016  34229.193630\n",
      "\n",
      "[47 rows x 2 columns]\n"
     ]
    }
   ],
   "source": [
    "print(\"Display Content of the DataFrame:\\n \", df)"
   ]
  },
  {
   "cell_type": "markdown",
   "id": "37ffbae1",
   "metadata": {
    "papermill": {
     "duration": 0.007512,
     "end_time": "2024-01-14T15:33:35.627410",
     "exception": false,
     "start_time": "2024-01-14T15:33:35.619898",
     "status": "completed"
    },
    "tags": []
   },
   "source": [
    "**Show the first 5 rows of a DataFrame using head() method**"
   ]
  },
  {
   "cell_type": "code",
   "execution_count": 8,
   "id": "c8096a42",
   "metadata": {
    "execution": {
     "iopub.execute_input": "2024-01-14T15:33:35.643408Z",
     "iopub.status.busy": "2024-01-14T15:33:35.643080Z",
     "iopub.status.idle": "2024-01-14T15:33:35.654242Z",
     "shell.execute_reply": "2024-01-14T15:33:35.653536Z"
    },
    "papermill": {
     "duration": 0.021256,
     "end_time": "2024-01-14T15:33:35.656007",
     "exception": false,
     "start_time": "2024-01-14T15:33:35.634751",
     "status": "completed"
    },
    "tags": []
   },
   "outputs": [
    {
     "data": {
      "text/html": [
       "<div>\n",
       "<style scoped>\n",
       "    .dataframe tbody tr th:only-of-type {\n",
       "        vertical-align: middle;\n",
       "    }\n",
       "\n",
       "    .dataframe tbody tr th {\n",
       "        vertical-align: top;\n",
       "    }\n",
       "\n",
       "    .dataframe thead th {\n",
       "        text-align: right;\n",
       "    }\n",
       "</style>\n",
       "<table border=\"1\" class=\"dataframe\">\n",
       "  <thead>\n",
       "    <tr style=\"text-align: right;\">\n",
       "      <th></th>\n",
       "      <th>year</th>\n",
       "      <th>income</th>\n",
       "    </tr>\n",
       "  </thead>\n",
       "  <tbody>\n",
       "    <tr>\n",
       "      <th>0</th>\n",
       "      <td>1970</td>\n",
       "      <td>3399.299037</td>\n",
       "    </tr>\n",
       "    <tr>\n",
       "      <th>1</th>\n",
       "      <td>1971</td>\n",
       "      <td>3768.297935</td>\n",
       "    </tr>\n",
       "    <tr>\n",
       "      <th>2</th>\n",
       "      <td>1972</td>\n",
       "      <td>4251.175484</td>\n",
       "    </tr>\n",
       "    <tr>\n",
       "      <th>3</th>\n",
       "      <td>1973</td>\n",
       "      <td>4804.463248</td>\n",
       "    </tr>\n",
       "    <tr>\n",
       "      <th>4</th>\n",
       "      <td>1974</td>\n",
       "      <td>5576.514583</td>\n",
       "    </tr>\n",
       "  </tbody>\n",
       "</table>\n",
       "</div>"
      ],
      "text/plain": [
       "   year       income\n",
       "0  1970  3399.299037\n",
       "1  1971  3768.297935\n",
       "2  1972  4251.175484\n",
       "3  1973  4804.463248\n",
       "4  1974  5576.514583"
      ]
     },
     "execution_count": 8,
     "metadata": {},
     "output_type": "execute_result"
    }
   ],
   "source": [
    "df.head()"
   ]
  },
  {
   "cell_type": "markdown",
   "id": "dad7b83f",
   "metadata": {
    "papermill": {
     "duration": 0.006686,
     "end_time": "2024-01-14T15:33:35.669643",
     "exception": false,
     "start_time": "2024-01-14T15:33:35.662957",
     "status": "completed"
    },
    "tags": []
   },
   "source": [
    "**Show the information of a DataFrame**"
   ]
  },
  {
   "cell_type": "code",
   "execution_count": 9,
   "id": "9d4b2d12",
   "metadata": {
    "execution": {
     "iopub.execute_input": "2024-01-14T15:33:35.685251Z",
     "iopub.status.busy": "2024-01-14T15:33:35.684711Z",
     "iopub.status.idle": "2024-01-14T15:33:35.712181Z",
     "shell.execute_reply": "2024-01-14T15:33:35.710190Z"
    },
    "papermill": {
     "duration": 0.03792,
     "end_time": "2024-01-14T15:33:35.714505",
     "exception": false,
     "start_time": "2024-01-14T15:33:35.676585",
     "status": "completed"
    },
    "tags": []
   },
   "outputs": [
    {
     "name": "stdout",
     "output_type": "stream",
     "text": [
      "<class 'pandas.core.frame.DataFrame'>\n",
      "RangeIndex: 47 entries, 0 to 46\n",
      "Data columns (total 2 columns):\n",
      " #   Column  Non-Null Count  Dtype  \n",
      "---  ------  --------------  -----  \n",
      " 0   year    47 non-null     int64  \n",
      " 1   income  47 non-null     float64\n",
      "dtypes: float64(1), int64(1)\n",
      "memory usage: 880.0 bytes\n"
     ]
    }
   ],
   "source": [
    "df.info()"
   ]
  },
  {
   "cell_type": "markdown",
   "id": "15b87ad2",
   "metadata": {
    "papermill": {
     "duration": 0.007457,
     "end_time": "2024-01-14T15:33:35.729358",
     "exception": false,
     "start_time": "2024-01-14T15:33:35.721901",
     "status": "completed"
    },
    "tags": []
   },
   "source": [
    "**Generate descriptive statstics of a DataFrame**"
   ]
  },
  {
   "cell_type": "code",
   "execution_count": 10,
   "id": "a1b3785a",
   "metadata": {
    "execution": {
     "iopub.execute_input": "2024-01-14T15:33:35.744621Z",
     "iopub.status.busy": "2024-01-14T15:33:35.744176Z",
     "iopub.status.idle": "2024-01-14T15:33:35.762662Z",
     "shell.execute_reply": "2024-01-14T15:33:35.761639Z"
    },
    "papermill": {
     "duration": 0.028462,
     "end_time": "2024-01-14T15:33:35.764523",
     "exception": false,
     "start_time": "2024-01-14T15:33:35.736061",
     "status": "completed"
    },
    "tags": []
   },
   "outputs": [
    {
     "data": {
      "text/html": [
       "<div>\n",
       "<style scoped>\n",
       "    .dataframe tbody tr th:only-of-type {\n",
       "        vertical-align: middle;\n",
       "    }\n",
       "\n",
       "    .dataframe tbody tr th {\n",
       "        vertical-align: top;\n",
       "    }\n",
       "\n",
       "    .dataframe thead th {\n",
       "        text-align: right;\n",
       "    }\n",
       "</style>\n",
       "<table border=\"1\" class=\"dataframe\">\n",
       "  <thead>\n",
       "    <tr style=\"text-align: right;\">\n",
       "      <th></th>\n",
       "      <th>year</th>\n",
       "      <th>income</th>\n",
       "    </tr>\n",
       "  </thead>\n",
       "  <tbody>\n",
       "    <tr>\n",
       "      <th>count</th>\n",
       "      <td>47.000000</td>\n",
       "      <td>47.000000</td>\n",
       "    </tr>\n",
       "    <tr>\n",
       "      <th>mean</th>\n",
       "      <td>1993.000000</td>\n",
       "      <td>18920.137063</td>\n",
       "    </tr>\n",
       "    <tr>\n",
       "      <th>std</th>\n",
       "      <td>13.711309</td>\n",
       "      <td>12034.679438</td>\n",
       "    </tr>\n",
       "    <tr>\n",
       "      <th>min</th>\n",
       "      <td>1970.000000</td>\n",
       "      <td>3399.299037</td>\n",
       "    </tr>\n",
       "    <tr>\n",
       "      <th>25%</th>\n",
       "      <td>1981.500000</td>\n",
       "      <td>9526.914515</td>\n",
       "    </tr>\n",
       "    <tr>\n",
       "      <th>50%</th>\n",
       "      <td>1993.000000</td>\n",
       "      <td>16426.725480</td>\n",
       "    </tr>\n",
       "    <tr>\n",
       "      <th>75%</th>\n",
       "      <td>2004.500000</td>\n",
       "      <td>27458.601420</td>\n",
       "    </tr>\n",
       "    <tr>\n",
       "      <th>max</th>\n",
       "      <td>2016.000000</td>\n",
       "      <td>42676.468370</td>\n",
       "    </tr>\n",
       "  </tbody>\n",
       "</table>\n",
       "</div>"
      ],
      "text/plain": [
       "              year        income\n",
       "count    47.000000     47.000000\n",
       "mean   1993.000000  18920.137063\n",
       "std      13.711309  12034.679438\n",
       "min    1970.000000   3399.299037\n",
       "25%    1981.500000   9526.914515\n",
       "50%    1993.000000  16426.725480\n",
       "75%    2004.500000  27458.601420\n",
       "max    2016.000000  42676.468370"
      ]
     },
     "execution_count": 10,
     "metadata": {},
     "output_type": "execute_result"
    }
   ],
   "source": [
    "df.describe()"
   ]
  },
  {
   "cell_type": "markdown",
   "id": "0ec213cc",
   "metadata": {
    "papermill": {
     "duration": 0.006765,
     "end_time": "2024-01-14T15:33:35.778895",
     "exception": false,
     "start_time": "2024-01-14T15:33:35.772130",
     "status": "completed"
    },
    "tags": []
   },
   "source": [
    "---"
   ]
  },
  {
   "cell_type": "markdown",
   "id": "cbf7e0f4",
   "metadata": {
    "papermill": {
     "duration": 0.00655,
     "end_time": "2024-01-14T15:33:35.792526",
     "exception": false,
     "start_time": "2024-01-14T15:33:35.785976",
     "status": "completed"
    },
    "tags": []
   },
   "source": [
    "### Creating new DataFrame\n",
    "A DataFrame can be created by **df.DataFrame()** method.\n",
    "\n",
    "The content of a DataFrame is constructed using Python **dictionary-list**, where the **key** in the dictionary is the **column name** of the DataFrame, and the **values** are **a list of entries**."
   ]
  },
  {
   "cell_type": "code",
   "execution_count": 11,
   "id": "4fa7a8d2",
   "metadata": {
    "execution": {
     "iopub.execute_input": "2024-01-14T15:33:35.807930Z",
     "iopub.status.busy": "2024-01-14T15:33:35.807547Z",
     "iopub.status.idle": "2024-01-14T15:33:35.817716Z",
     "shell.execute_reply": "2024-01-14T15:33:35.816590Z"
    },
    "papermill": {
     "duration": 0.020323,
     "end_time": "2024-01-14T15:33:35.819666",
     "exception": false,
     "start_time": "2024-01-14T15:33:35.799343",
     "status": "completed"
    },
    "tags": []
   },
   "outputs": [
    {
     "data": {
      "text/html": [
       "<div>\n",
       "<style scoped>\n",
       "    .dataframe tbody tr th:only-of-type {\n",
       "        vertical-align: middle;\n",
       "    }\n",
       "\n",
       "    .dataframe tbody tr th {\n",
       "        vertical-align: top;\n",
       "    }\n",
       "\n",
       "    .dataframe thead th {\n",
       "        text-align: right;\n",
       "    }\n",
       "</style>\n",
       "<table border=\"1\" class=\"dataframe\">\n",
       "  <thead>\n",
       "    <tr style=\"text-align: right;\">\n",
       "      <th></th>\n",
       "      <th>year</th>\n",
       "      <th>income</th>\n",
       "    </tr>\n",
       "  </thead>\n",
       "  <tbody>\n",
       "    <tr>\n",
       "      <th>0</th>\n",
       "      <td>2020</td>\n",
       "      <td>36000</td>\n",
       "    </tr>\n",
       "    <tr>\n",
       "      <th>1</th>\n",
       "      <td>2021</td>\n",
       "      <td>38000</td>\n",
       "    </tr>\n",
       "  </tbody>\n",
       "</table>\n",
       "</div>"
      ],
      "text/plain": [
       "   year  income\n",
       "0  2020   36000\n",
       "1  2021   38000"
      ]
     },
     "execution_count": 11,
     "metadata": {},
     "output_type": "execute_result"
    }
   ],
   "source": [
    "pd.DataFrame({\"year\":[2020,2021],\n",
    "              \"income\":[36000,38000]})"
   ]
  },
  {
   "cell_type": "markdown",
   "id": "f02d1080",
   "metadata": {
    "papermill": {
     "duration": 0.00699,
     "end_time": "2024-01-14T15:33:35.833774",
     "exception": false,
     "start_time": "2024-01-14T15:33:35.826784",
     "status": "completed"
    },
    "tags": []
   },
   "source": [
    "By default, the row index of a new DataFrame is acsending from 0(0,1,2,3,...).\n",
    "It's also possible to assign the desired row index when creating a DataFrame unsing `index`."
   ]
  },
  {
   "cell_type": "code",
   "execution_count": 12,
   "id": "7b7d505f",
   "metadata": {
    "execution": {
     "iopub.execute_input": "2024-01-14T15:33:35.850593Z",
     "iopub.status.busy": "2024-01-14T15:33:35.849314Z",
     "iopub.status.idle": "2024-01-14T15:33:35.859352Z",
     "shell.execute_reply": "2024-01-14T15:33:35.858544Z"
    },
    "papermill": {
     "duration": 0.020516,
     "end_time": "2024-01-14T15:33:35.861323",
     "exception": false,
     "start_time": "2024-01-14T15:33:35.840807",
     "status": "completed"
    },
    "tags": []
   },
   "outputs": [
    {
     "data": {
      "text/html": [
       "<div>\n",
       "<style scoped>\n",
       "    .dataframe tbody tr th:only-of-type {\n",
       "        vertical-align: middle;\n",
       "    }\n",
       "\n",
       "    .dataframe tbody tr th {\n",
       "        vertical-align: top;\n",
       "    }\n",
       "\n",
       "    .dataframe thead th {\n",
       "        text-align: right;\n",
       "    }\n",
       "</style>\n",
       "<table border=\"1\" class=\"dataframe\">\n",
       "  <thead>\n",
       "    <tr style=\"text-align: right;\">\n",
       "      <th></th>\n",
       "      <th>year</th>\n",
       "      <th>income</th>\n",
       "    </tr>\n",
       "  </thead>\n",
       "  <tbody>\n",
       "    <tr>\n",
       "      <th>1</th>\n",
       "      <td>2020</td>\n",
       "      <td>36000</td>\n",
       "    </tr>\n",
       "    <tr>\n",
       "      <th>2</th>\n",
       "      <td>2021</td>\n",
       "      <td>38000</td>\n",
       "    </tr>\n",
       "  </tbody>\n",
       "</table>\n",
       "</div>"
      ],
      "text/plain": [
       "   year  income\n",
       "1  2020   36000\n",
       "2  2021   38000"
      ]
     },
     "execution_count": 12,
     "metadata": {},
     "output_type": "execute_result"
    }
   ],
   "source": [
    "pd.DataFrame({\"year\":[2020,2021],\n",
    "              \"income\":[36000,38000]},\n",
    "               index = [1,2])"
   ]
  },
  {
   "cell_type": "markdown",
   "id": "dcafabaf",
   "metadata": {
    "papermill": {
     "duration": 0.006754,
     "end_time": "2024-01-14T15:33:35.875377",
     "exception": false,
     "start_time": "2024-01-14T15:33:35.868623",
     "status": "completed"
    },
    "tags": []
   },
   "source": [
    "---"
   ]
  },
  {
   "cell_type": "markdown",
   "id": "d297d1bf",
   "metadata": {
    "papermill": {
     "duration": 0.006781,
     "end_time": "2024-01-14T15:33:35.889053",
     "exception": false,
     "start_time": "2024-01-14T15:33:35.882272",
     "status": "completed"
    },
    "tags": []
   },
   "source": [
    "### Indexing and selecting data"
   ]
  },
  {
   "cell_type": "markdown",
   "id": "b35720e7",
   "metadata": {
    "papermill": {
     "duration": 0.006661,
     "end_time": "2024-01-14T15:33:35.902689",
     "exception": false,
     "start_time": "2024-01-14T15:33:35.896028",
     "status": "completed"
    },
    "tags": []
   },
   "source": [
    "Access column of a DataFrame using `.` or `[]` operator."
   ]
  },
  {
   "cell_type": "code",
   "execution_count": 13,
   "id": "9476db1d",
   "metadata": {
    "execution": {
     "iopub.execute_input": "2024-01-14T15:33:35.919172Z",
     "iopub.status.busy": "2024-01-14T15:33:35.918317Z",
     "iopub.status.idle": "2024-01-14T15:33:35.926264Z",
     "shell.execute_reply": "2024-01-14T15:33:35.925237Z"
    },
    "papermill": {
     "duration": 0.018918,
     "end_time": "2024-01-14T15:33:35.928698",
     "exception": false,
     "start_time": "2024-01-14T15:33:35.909780",
     "status": "completed"
    },
    "tags": []
   },
   "outputs": [
    {
     "data": {
      "text/plain": [
       "0     1970\n",
       "1     1971\n",
       "2     1972\n",
       "3     1973\n",
       "4     1974\n",
       "      ... \n",
       "42    2012\n",
       "43    2013\n",
       "44    2014\n",
       "45    2015\n",
       "46    2016\n",
       "Name: year, Length: 47, dtype: int64"
      ]
     },
     "execution_count": 13,
     "metadata": {},
     "output_type": "execute_result"
    }
   ],
   "source": [
    "X = df.year\n",
    "X"
   ]
  },
  {
   "cell_type": "code",
   "execution_count": 14,
   "id": "27433dae",
   "metadata": {
    "execution": {
     "iopub.execute_input": "2024-01-14T15:33:35.946622Z",
     "iopub.status.busy": "2024-01-14T15:33:35.945386Z",
     "iopub.status.idle": "2024-01-14T15:33:35.952097Z",
     "shell.execute_reply": "2024-01-14T15:33:35.950872Z"
    },
    "papermill": {
     "duration": 0.018572,
     "end_time": "2024-01-14T15:33:35.954990",
     "exception": false,
     "start_time": "2024-01-14T15:33:35.936418",
     "status": "completed"
    },
    "tags": []
   },
   "outputs": [
    {
     "data": {
      "text/plain": [
       "pandas.core.series.Series"
      ]
     },
     "execution_count": 14,
     "metadata": {},
     "output_type": "execute_result"
    }
   ],
   "source": [
    "type(X)"
   ]
  },
  {
   "cell_type": "code",
   "execution_count": 15,
   "id": "6cb5e168",
   "metadata": {
    "execution": {
     "iopub.execute_input": "2024-01-14T15:33:35.973875Z",
     "iopub.status.busy": "2024-01-14T15:33:35.973468Z",
     "iopub.status.idle": "2024-01-14T15:33:35.980444Z",
     "shell.execute_reply": "2024-01-14T15:33:35.978872Z"
    },
    "papermill": {
     "duration": 0.020164,
     "end_time": "2024-01-14T15:33:35.983318",
     "exception": false,
     "start_time": "2024-01-14T15:33:35.963154",
     "status": "completed"
    },
    "tags": []
   },
   "outputs": [
    {
     "data": {
      "text/plain": [
       "pandas.core.series.Series"
      ]
     },
     "execution_count": 15,
     "metadata": {},
     "output_type": "execute_result"
    }
   ],
   "source": [
    "X= df['income']\n",
    "type(X)"
   ]
  },
  {
   "cell_type": "markdown",
   "id": "816b87ef",
   "metadata": {
    "papermill": {
     "duration": 0.00723,
     "end_time": "2024-01-14T15:33:35.998552",
     "exception": false,
     "start_time": "2024-01-14T15:33:35.991322",
     "status": "completed"
    },
    "tags": []
   },
   "source": [
    "the indexing operator `[]` does have the advantage that it can handle column names with reserved characters in them (e.g. if we had a income in year column, df.income in year wouldn't work)."
   ]
  },
  {
   "cell_type": "markdown",
   "id": "bee962a9",
   "metadata": {
    "papermill": {
     "duration": 0.007851,
     "end_time": "2024-01-14T15:33:36.014779",
     "exception": false,
     "start_time": "2024-01-14T15:33:36.006928",
     "status": "completed"
    },
    "tags": []
   },
   "source": [
    "Access single value of a column in DataFrame"
   ]
  },
  {
   "cell_type": "code",
   "execution_count": 16,
   "id": "386294bf",
   "metadata": {
    "execution": {
     "iopub.execute_input": "2024-01-14T15:33:36.032880Z",
     "iopub.status.busy": "2024-01-14T15:33:36.032264Z",
     "iopub.status.idle": "2024-01-14T15:33:36.038926Z",
     "shell.execute_reply": "2024-01-14T15:33:36.037742Z"
    },
    "papermill": {
     "duration": 0.018273,
     "end_time": "2024-01-14T15:33:36.041325",
     "exception": false,
     "start_time": "2024-01-14T15:33:36.023052",
     "status": "completed"
    },
    "tags": []
   },
   "outputs": [
    {
     "data": {
      "text/plain": [
       "1970"
      ]
     },
     "execution_count": 16,
     "metadata": {},
     "output_type": "execute_result"
    }
   ],
   "source": [
    "df['year'][0]"
   ]
  },
  {
   "cell_type": "code",
   "execution_count": 17,
   "id": "751d37ea",
   "metadata": {
    "execution": {
     "iopub.execute_input": "2024-01-14T15:33:36.059524Z",
     "iopub.status.busy": "2024-01-14T15:33:36.058870Z",
     "iopub.status.idle": "2024-01-14T15:33:36.065116Z",
     "shell.execute_reply": "2024-01-14T15:33:36.063484Z"
    },
    "papermill": {
     "duration": 0.018174,
     "end_time": "2024-01-14T15:33:36.067764",
     "exception": false,
     "start_time": "2024-01-14T15:33:36.049590",
     "status": "completed"
    },
    "tags": []
   },
   "outputs": [
    {
     "data": {
      "text/plain": [
       "3768.297935"
      ]
     },
     "execution_count": 17,
     "metadata": {},
     "output_type": "execute_result"
    }
   ],
   "source": [
    "df['income'][1]"
   ]
  }
 ],
 "metadata": {
  "kaggle": {
   "accelerator": "none",
   "dataSources": [
    {
     "datasetId": 3565387,
     "sourceId": 6209250,
     "sourceType": "datasetVersion"
    }
   ],
   "dockerImageVersionId": 30527,
   "isGpuEnabled": false,
   "isInternetEnabled": true,
   "language": "python",
   "sourceType": "notebook"
  },
  "kernelspec": {
   "display_name": "Python 3",
   "language": "python",
   "name": "python3"
  },
  "language_info": {
   "codemirror_mode": {
    "name": "ipython",
    "version": 3
   },
   "file_extension": ".py",
   "mimetype": "text/x-python",
   "name": "python",
   "nbconvert_exporter": "python",
   "pygments_lexer": "ipython3",
   "version": "3.10.12"
  },
  "papermill": {
   "default_parameters": {},
   "duration": 11.830675,
   "end_time": "2024-01-14T15:33:36.799661",
   "environment_variables": {},
   "exception": null,
   "input_path": "__notebook__.ipynb",
   "output_path": "__notebook__.ipynb",
   "parameters": {},
   "start_time": "2024-01-14T15:33:24.968986",
   "version": "2.4.0"
  }
 },
 "nbformat": 4,
 "nbformat_minor": 5
}
