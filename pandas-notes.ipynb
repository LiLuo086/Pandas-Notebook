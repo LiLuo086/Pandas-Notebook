{
 "cells": [
  {
   "cell_type": "markdown",
   "id": "99de2a5d",
   "metadata": {
    "papermill": {
     "duration": 0.010061,
     "end_time": "2024-01-14T18:17:01.805342",
     "exception": false,
     "start_time": "2024-01-14T18:17:01.795281",
     "status": "completed"
    },
    "tags": []
   },
   "source": [
    "### Table of Content\n",
    "1. [Import data](#Import-data)\n",
    "2. [Inspecting data](#Inspecting-data)\n",
    "3. [Creating new DataFrame](#Creating-new-DataFrame)\n",
    "4. [Indexing and selecting data](#Indexing-and-selecting-data)\n",
    "5. [Converting data type](#Converting-data-type)\n"
   ]
  },
  {
   "cell_type": "markdown",
   "id": "a65a48bc",
   "metadata": {
    "papermill": {
     "duration": 0.009325,
     "end_time": "2024-01-14T18:17:01.824870",
     "exception": false,
     "start_time": "2024-01-14T18:17:01.815545",
     "status": "completed"
    },
    "tags": []
   },
   "source": [
    "Pandas stands for Python Data Analysis Library, is the most popular Python library for data analysis."
   ]
  },
  {
   "cell_type": "markdown",
   "id": "99989b6c",
   "metadata": {
    "papermill": {
     "duration": 0.009232,
     "end_time": "2024-01-14T18:17:01.843750",
     "exception": false,
     "start_time": "2024-01-14T18:17:01.834518",
     "status": "completed"
    },
    "tags": []
   },
   "source": [
    "Import **pandas** using alias **pd**"
   ]
  },
  {
   "cell_type": "code",
   "execution_count": 1,
   "id": "4431b22c",
   "metadata": {
    "execution": {
     "iopub.execute_input": "2024-01-14T18:17:01.865142Z",
     "iopub.status.busy": "2024-01-14T18:17:01.864636Z",
     "iopub.status.idle": "2024-01-14T18:17:01.876903Z",
     "shell.execute_reply": "2024-01-14T18:17:01.875701Z"
    },
    "papermill": {
     "duration": 0.026164,
     "end_time": "2024-01-14T18:17:01.879517",
     "exception": false,
     "start_time": "2024-01-14T18:17:01.853353",
     "status": "completed"
    },
    "tags": []
   },
   "outputs": [],
   "source": [
    "import pandas as pd \n",
    "import numpy as np"
   ]
  },
  {
   "cell_type": "markdown",
   "id": "3096ca39",
   "metadata": {
    "papermill": {
     "duration": 0.010473,
     "end_time": "2024-01-14T18:17:01.901430",
     "exception": false,
     "start_time": "2024-01-14T18:17:01.890957",
     "status": "completed"
    },
    "tags": []
   },
   "source": [
    "\n",
    "### Import data\n",
    "-------------------------"
   ]
  },
  {
   "cell_type": "markdown",
   "id": "5aeb5545",
   "metadata": {
    "papermill": {
     "duration": 0.009368,
     "end_time": "2024-01-14T18:17:01.921323",
     "exception": false,
     "start_time": "2024-01-14T18:17:01.911955",
     "status": "completed"
    },
    "tags": []
   },
   "source": [
    "Load data stored in a csv file into a DataFrame using **pd.read_scv()** method"
   ]
  },
  {
   "cell_type": "code",
   "execution_count": 2,
   "id": "949c7fbb",
   "metadata": {
    "execution": {
     "iopub.execute_input": "2024-01-14T18:17:01.943380Z",
     "iopub.status.busy": "2024-01-14T18:17:01.942897Z",
     "iopub.status.idle": "2024-01-14T18:17:01.967028Z",
     "shell.execute_reply": "2024-01-14T18:17:01.965830Z"
    },
    "papermill": {
     "duration": 0.038428,
     "end_time": "2024-01-14T18:17:01.969946",
     "exception": false,
     "start_time": "2024-01-14T18:17:01.931518",
     "status": "completed"
    },
    "tags": []
   },
   "outputs": [],
   "source": [
    "df = pd.read_csv('/kaggle/input/canada-per-capita-income/Canada_per_capita_income.csv') "
   ]
  },
  {
   "cell_type": "markdown",
   "id": "d4e30704",
   "metadata": {
    "papermill": {
     "duration": 0.009206,
     "end_time": "2024-01-14T18:17:01.989009",
     "exception": false,
     "start_time": "2024-01-14T18:17:01.979803",
     "status": "completed"
    },
    "tags": []
   },
   "source": [
    "### Inspecting data\n",
    "-------------------------"
   ]
  },
  {
   "cell_type": "code",
   "execution_count": 3,
   "id": "2b119ac3",
   "metadata": {
    "execution": {
     "iopub.execute_input": "2024-01-14T18:17:02.010611Z",
     "iopub.status.busy": "2024-01-14T18:17:02.010205Z",
     "iopub.status.idle": "2024-01-14T18:17:02.016293Z",
     "shell.execute_reply": "2024-01-14T18:17:02.014973Z"
    },
    "papermill": {
     "duration": 0.020373,
     "end_time": "2024-01-14T18:17:02.019317",
     "exception": false,
     "start_time": "2024-01-14T18:17:01.998944",
     "status": "completed"
    },
    "tags": []
   },
   "outputs": [
    {
     "name": "stdout",
     "output_type": "stream",
     "text": [
      "The shape of the DataFrame:  (47, 2)\n"
     ]
    }
   ],
   "source": [
    "# Show the DataFrame shape, such as number of rows and columns\n",
    "print(\"The shape of the DataFrame: \",df.shape)"
   ]
  },
  {
   "cell_type": "markdown",
   "id": "50da0ff4",
   "metadata": {
    "papermill": {
     "duration": 0.009517,
     "end_time": "2024-01-14T18:17:02.038901",
     "exception": false,
     "start_time": "2024-01-14T18:17:02.029384",
     "status": "completed"
    },
    "tags": []
   },
   "source": [
    "Pandas only return the first 5 rows and last 5 rows and headers of a DataFrame, if the total rows of a DataFrame is less the the maximal rows allowed by system.\n",
    "\n",
    "If the system allowed maximal rows is larger than the number of rows of a DataFrame, all rows can be displayed."
   ]
  },
  {
   "cell_type": "code",
   "execution_count": 4,
   "id": "e51d7cab",
   "metadata": {
    "execution": {
     "iopub.execute_input": "2024-01-14T18:17:02.061257Z",
     "iopub.status.busy": "2024-01-14T18:17:02.060720Z",
     "iopub.status.idle": "2024-01-14T18:17:02.066671Z",
     "shell.execute_reply": "2024-01-14T18:17:02.065307Z"
    },
    "papermill": {
     "duration": 0.019981,
     "end_time": "2024-01-14T18:17:02.069270",
     "exception": false,
     "start_time": "2024-01-14T18:17:02.049289",
     "status": "completed"
    },
    "tags": []
   },
   "outputs": [
    {
     "name": "stdout",
     "output_type": "stream",
     "text": [
      "60\n"
     ]
    }
   ],
   "source": [
    "# Show the maximal system allowed rows in a DataFrame\n",
    "print(pd.options.display.max_rows)"
   ]
  },
  {
   "cell_type": "code",
   "execution_count": 5,
   "id": "2a2d3256",
   "metadata": {
    "execution": {
     "iopub.execute_input": "2024-01-14T18:17:02.090389Z",
     "iopub.status.busy": "2024-01-14T18:17:02.090017Z",
     "iopub.status.idle": "2024-01-14T18:17:02.095958Z",
     "shell.execute_reply": "2024-01-14T18:17:02.094722Z"
    },
    "papermill": {
     "duration": 0.019382,
     "end_time": "2024-01-14T18:17:02.098429",
     "exception": false,
     "start_time": "2024-01-14T18:17:02.079047",
     "status": "completed"
    },
    "tags": []
   },
   "outputs": [],
   "source": [
    "# Change the system allowed maximal rows\n",
    "pd.options.display.max_rows = 30"
   ]
  },
  {
   "cell_type": "code",
   "execution_count": 6,
   "id": "0e4c2abf",
   "metadata": {
    "execution": {
     "iopub.execute_input": "2024-01-14T18:17:02.119719Z",
     "iopub.status.busy": "2024-01-14T18:17:02.119346Z",
     "iopub.status.idle": "2024-01-14T18:17:02.136278Z",
     "shell.execute_reply": "2024-01-14T18:17:02.134892Z"
    },
    "papermill": {
     "duration": 0.030532,
     "end_time": "2024-01-14T18:17:02.138792",
     "exception": false,
     "start_time": "2024-01-14T18:17:02.108260",
     "status": "completed"
    },
    "tags": []
   },
   "outputs": [
    {
     "name": "stdout",
     "output_type": "stream",
     "text": [
      "Display Content of the DataFrame:\n",
      "      year        income\n",
      "0   1970   3399.299037\n",
      "1   1971   3768.297935\n",
      "2   1972   4251.175484\n",
      "3   1973   4804.463248\n",
      "4   1974   5576.514583\n",
      "..   ...           ...\n",
      "42  2012  42665.255970\n",
      "43  2013  42676.468370\n",
      "44  2014  41039.893600\n",
      "45  2015  35175.188980\n",
      "46  2016  34229.193630\n",
      "\n",
      "[47 rows x 2 columns]\n"
     ]
    }
   ],
   "source": [
    "# Show all columns in the dataframe\n",
    "# None is assigned to 'display.max_columns', indicating that there is no maximum limit on the number of columns to display.\n",
    "pd.set_option('display.max_columns', None)\n",
    "\n",
    "print(\"Display Content of the DataFrame:\\n \", df)"
   ]
  },
  {
   "cell_type": "code",
   "execution_count": 7,
   "id": "7f2a4b3a",
   "metadata": {
    "execution": {
     "iopub.execute_input": "2024-01-14T18:17:02.160253Z",
     "iopub.status.busy": "2024-01-14T18:17:02.159859Z",
     "iopub.status.idle": "2024-01-14T18:17:02.174115Z",
     "shell.execute_reply": "2024-01-14T18:17:02.172909Z"
    },
    "papermill": {
     "duration": 0.027839,
     "end_time": "2024-01-14T18:17:02.176544",
     "exception": false,
     "start_time": "2024-01-14T18:17:02.148705",
     "status": "completed"
    },
    "tags": []
   },
   "outputs": [
    {
     "data": {
      "text/html": [
       "<div>\n",
       "<style scoped>\n",
       "    .dataframe tbody tr th:only-of-type {\n",
       "        vertical-align: middle;\n",
       "    }\n",
       "\n",
       "    .dataframe tbody tr th {\n",
       "        vertical-align: top;\n",
       "    }\n",
       "\n",
       "    .dataframe thead th {\n",
       "        text-align: right;\n",
       "    }\n",
       "</style>\n",
       "<table border=\"1\" class=\"dataframe\">\n",
       "  <thead>\n",
       "    <tr style=\"text-align: right;\">\n",
       "      <th></th>\n",
       "      <th>year</th>\n",
       "      <th>income</th>\n",
       "    </tr>\n",
       "  </thead>\n",
       "  <tbody>\n",
       "    <tr>\n",
       "      <th>0</th>\n",
       "      <td>1970</td>\n",
       "      <td>3399.299037</td>\n",
       "    </tr>\n",
       "    <tr>\n",
       "      <th>1</th>\n",
       "      <td>1971</td>\n",
       "      <td>3768.297935</td>\n",
       "    </tr>\n",
       "    <tr>\n",
       "      <th>2</th>\n",
       "      <td>1972</td>\n",
       "      <td>4251.175484</td>\n",
       "    </tr>\n",
       "    <tr>\n",
       "      <th>3</th>\n",
       "      <td>1973</td>\n",
       "      <td>4804.463248</td>\n",
       "    </tr>\n",
       "    <tr>\n",
       "      <th>4</th>\n",
       "      <td>1974</td>\n",
       "      <td>5576.514583</td>\n",
       "    </tr>\n",
       "  </tbody>\n",
       "</table>\n",
       "</div>"
      ],
      "text/plain": [
       "   year       income\n",
       "0  1970  3399.299037\n",
       "1  1971  3768.297935\n",
       "2  1972  4251.175484\n",
       "3  1973  4804.463248\n",
       "4  1974  5576.514583"
      ]
     },
     "execution_count": 7,
     "metadata": {},
     "output_type": "execute_result"
    }
   ],
   "source": [
    "# Show the first 5 rows of a DataFrame using head() method\n",
    "df.head()"
   ]
  },
  {
   "cell_type": "code",
   "execution_count": 8,
   "id": "1e13e880",
   "metadata": {
    "execution": {
     "iopub.execute_input": "2024-01-14T18:17:02.198673Z",
     "iopub.status.busy": "2024-01-14T18:17:02.198267Z",
     "iopub.status.idle": "2024-01-14T18:17:02.229320Z",
     "shell.execute_reply": "2024-01-14T18:17:02.228302Z"
    },
    "papermill": {
     "duration": 0.045091,
     "end_time": "2024-01-14T18:17:02.231825",
     "exception": false,
     "start_time": "2024-01-14T18:17:02.186734",
     "status": "completed"
    },
    "tags": []
   },
   "outputs": [
    {
     "name": "stdout",
     "output_type": "stream",
     "text": [
      "<class 'pandas.core.frame.DataFrame'>\n",
      "RangeIndex: 47 entries, 0 to 46\n",
      "Data columns (total 2 columns):\n",
      " #   Column  Non-Null Count  Dtype  \n",
      "---  ------  --------------  -----  \n",
      " 0   year    47 non-null     int64  \n",
      " 1   income  47 non-null     float64\n",
      "dtypes: float64(1), int64(1)\n",
      "memory usage: 880.0 bytes\n"
     ]
    }
   ],
   "source": [
    "# Show the information of a DataFrame\n",
    "df.info()"
   ]
  },
  {
   "cell_type": "code",
   "execution_count": 9,
   "id": "825fb67d",
   "metadata": {
    "execution": {
     "iopub.execute_input": "2024-01-14T18:17:02.253954Z",
     "iopub.status.busy": "2024-01-14T18:17:02.253559Z",
     "iopub.status.idle": "2024-01-14T18:17:02.274139Z",
     "shell.execute_reply": "2024-01-14T18:17:02.272996Z"
    },
    "papermill": {
     "duration": 0.034477,
     "end_time": "2024-01-14T18:17:02.276466",
     "exception": false,
     "start_time": "2024-01-14T18:17:02.241989",
     "status": "completed"
    },
    "tags": []
   },
   "outputs": [
    {
     "data": {
      "text/html": [
       "<div>\n",
       "<style scoped>\n",
       "    .dataframe tbody tr th:only-of-type {\n",
       "        vertical-align: middle;\n",
       "    }\n",
       "\n",
       "    .dataframe tbody tr th {\n",
       "        vertical-align: top;\n",
       "    }\n",
       "\n",
       "    .dataframe thead th {\n",
       "        text-align: right;\n",
       "    }\n",
       "</style>\n",
       "<table border=\"1\" class=\"dataframe\">\n",
       "  <thead>\n",
       "    <tr style=\"text-align: right;\">\n",
       "      <th></th>\n",
       "      <th>year</th>\n",
       "      <th>income</th>\n",
       "    </tr>\n",
       "  </thead>\n",
       "  <tbody>\n",
       "    <tr>\n",
       "      <th>count</th>\n",
       "      <td>47.000000</td>\n",
       "      <td>47.000000</td>\n",
       "    </tr>\n",
       "    <tr>\n",
       "      <th>mean</th>\n",
       "      <td>1993.000000</td>\n",
       "      <td>18920.137063</td>\n",
       "    </tr>\n",
       "    <tr>\n",
       "      <th>std</th>\n",
       "      <td>13.711309</td>\n",
       "      <td>12034.679438</td>\n",
       "    </tr>\n",
       "    <tr>\n",
       "      <th>min</th>\n",
       "      <td>1970.000000</td>\n",
       "      <td>3399.299037</td>\n",
       "    </tr>\n",
       "    <tr>\n",
       "      <th>25%</th>\n",
       "      <td>1981.500000</td>\n",
       "      <td>9526.914515</td>\n",
       "    </tr>\n",
       "    <tr>\n",
       "      <th>50%</th>\n",
       "      <td>1993.000000</td>\n",
       "      <td>16426.725480</td>\n",
       "    </tr>\n",
       "    <tr>\n",
       "      <th>75%</th>\n",
       "      <td>2004.500000</td>\n",
       "      <td>27458.601420</td>\n",
       "    </tr>\n",
       "    <tr>\n",
       "      <th>max</th>\n",
       "      <td>2016.000000</td>\n",
       "      <td>42676.468370</td>\n",
       "    </tr>\n",
       "  </tbody>\n",
       "</table>\n",
       "</div>"
      ],
      "text/plain": [
       "              year        income\n",
       "count    47.000000     47.000000\n",
       "mean   1993.000000  18920.137063\n",
       "std      13.711309  12034.679438\n",
       "min    1970.000000   3399.299037\n",
       "25%    1981.500000   9526.914515\n",
       "50%    1993.000000  16426.725480\n",
       "75%    2004.500000  27458.601420\n",
       "max    2016.000000  42676.468370"
      ]
     },
     "execution_count": 9,
     "metadata": {},
     "output_type": "execute_result"
    }
   ],
   "source": [
    "# Generate descriptive statstics of a DataFrame\n",
    "df.describe()"
   ]
  },
  {
   "cell_type": "markdown",
   "id": "ef72f51c",
   "metadata": {
    "papermill": {
     "duration": 0.010068,
     "end_time": "2024-01-14T18:17:02.297067",
     "exception": false,
     "start_time": "2024-01-14T18:17:02.286999",
     "status": "completed"
    },
    "tags": []
   },
   "source": [
    "### Creating new DataFrame\n",
    "------------------------------\n",
    "A DataFrame can be created by **df.DataFrame()** method.\n",
    "\n",
    "The content of a DataFrame is constructed using Python **dictionary-list**, where the **key** in the dictionary is the **column name** of the DataFrame, and the **values** are **a list of entries**."
   ]
  },
  {
   "cell_type": "code",
   "execution_count": 10,
   "id": "d23df7ce",
   "metadata": {
    "execution": {
     "iopub.execute_input": "2024-01-14T18:17:02.321292Z",
     "iopub.status.busy": "2024-01-14T18:17:02.320846Z",
     "iopub.status.idle": "2024-01-14T18:17:02.332225Z",
     "shell.execute_reply": "2024-01-14T18:17:02.331119Z"
    },
    "papermill": {
     "duration": 0.02698,
     "end_time": "2024-01-14T18:17:02.334528",
     "exception": false,
     "start_time": "2024-01-14T18:17:02.307548",
     "status": "completed"
    },
    "tags": []
   },
   "outputs": [
    {
     "data": {
      "text/html": [
       "<div>\n",
       "<style scoped>\n",
       "    .dataframe tbody tr th:only-of-type {\n",
       "        vertical-align: middle;\n",
       "    }\n",
       "\n",
       "    .dataframe tbody tr th {\n",
       "        vertical-align: top;\n",
       "    }\n",
       "\n",
       "    .dataframe thead th {\n",
       "        text-align: right;\n",
       "    }\n",
       "</style>\n",
       "<table border=\"1\" class=\"dataframe\">\n",
       "  <thead>\n",
       "    <tr style=\"text-align: right;\">\n",
       "      <th></th>\n",
       "      <th>year</th>\n",
       "      <th>income</th>\n",
       "    </tr>\n",
       "  </thead>\n",
       "  <tbody>\n",
       "    <tr>\n",
       "      <th>0</th>\n",
       "      <td>2020</td>\n",
       "      <td>36000</td>\n",
       "    </tr>\n",
       "    <tr>\n",
       "      <th>1</th>\n",
       "      <td>2021</td>\n",
       "      <td>38000</td>\n",
       "    </tr>\n",
       "  </tbody>\n",
       "</table>\n",
       "</div>"
      ],
      "text/plain": [
       "   year  income\n",
       "0  2020   36000\n",
       "1  2021   38000"
      ]
     },
     "execution_count": 10,
     "metadata": {},
     "output_type": "execute_result"
    }
   ],
   "source": [
    "pd.DataFrame({\"year\":[2020,2021],\n",
    "              \"income\":[36000,38000]})"
   ]
  },
  {
   "cell_type": "markdown",
   "id": "0778a20b",
   "metadata": {
    "papermill": {
     "duration": 0.010506,
     "end_time": "2024-01-14T18:17:02.355795",
     "exception": false,
     "start_time": "2024-01-14T18:17:02.345289",
     "status": "completed"
    },
    "tags": []
   },
   "source": [
    "By default, the row index of a new DataFrame is acsending from 0(0,1,2,3,...).\n",
    "It's also possible to assign the desired row index when creating a DataFrame unsing `index`."
   ]
  },
  {
   "cell_type": "code",
   "execution_count": 11,
   "id": "54f4e555",
   "metadata": {
    "execution": {
     "iopub.execute_input": "2024-01-14T18:17:02.378803Z",
     "iopub.status.busy": "2024-01-14T18:17:02.378395Z",
     "iopub.status.idle": "2024-01-14T18:17:02.390233Z",
     "shell.execute_reply": "2024-01-14T18:17:02.389128Z"
    },
    "papermill": {
     "duration": 0.026177,
     "end_time": "2024-01-14T18:17:02.392601",
     "exception": false,
     "start_time": "2024-01-14T18:17:02.366424",
     "status": "completed"
    },
    "tags": []
   },
   "outputs": [
    {
     "data": {
      "text/html": [
       "<div>\n",
       "<style scoped>\n",
       "    .dataframe tbody tr th:only-of-type {\n",
       "        vertical-align: middle;\n",
       "    }\n",
       "\n",
       "    .dataframe tbody tr th {\n",
       "        vertical-align: top;\n",
       "    }\n",
       "\n",
       "    .dataframe thead th {\n",
       "        text-align: right;\n",
       "    }\n",
       "</style>\n",
       "<table border=\"1\" class=\"dataframe\">\n",
       "  <thead>\n",
       "    <tr style=\"text-align: right;\">\n",
       "      <th></th>\n",
       "      <th>year</th>\n",
       "      <th>income</th>\n",
       "    </tr>\n",
       "  </thead>\n",
       "  <tbody>\n",
       "    <tr>\n",
       "      <th>1</th>\n",
       "      <td>2020</td>\n",
       "      <td>36000</td>\n",
       "    </tr>\n",
       "    <tr>\n",
       "      <th>2</th>\n",
       "      <td>2021</td>\n",
       "      <td>38000</td>\n",
       "    </tr>\n",
       "  </tbody>\n",
       "</table>\n",
       "</div>"
      ],
      "text/plain": [
       "   year  income\n",
       "1  2020   36000\n",
       "2  2021   38000"
      ]
     },
     "execution_count": 11,
     "metadata": {},
     "output_type": "execute_result"
    }
   ],
   "source": [
    "pd.DataFrame({\"year\":[2020,2021],\n",
    "              \"income\":[36000,38000]},\n",
    "               index = [1,2])"
   ]
  },
  {
   "cell_type": "markdown",
   "id": "34ff9c56",
   "metadata": {
    "papermill": {
     "duration": 0.010455,
     "end_time": "2024-01-14T18:17:02.413961",
     "exception": false,
     "start_time": "2024-01-14T18:17:02.403506",
     "status": "completed"
    },
    "tags": []
   },
   "source": [
    "### Indexing and selecting data\n",
    "---------------------------------"
   ]
  },
  {
   "cell_type": "markdown",
   "id": "a36a44ac",
   "metadata": {
    "papermill": {
     "duration": 0.01078,
     "end_time": "2024-01-14T18:17:02.435567",
     "exception": false,
     "start_time": "2024-01-14T18:17:02.424787",
     "status": "completed"
    },
    "tags": []
   },
   "source": [
    "Access column of a DataFrame using `.` or `[]` operator."
   ]
  },
  {
   "cell_type": "code",
   "execution_count": 12,
   "id": "df69d912",
   "metadata": {
    "execution": {
     "iopub.execute_input": "2024-01-14T18:17:02.458998Z",
     "iopub.status.busy": "2024-01-14T18:17:02.458567Z",
     "iopub.status.idle": "2024-01-14T18:17:02.467375Z",
     "shell.execute_reply": "2024-01-14T18:17:02.466215Z"
    },
    "papermill": {
     "duration": 0.023311,
     "end_time": "2024-01-14T18:17:02.469647",
     "exception": false,
     "start_time": "2024-01-14T18:17:02.446336",
     "status": "completed"
    },
    "tags": []
   },
   "outputs": [
    {
     "data": {
      "text/plain": [
       "0     1970\n",
       "1     1971\n",
       "2     1972\n",
       "3     1973\n",
       "4     1974\n",
       "      ... \n",
       "42    2012\n",
       "43    2013\n",
       "44    2014\n",
       "45    2015\n",
       "46    2016\n",
       "Name: year, Length: 47, dtype: int64"
      ]
     },
     "execution_count": 12,
     "metadata": {},
     "output_type": "execute_result"
    }
   ],
   "source": [
    "X = df.year\n",
    "X"
   ]
  },
  {
   "cell_type": "code",
   "execution_count": 13,
   "id": "dd78d4f5",
   "metadata": {
    "execution": {
     "iopub.execute_input": "2024-01-14T18:17:02.493619Z",
     "iopub.status.busy": "2024-01-14T18:17:02.493231Z",
     "iopub.status.idle": "2024-01-14T18:17:02.500009Z",
     "shell.execute_reply": "2024-01-14T18:17:02.499060Z"
    },
    "papermill": {
     "duration": 0.021446,
     "end_time": "2024-01-14T18:17:02.502307",
     "exception": false,
     "start_time": "2024-01-14T18:17:02.480861",
     "status": "completed"
    },
    "tags": []
   },
   "outputs": [
    {
     "data": {
      "text/plain": [
       "pandas.core.series.Series"
      ]
     },
     "execution_count": 13,
     "metadata": {},
     "output_type": "execute_result"
    }
   ],
   "source": [
    "type(X)"
   ]
  },
  {
   "cell_type": "code",
   "execution_count": 14,
   "id": "369addfa",
   "metadata": {
    "execution": {
     "iopub.execute_input": "2024-01-14T18:17:02.526490Z",
     "iopub.status.busy": "2024-01-14T18:17:02.526078Z",
     "iopub.status.idle": "2024-01-14T18:17:02.533884Z",
     "shell.execute_reply": "2024-01-14T18:17:02.532725Z"
    },
    "papermill": {
     "duration": 0.02296,
     "end_time": "2024-01-14T18:17:02.536340",
     "exception": false,
     "start_time": "2024-01-14T18:17:02.513380",
     "status": "completed"
    },
    "tags": []
   },
   "outputs": [
    {
     "data": {
      "text/plain": [
       "pandas.core.series.Series"
      ]
     },
     "execution_count": 14,
     "metadata": {},
     "output_type": "execute_result"
    }
   ],
   "source": [
    "X= df['income']\n",
    "type(X)"
   ]
  },
  {
   "cell_type": "markdown",
   "id": "ab77249f",
   "metadata": {
    "papermill": {
     "duration": 0.01091,
     "end_time": "2024-01-14T18:17:02.558624",
     "exception": false,
     "start_time": "2024-01-14T18:17:02.547714",
     "status": "completed"
    },
    "tags": []
   },
   "source": [
    "the indexing operator `[]` does have the advantage that it can handle column names with reserved characters in them (e.g. if we had a income in year column, df.income in year wouldn't work)."
   ]
  },
  {
   "cell_type": "markdown",
   "id": "e9b12d17",
   "metadata": {
    "papermill": {
     "duration": 0.011042,
     "end_time": "2024-01-14T18:17:02.581712",
     "exception": false,
     "start_time": "2024-01-14T18:17:02.570670",
     "status": "completed"
    },
    "tags": []
   },
   "source": [
    "Access single value of a column in DataFrame"
   ]
  },
  {
   "cell_type": "code",
   "execution_count": 15,
   "id": "ba220c9f",
   "metadata": {
    "execution": {
     "iopub.execute_input": "2024-01-14T18:17:02.606613Z",
     "iopub.status.busy": "2024-01-14T18:17:02.606192Z",
     "iopub.status.idle": "2024-01-14T18:17:02.613959Z",
     "shell.execute_reply": "2024-01-14T18:17:02.612764Z"
    },
    "papermill": {
     "duration": 0.023323,
     "end_time": "2024-01-14T18:17:02.616307",
     "exception": false,
     "start_time": "2024-01-14T18:17:02.592984",
     "status": "completed"
    },
    "tags": []
   },
   "outputs": [
    {
     "data": {
      "text/plain": [
       "1970"
      ]
     },
     "execution_count": 15,
     "metadata": {},
     "output_type": "execute_result"
    }
   ],
   "source": [
    "df['year'][0]"
   ]
  },
  {
   "cell_type": "code",
   "execution_count": 16,
   "id": "2ea7a886",
   "metadata": {
    "execution": {
     "iopub.execute_input": "2024-01-14T18:17:02.641816Z",
     "iopub.status.busy": "2024-01-14T18:17:02.641428Z",
     "iopub.status.idle": "2024-01-14T18:17:02.649215Z",
     "shell.execute_reply": "2024-01-14T18:17:02.648206Z"
    },
    "papermill": {
     "duration": 0.022968,
     "end_time": "2024-01-14T18:17:02.651510",
     "exception": false,
     "start_time": "2024-01-14T18:17:02.628542",
     "status": "completed"
    },
    "tags": []
   },
   "outputs": [
    {
     "data": {
      "text/plain": [
       "3768.297935"
      ]
     },
     "execution_count": 16,
     "metadata": {},
     "output_type": "execute_result"
    }
   ],
   "source": [
    "df['income'][1]"
   ]
  },
  {
   "cell_type": "markdown",
   "id": "41ca1ee3",
   "metadata": {
    "papermill": {
     "duration": 0.011183,
     "end_time": "2024-01-14T18:17:02.674596",
     "exception": false,
     "start_time": "2024-01-14T18:17:02.663413",
     "status": "completed"
    },
    "tags": []
   },
   "source": [
    "### Converting data type\n",
    "--------------------------"
   ]
  },
  {
   "cell_type": "code",
   "execution_count": 17,
   "id": "96fb4c3f",
   "metadata": {
    "execution": {
     "iopub.execute_input": "2024-01-14T18:17:02.699347Z",
     "iopub.status.busy": "2024-01-14T18:17:02.698968Z",
     "iopub.status.idle": "2024-01-14T18:17:02.703796Z",
     "shell.execute_reply": "2024-01-14T18:17:02.702598Z"
    },
    "papermill": {
     "duration": 0.020331,
     "end_time": "2024-01-14T18:17:02.706444",
     "exception": false,
     "start_time": "2024-01-14T18:17:02.686113",
     "status": "completed"
    },
    "tags": []
   },
   "outputs": [],
   "source": [
    "#df['year'] = df['year'].astype('bool')\n",
    "#print(df['year'])"
   ]
  },
  {
   "cell_type": "markdown",
   "id": "722efc7d",
   "metadata": {
    "papermill": {
     "duration": 0.01118,
     "end_time": "2024-01-14T18:17:02.729161",
     "exception": false,
     "start_time": "2024-01-14T18:17:02.717981",
     "status": "completed"
    },
    "tags": []
   },
   "source": [
    "### Creating new boolean column using condition\n",
    "----------------------------------------"
   ]
  },
  {
   "cell_type": "code",
   "execution_count": 18,
   "id": "efeb41c0",
   "metadata": {
    "execution": {
     "iopub.execute_input": "2024-01-14T18:17:02.754555Z",
     "iopub.status.busy": "2024-01-14T18:17:02.754133Z",
     "iopub.status.idle": "2024-01-14T18:17:02.763637Z",
     "shell.execute_reply": "2024-01-14T18:17:02.762369Z"
    },
    "papermill": {
     "duration": 0.025185,
     "end_time": "2024-01-14T18:17:02.766403",
     "exception": false,
     "start_time": "2024-01-14T18:17:02.741218",
     "status": "completed"
    },
    "tags": []
   },
   "outputs": [
    {
     "name": "stdout",
     "output_type": "stream",
     "text": [
      "0     False\n",
      "1     False\n",
      "2     False\n",
      "3     False\n",
      "4     False\n",
      "      ...  \n",
      "42     True\n",
      "43     True\n",
      "44     True\n",
      "45     True\n",
      "46     True\n",
      "Name: after_2000, Length: 47, dtype: bool\n"
     ]
    }
   ],
   "source": [
    "df['after_2000'] = np.where(\n",
    "                   df['year']>=2000,\n",
    "                   True, False)\n",
    "print(df['after_2000'])"
   ]
  }
 ],
 "metadata": {
  "kaggle": {
   "accelerator": "none",
   "dataSources": [
    {
     "datasetId": 3565387,
     "sourceId": 6209250,
     "sourceType": "datasetVersion"
    }
   ],
   "dockerImageVersionId": 30527,
   "isGpuEnabled": false,
   "isInternetEnabled": true,
   "language": "python",
   "sourceType": "notebook"
  },
  "kernelspec": {
   "display_name": "Python 3",
   "language": "python",
   "name": "python3"
  },
  "language_info": {
   "codemirror_mode": {
    "name": "ipython",
    "version": 3
   },
   "file_extension": ".py",
   "mimetype": "text/x-python",
   "name": "python",
   "nbconvert_exporter": "python",
   "pygments_lexer": "ipython3",
   "version": "3.10.12"
  },
  "papermill": {
   "default_parameters": {},
   "duration": 15.106275,
   "end_time": "2024-01-14T18:17:03.701095",
   "environment_variables": {},
   "exception": null,
   "input_path": "__notebook__.ipynb",
   "output_path": "__notebook__.ipynb",
   "parameters": {},
   "start_time": "2024-01-14T18:16:48.594820",
   "version": "2.4.0"
  }
 },
 "nbformat": 4,
 "nbformat_minor": 5
}
