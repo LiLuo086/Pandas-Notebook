{
 "cells": [
  {
   "cell_type": "markdown",
   "id": "409cc82d",
   "metadata": {
    "papermill": {
     "duration": 0.013291,
     "end_time": "2024-01-20T22:16:08.563377",
     "exception": false,
     "start_time": "2024-01-20T22:16:08.550086",
     "status": "completed"
    },
    "tags": []
   },
   "source": [
    "### Table of Content\n",
    "1. [Import data](#Import-data)\n",
    "2. [Inspecting data](#Inspecting-data)\n",
    "3. [Creating new DataFrame](#Creating-new-DataFrame)\n",
    "4. [Indexing and selecting data](#Indexing-and-selecting-data)\n",
    "5. [Converting data type](#Converting-data-type)\n",
    "6. [Creating new boolean column using condition](#Creating-new-boolean-column-using-condition)\n",
    "7. [Mapping values to existing columns](#Mapping-values-to-existing-columns)\n",
    "8. [Convert column to datetime column](#Convert-column-to-datetime-column)\n",
    "9. [Groupby data based on specific column](#Groupby-data-based-on-specific-column)\n"
   ]
  },
  {
   "cell_type": "markdown",
   "id": "d5b0d522",
   "metadata": {
    "papermill": {
     "duration": 0.012115,
     "end_time": "2024-01-20T22:16:08.588250",
     "exception": false,
     "start_time": "2024-01-20T22:16:08.576135",
     "status": "completed"
    },
    "tags": []
   },
   "source": [
    "**Pandas** stands for **Python Data Analysis Library**, is the most popular Python library for data analysis."
   ]
  },
  {
   "cell_type": "code",
   "execution_count": 1,
   "id": "2d5f9f55",
   "metadata": {
    "execution": {
     "iopub.execute_input": "2024-01-20T22:16:08.617487Z",
     "iopub.status.busy": "2024-01-20T22:16:08.616731Z",
     "iopub.status.idle": "2024-01-20T22:16:08.627562Z",
     "shell.execute_reply": "2024-01-20T22:16:08.626788Z"
    },
    "papermill": {
     "duration": 0.029238,
     "end_time": "2024-01-20T22:16:08.629933",
     "exception": false,
     "start_time": "2024-01-20T22:16:08.600695",
     "status": "completed"
    },
    "tags": []
   },
   "outputs": [],
   "source": [
    "# Import pandas using alias pd, numpy as np\n",
    "import pandas as pd \n",
    "import numpy as np"
   ]
  },
  {
   "cell_type": "markdown",
   "id": "735c755c",
   "metadata": {
    "papermill": {
     "duration": 0.012303,
     "end_time": "2024-01-20T22:16:08.654764",
     "exception": false,
     "start_time": "2024-01-20T22:16:08.642461",
     "status": "completed"
    },
    "tags": []
   },
   "source": [
    "\n",
    "### Import data\n",
    "-------------------------"
   ]
  },
  {
   "cell_type": "markdown",
   "id": "f904dc68",
   "metadata": {
    "papermill": {
     "duration": 0.012161,
     "end_time": "2024-01-20T22:16:08.679491",
     "exception": false,
     "start_time": "2024-01-20T22:16:08.667330",
     "status": "completed"
    },
    "tags": []
   },
   "source": [
    "Load data stored in a csv file into a DataFrame using **pd.read_scv()** method"
   ]
  },
  {
   "cell_type": "code",
   "execution_count": 2,
   "id": "498f7a84",
   "metadata": {
    "execution": {
     "iopub.execute_input": "2024-01-20T22:16:08.707270Z",
     "iopub.status.busy": "2024-01-20T22:16:08.706794Z",
     "iopub.status.idle": "2024-01-20T22:16:08.750738Z",
     "shell.execute_reply": "2024-01-20T22:16:08.749724Z"
    },
    "papermill": {
     "duration": 0.06149,
     "end_time": "2024-01-20T22:16:08.753700",
     "exception": false,
     "start_time": "2024-01-20T22:16:08.692210",
     "status": "completed"
    },
    "tags": []
   },
   "outputs": [],
   "source": [
    "marketing = pd.read_csv('/kaggle/input/arketing-campaign/marketing_campaign.csv', sep = ';') "
   ]
  },
  {
   "cell_type": "markdown",
   "id": "9a64f311",
   "metadata": {
    "papermill": {
     "duration": 0.013379,
     "end_time": "2024-01-20T22:16:08.780255",
     "exception": false,
     "start_time": "2024-01-20T22:16:08.766876",
     "status": "completed"
    },
    "tags": []
   },
   "source": [
    "### Inspecting data\n",
    "-------------------------"
   ]
  },
  {
   "cell_type": "code",
   "execution_count": 3,
   "id": "24ed799e",
   "metadata": {
    "execution": {
     "iopub.execute_input": "2024-01-20T22:16:08.807765Z",
     "iopub.status.busy": "2024-01-20T22:16:08.806976Z",
     "iopub.status.idle": "2024-01-20T22:16:08.812425Z",
     "shell.execute_reply": "2024-01-20T22:16:08.811602Z"
    },
    "papermill": {
     "duration": 0.021752,
     "end_time": "2024-01-20T22:16:08.814635",
     "exception": false,
     "start_time": "2024-01-20T22:16:08.792883",
     "status": "completed"
    },
    "tags": []
   },
   "outputs": [
    {
     "name": "stdout",
     "output_type": "stream",
     "text": [
      "The shape of the DataFrame:  (2240, 29)\n"
     ]
    }
   ],
   "source": [
    "# Show the DataFrame shape, such as number of rows and columns\n",
    "print(\"The shape of the DataFrame: \",marketing.shape)"
   ]
  },
  {
   "cell_type": "markdown",
   "id": "22bce4b3",
   "metadata": {
    "papermill": {
     "duration": 0.012636,
     "end_time": "2024-01-20T22:16:08.840308",
     "exception": false,
     "start_time": "2024-01-20T22:16:08.827672",
     "status": "completed"
    },
    "tags": []
   },
   "source": [
    "If the system allowed maximal rows is larger than the number of rows of a DataFrame, all rows can be displayed."
   ]
  },
  {
   "cell_type": "code",
   "execution_count": 4,
   "id": "b19cbb36",
   "metadata": {
    "execution": {
     "iopub.execute_input": "2024-01-20T22:16:08.868722Z",
     "iopub.status.busy": "2024-01-20T22:16:08.867950Z",
     "iopub.status.idle": "2024-01-20T22:16:08.873553Z",
     "shell.execute_reply": "2024-01-20T22:16:08.872299Z"
    },
    "papermill": {
     "duration": 0.022612,
     "end_time": "2024-01-20T22:16:08.875870",
     "exception": false,
     "start_time": "2024-01-20T22:16:08.853258",
     "status": "completed"
    },
    "tags": []
   },
   "outputs": [
    {
     "name": "stdout",
     "output_type": "stream",
     "text": [
      "60\n"
     ]
    }
   ],
   "source": [
    "# Show the maximal system allowed rows in a DataFrame\n",
    "print(pd.options.display.max_rows)"
   ]
  },
  {
   "cell_type": "code",
   "execution_count": 5,
   "id": "65174296",
   "metadata": {
    "execution": {
     "iopub.execute_input": "2024-01-20T22:16:08.903921Z",
     "iopub.status.busy": "2024-01-20T22:16:08.903187Z",
     "iopub.status.idle": "2024-01-20T22:16:08.908154Z",
     "shell.execute_reply": "2024-01-20T22:16:08.906937Z"
    },
    "papermill": {
     "duration": 0.02192,
     "end_time": "2024-01-20T22:16:08.910730",
     "exception": false,
     "start_time": "2024-01-20T22:16:08.888810",
     "status": "completed"
    },
    "tags": []
   },
   "outputs": [],
   "source": [
    "# Change the system allowed maximal rows\n",
    "pd.options.display.max_rows = 10"
   ]
  },
  {
   "cell_type": "code",
   "execution_count": 6,
   "id": "a988c06b",
   "metadata": {
    "execution": {
     "iopub.execute_input": "2024-01-20T22:16:08.938746Z",
     "iopub.status.busy": "2024-01-20T22:16:08.938037Z",
     "iopub.status.idle": "2024-01-20T22:16:08.970581Z",
     "shell.execute_reply": "2024-01-20T22:16:08.968704Z"
    },
    "papermill": {
     "duration": 0.050607,
     "end_time": "2024-01-20T22:16:08.974410",
     "exception": false,
     "start_time": "2024-01-20T22:16:08.923803",
     "status": "completed"
    },
    "tags": []
   },
   "outputs": [
    {
     "name": "stdout",
     "output_type": "stream",
     "text": [
      "Display Content of the DataFrame:\n",
      "           ID  Year_Birth   Education Marital_Status   Income  Kidhome  \\\n",
      "0      5524        1957  Graduation         Single  58138.0        0   \n",
      "1      2174        1954  Graduation         Single  46344.0        1   \n",
      "2      4141        1965  Graduation       Together  71613.0        0   \n",
      "3      6182        1984  Graduation       Together  26646.0        1   \n",
      "4      5324        1981         PhD        Married  58293.0        1   \n",
      "...     ...         ...         ...            ...      ...      ...   \n",
      "2235  10870        1967  Graduation        Married  61223.0        0   \n",
      "2236   4001        1946         PhD       Together  64014.0        2   \n",
      "2237   7270        1981  Graduation       Divorced  56981.0        0   \n",
      "2238   8235        1956      Master       Together  69245.0        0   \n",
      "2239   9405        1954         PhD        Married  52869.0        1   \n",
      "\n",
      "      Teenhome Dt_Customer  Recency  MntWines  MntFruits  MntMeatProducts  \\\n",
      "0            0  2012-09-04       58       635         88              546   \n",
      "1            1  2014-03-08       38        11          1                6   \n",
      "2            0  2013-08-21       26       426         49              127   \n",
      "3            0  2014-02-10       26        11          4               20   \n",
      "4            0  2014-01-19       94       173         43              118   \n",
      "...        ...         ...      ...       ...        ...              ...   \n",
      "2235         1  2013-06-13       46       709         43              182   \n",
      "2236         1  2014-06-10       56       406          0               30   \n",
      "2237         0  2014-01-25       91       908         48              217   \n",
      "2238         1  2014-01-24        8       428         30              214   \n",
      "2239         1  2012-10-15       40        84          3               61   \n",
      "\n",
      "      MntFishProducts  MntSweetProducts  MntGoldProds  NumDealsPurchases  \\\n",
      "0                 172                88            88                  3   \n",
      "1                   2                 1             6                  2   \n",
      "2                 111                21            42                  1   \n",
      "3                  10                 3             5                  2   \n",
      "4                  46                27            15                  5   \n",
      "...               ...               ...           ...                ...   \n",
      "2235               42               118           247                  2   \n",
      "2236                0                 0             8                  7   \n",
      "2237               32                12            24                  1   \n",
      "2238               80                30            61                  2   \n",
      "2239                2                 1            21                  3   \n",
      "\n",
      "      NumWebPurchases  NumCatalogPurchases  NumStorePurchases  \\\n",
      "0                   8                   10                  4   \n",
      "1                   1                    1                  2   \n",
      "2                   8                    2                 10   \n",
      "3                   2                    0                  4   \n",
      "4                   5                    3                  6   \n",
      "...               ...                  ...                ...   \n",
      "2235                9                    3                  4   \n",
      "2236                8                    2                  5   \n",
      "2237                2                    3                 13   \n",
      "2238                6                    5                 10   \n",
      "2239                3                    1                  4   \n",
      "\n",
      "      NumWebVisitsMonth  AcceptedCmp3  AcceptedCmp4  AcceptedCmp5  \\\n",
      "0                     7             0             0             0   \n",
      "1                     5             0             0             0   \n",
      "2                     4             0             0             0   \n",
      "3                     6             0             0             0   \n",
      "4                     5             0             0             0   \n",
      "...                 ...           ...           ...           ...   \n",
      "2235                  5             0             0             0   \n",
      "2236                  7             0             0             0   \n",
      "2237                  6             0             1             0   \n",
      "2238                  3             0             0             0   \n",
      "2239                  7             0             0             0   \n",
      "\n",
      "      AcceptedCmp1  AcceptedCmp2  Complain  Z_CostContact  Z_Revenue  Response  \n",
      "0                0             0         0              3         11         1  \n",
      "1                0             0         0              3         11         0  \n",
      "2                0             0         0              3         11         0  \n",
      "3                0             0         0              3         11         0  \n",
      "4                0             0         0              3         11         0  \n",
      "...            ...           ...       ...            ...        ...       ...  \n",
      "2235             0             0         0              3         11         0  \n",
      "2236             1             0         0              3         11         0  \n",
      "2237             0             0         0              3         11         0  \n",
      "2238             0             0         0              3         11         0  \n",
      "2239             0             0         0              3         11         1  \n",
      "\n",
      "[2240 rows x 29 columns]\n"
     ]
    }
   ],
   "source": [
    "# Show all columns in the dataframe\n",
    "# None is assigned to 'display.max_columns', indicating that there is no maximum limit on the number of columns to display.\n",
    "pd.set_option('display.max_columns', None)\n",
    "\n",
    "print(\"Display Content of the DataFrame:\\n \", marketing)"
   ]
  },
  {
   "cell_type": "code",
   "execution_count": 7,
   "id": "0efbe96f",
   "metadata": {
    "execution": {
     "iopub.execute_input": "2024-01-20T22:16:09.002766Z",
     "iopub.status.busy": "2024-01-20T22:16:09.002043Z",
     "iopub.status.idle": "2024-01-20T22:16:09.032011Z",
     "shell.execute_reply": "2024-01-20T22:16:09.030665Z"
    },
    "papermill": {
     "duration": 0.047551,
     "end_time": "2024-01-20T22:16:09.034978",
     "exception": false,
     "start_time": "2024-01-20T22:16:08.987427",
     "status": "completed"
    },
    "tags": []
   },
   "outputs": [
    {
     "data": {
      "text/html": [
       "<div>\n",
       "<style scoped>\n",
       "    .dataframe tbody tr th:only-of-type {\n",
       "        vertical-align: middle;\n",
       "    }\n",
       "\n",
       "    .dataframe tbody tr th {\n",
       "        vertical-align: top;\n",
       "    }\n",
       "\n",
       "    .dataframe thead th {\n",
       "        text-align: right;\n",
       "    }\n",
       "</style>\n",
       "<table border=\"1\" class=\"dataframe\">\n",
       "  <thead>\n",
       "    <tr style=\"text-align: right;\">\n",
       "      <th></th>\n",
       "      <th>ID</th>\n",
       "      <th>Year_Birth</th>\n",
       "      <th>Education</th>\n",
       "      <th>Marital_Status</th>\n",
       "      <th>Income</th>\n",
       "      <th>Kidhome</th>\n",
       "      <th>Teenhome</th>\n",
       "      <th>Dt_Customer</th>\n",
       "      <th>Recency</th>\n",
       "      <th>MntWines</th>\n",
       "      <th>MntFruits</th>\n",
       "      <th>MntMeatProducts</th>\n",
       "      <th>MntFishProducts</th>\n",
       "      <th>MntSweetProducts</th>\n",
       "      <th>MntGoldProds</th>\n",
       "      <th>NumDealsPurchases</th>\n",
       "      <th>NumWebPurchases</th>\n",
       "      <th>NumCatalogPurchases</th>\n",
       "      <th>NumStorePurchases</th>\n",
       "      <th>NumWebVisitsMonth</th>\n",
       "      <th>AcceptedCmp3</th>\n",
       "      <th>AcceptedCmp4</th>\n",
       "      <th>AcceptedCmp5</th>\n",
       "      <th>AcceptedCmp1</th>\n",
       "      <th>AcceptedCmp2</th>\n",
       "      <th>Complain</th>\n",
       "      <th>Z_CostContact</th>\n",
       "      <th>Z_Revenue</th>\n",
       "      <th>Response</th>\n",
       "    </tr>\n",
       "  </thead>\n",
       "  <tbody>\n",
       "    <tr>\n",
       "      <th>0</th>\n",
       "      <td>5524</td>\n",
       "      <td>1957</td>\n",
       "      <td>Graduation</td>\n",
       "      <td>Single</td>\n",
       "      <td>58138.0</td>\n",
       "      <td>0</td>\n",
       "      <td>0</td>\n",
       "      <td>2012-09-04</td>\n",
       "      <td>58</td>\n",
       "      <td>635</td>\n",
       "      <td>88</td>\n",
       "      <td>546</td>\n",
       "      <td>172</td>\n",
       "      <td>88</td>\n",
       "      <td>88</td>\n",
       "      <td>3</td>\n",
       "      <td>8</td>\n",
       "      <td>10</td>\n",
       "      <td>4</td>\n",
       "      <td>7</td>\n",
       "      <td>0</td>\n",
       "      <td>0</td>\n",
       "      <td>0</td>\n",
       "      <td>0</td>\n",
       "      <td>0</td>\n",
       "      <td>0</td>\n",
       "      <td>3</td>\n",
       "      <td>11</td>\n",
       "      <td>1</td>\n",
       "    </tr>\n",
       "    <tr>\n",
       "      <th>1</th>\n",
       "      <td>2174</td>\n",
       "      <td>1954</td>\n",
       "      <td>Graduation</td>\n",
       "      <td>Single</td>\n",
       "      <td>46344.0</td>\n",
       "      <td>1</td>\n",
       "      <td>1</td>\n",
       "      <td>2014-03-08</td>\n",
       "      <td>38</td>\n",
       "      <td>11</td>\n",
       "      <td>1</td>\n",
       "      <td>6</td>\n",
       "      <td>2</td>\n",
       "      <td>1</td>\n",
       "      <td>6</td>\n",
       "      <td>2</td>\n",
       "      <td>1</td>\n",
       "      <td>1</td>\n",
       "      <td>2</td>\n",
       "      <td>5</td>\n",
       "      <td>0</td>\n",
       "      <td>0</td>\n",
       "      <td>0</td>\n",
       "      <td>0</td>\n",
       "      <td>0</td>\n",
       "      <td>0</td>\n",
       "      <td>3</td>\n",
       "      <td>11</td>\n",
       "      <td>0</td>\n",
       "    </tr>\n",
       "    <tr>\n",
       "      <th>2</th>\n",
       "      <td>4141</td>\n",
       "      <td>1965</td>\n",
       "      <td>Graduation</td>\n",
       "      <td>Together</td>\n",
       "      <td>71613.0</td>\n",
       "      <td>0</td>\n",
       "      <td>0</td>\n",
       "      <td>2013-08-21</td>\n",
       "      <td>26</td>\n",
       "      <td>426</td>\n",
       "      <td>49</td>\n",
       "      <td>127</td>\n",
       "      <td>111</td>\n",
       "      <td>21</td>\n",
       "      <td>42</td>\n",
       "      <td>1</td>\n",
       "      <td>8</td>\n",
       "      <td>2</td>\n",
       "      <td>10</td>\n",
       "      <td>4</td>\n",
       "      <td>0</td>\n",
       "      <td>0</td>\n",
       "      <td>0</td>\n",
       "      <td>0</td>\n",
       "      <td>0</td>\n",
       "      <td>0</td>\n",
       "      <td>3</td>\n",
       "      <td>11</td>\n",
       "      <td>0</td>\n",
       "    </tr>\n",
       "    <tr>\n",
       "      <th>3</th>\n",
       "      <td>6182</td>\n",
       "      <td>1984</td>\n",
       "      <td>Graduation</td>\n",
       "      <td>Together</td>\n",
       "      <td>26646.0</td>\n",
       "      <td>1</td>\n",
       "      <td>0</td>\n",
       "      <td>2014-02-10</td>\n",
       "      <td>26</td>\n",
       "      <td>11</td>\n",
       "      <td>4</td>\n",
       "      <td>20</td>\n",
       "      <td>10</td>\n",
       "      <td>3</td>\n",
       "      <td>5</td>\n",
       "      <td>2</td>\n",
       "      <td>2</td>\n",
       "      <td>0</td>\n",
       "      <td>4</td>\n",
       "      <td>6</td>\n",
       "      <td>0</td>\n",
       "      <td>0</td>\n",
       "      <td>0</td>\n",
       "      <td>0</td>\n",
       "      <td>0</td>\n",
       "      <td>0</td>\n",
       "      <td>3</td>\n",
       "      <td>11</td>\n",
       "      <td>0</td>\n",
       "    </tr>\n",
       "    <tr>\n",
       "      <th>4</th>\n",
       "      <td>5324</td>\n",
       "      <td>1981</td>\n",
       "      <td>PhD</td>\n",
       "      <td>Married</td>\n",
       "      <td>58293.0</td>\n",
       "      <td>1</td>\n",
       "      <td>0</td>\n",
       "      <td>2014-01-19</td>\n",
       "      <td>94</td>\n",
       "      <td>173</td>\n",
       "      <td>43</td>\n",
       "      <td>118</td>\n",
       "      <td>46</td>\n",
       "      <td>27</td>\n",
       "      <td>15</td>\n",
       "      <td>5</td>\n",
       "      <td>5</td>\n",
       "      <td>3</td>\n",
       "      <td>6</td>\n",
       "      <td>5</td>\n",
       "      <td>0</td>\n",
       "      <td>0</td>\n",
       "      <td>0</td>\n",
       "      <td>0</td>\n",
       "      <td>0</td>\n",
       "      <td>0</td>\n",
       "      <td>3</td>\n",
       "      <td>11</td>\n",
       "      <td>0</td>\n",
       "    </tr>\n",
       "  </tbody>\n",
       "</table>\n",
       "</div>"
      ],
      "text/plain": [
       "     ID  Year_Birth   Education Marital_Status   Income  Kidhome  Teenhome  \\\n",
       "0  5524        1957  Graduation         Single  58138.0        0         0   \n",
       "1  2174        1954  Graduation         Single  46344.0        1         1   \n",
       "2  4141        1965  Graduation       Together  71613.0        0         0   \n",
       "3  6182        1984  Graduation       Together  26646.0        1         0   \n",
       "4  5324        1981         PhD        Married  58293.0        1         0   \n",
       "\n",
       "  Dt_Customer  Recency  MntWines  MntFruits  MntMeatProducts  MntFishProducts  \\\n",
       "0  2012-09-04       58       635         88              546              172   \n",
       "1  2014-03-08       38        11          1                6                2   \n",
       "2  2013-08-21       26       426         49              127              111   \n",
       "3  2014-02-10       26        11          4               20               10   \n",
       "4  2014-01-19       94       173         43              118               46   \n",
       "\n",
       "   MntSweetProducts  MntGoldProds  NumDealsPurchases  NumWebPurchases  \\\n",
       "0                88            88                  3                8   \n",
       "1                 1             6                  2                1   \n",
       "2                21            42                  1                8   \n",
       "3                 3             5                  2                2   \n",
       "4                27            15                  5                5   \n",
       "\n",
       "   NumCatalogPurchases  NumStorePurchases  NumWebVisitsMonth  AcceptedCmp3  \\\n",
       "0                   10                  4                  7             0   \n",
       "1                    1                  2                  5             0   \n",
       "2                    2                 10                  4             0   \n",
       "3                    0                  4                  6             0   \n",
       "4                    3                  6                  5             0   \n",
       "\n",
       "   AcceptedCmp4  AcceptedCmp5  AcceptedCmp1  AcceptedCmp2  Complain  \\\n",
       "0             0             0             0             0         0   \n",
       "1             0             0             0             0         0   \n",
       "2             0             0             0             0         0   \n",
       "3             0             0             0             0         0   \n",
       "4             0             0             0             0         0   \n",
       "\n",
       "   Z_CostContact  Z_Revenue  Response  \n",
       "0              3         11         1  \n",
       "1              3         11         0  \n",
       "2              3         11         0  \n",
       "3              3         11         0  \n",
       "4              3         11         0  "
      ]
     },
     "execution_count": 7,
     "metadata": {},
     "output_type": "execute_result"
    }
   ],
   "source": [
    "# Show the first 5 rows of a DataFrame using head() method\n",
    "marketing.head()"
   ]
  },
  {
   "cell_type": "code",
   "execution_count": 8,
   "id": "5ecda3b8",
   "metadata": {
    "execution": {
     "iopub.execute_input": "2024-01-20T22:16:09.064765Z",
     "iopub.status.busy": "2024-01-20T22:16:09.063594Z",
     "iopub.status.idle": "2024-01-20T22:16:09.092726Z",
     "shell.execute_reply": "2024-01-20T22:16:09.091526Z"
    },
    "papermill": {
     "duration": 0.04716,
     "end_time": "2024-01-20T22:16:09.095445",
     "exception": false,
     "start_time": "2024-01-20T22:16:09.048285",
     "status": "completed"
    },
    "tags": []
   },
   "outputs": [
    {
     "name": "stdout",
     "output_type": "stream",
     "text": [
      "<class 'pandas.core.frame.DataFrame'>\n",
      "RangeIndex: 2240 entries, 0 to 2239\n",
      "Data columns (total 29 columns):\n",
      " #   Column               Non-Null Count  Dtype  \n",
      "---  ------               --------------  -----  \n",
      " 0   ID                   2240 non-null   int64  \n",
      " 1   Year_Birth           2240 non-null   int64  \n",
      " 2   Education            2240 non-null   object \n",
      " 3   Marital_Status       2240 non-null   object \n",
      " 4   Income               2216 non-null   float64\n",
      " 5   Kidhome              2240 non-null   int64  \n",
      " 6   Teenhome             2240 non-null   int64  \n",
      " 7   Dt_Customer          2240 non-null   object \n",
      " 8   Recency              2240 non-null   int64  \n",
      " 9   MntWines             2240 non-null   int64  \n",
      " 10  MntFruits            2240 non-null   int64  \n",
      " 11  MntMeatProducts      2240 non-null   int64  \n",
      " 12  MntFishProducts      2240 non-null   int64  \n",
      " 13  MntSweetProducts     2240 non-null   int64  \n",
      " 14  MntGoldProds         2240 non-null   int64  \n",
      " 15  NumDealsPurchases    2240 non-null   int64  \n",
      " 16  NumWebPurchases      2240 non-null   int64  \n",
      " 17  NumCatalogPurchases  2240 non-null   int64  \n",
      " 18  NumStorePurchases    2240 non-null   int64  \n",
      " 19  NumWebVisitsMonth    2240 non-null   int64  \n",
      " 20  AcceptedCmp3         2240 non-null   int64  \n",
      " 21  AcceptedCmp4         2240 non-null   int64  \n",
      " 22  AcceptedCmp5         2240 non-null   int64  \n",
      " 23  AcceptedCmp1         2240 non-null   int64  \n",
      " 24  AcceptedCmp2         2240 non-null   int64  \n",
      " 25  Complain             2240 non-null   int64  \n",
      " 26  Z_CostContact        2240 non-null   int64  \n",
      " 27  Z_Revenue            2240 non-null   int64  \n",
      " 28  Response             2240 non-null   int64  \n",
      "dtypes: float64(1), int64(25), object(3)\n",
      "memory usage: 507.6+ KB\n"
     ]
    }
   ],
   "source": [
    "# Show the information of a DataFrame\n",
    "marketing.info()"
   ]
  },
  {
   "cell_type": "code",
   "execution_count": 9,
   "id": "475452f2",
   "metadata": {
    "execution": {
     "iopub.execute_input": "2024-01-20T22:16:09.125211Z",
     "iopub.status.busy": "2024-01-20T22:16:09.124446Z",
     "iopub.status.idle": "2024-01-20T22:16:09.227529Z",
     "shell.execute_reply": "2024-01-20T22:16:09.226195Z"
    },
    "papermill": {
     "duration": 0.120758,
     "end_time": "2024-01-20T22:16:09.230026",
     "exception": false,
     "start_time": "2024-01-20T22:16:09.109268",
     "status": "completed"
    },
    "tags": []
   },
   "outputs": [
    {
     "data": {
      "text/html": [
       "<div>\n",
       "<style scoped>\n",
       "    .dataframe tbody tr th:only-of-type {\n",
       "        vertical-align: middle;\n",
       "    }\n",
       "\n",
       "    .dataframe tbody tr th {\n",
       "        vertical-align: top;\n",
       "    }\n",
       "\n",
       "    .dataframe thead th {\n",
       "        text-align: right;\n",
       "    }\n",
       "</style>\n",
       "<table border=\"1\" class=\"dataframe\">\n",
       "  <thead>\n",
       "    <tr style=\"text-align: right;\">\n",
       "      <th></th>\n",
       "      <th>ID</th>\n",
       "      <th>Year_Birth</th>\n",
       "      <th>Income</th>\n",
       "      <th>Kidhome</th>\n",
       "      <th>Teenhome</th>\n",
       "      <th>Recency</th>\n",
       "      <th>MntWines</th>\n",
       "      <th>MntFruits</th>\n",
       "      <th>MntMeatProducts</th>\n",
       "      <th>MntFishProducts</th>\n",
       "      <th>MntSweetProducts</th>\n",
       "      <th>MntGoldProds</th>\n",
       "      <th>NumDealsPurchases</th>\n",
       "      <th>NumWebPurchases</th>\n",
       "      <th>NumCatalogPurchases</th>\n",
       "      <th>NumStorePurchases</th>\n",
       "      <th>NumWebVisitsMonth</th>\n",
       "      <th>AcceptedCmp3</th>\n",
       "      <th>AcceptedCmp4</th>\n",
       "      <th>AcceptedCmp5</th>\n",
       "      <th>AcceptedCmp1</th>\n",
       "      <th>AcceptedCmp2</th>\n",
       "      <th>Complain</th>\n",
       "      <th>Z_CostContact</th>\n",
       "      <th>Z_Revenue</th>\n",
       "      <th>Response</th>\n",
       "    </tr>\n",
       "  </thead>\n",
       "  <tbody>\n",
       "    <tr>\n",
       "      <th>count</th>\n",
       "      <td>2240.000000</td>\n",
       "      <td>2240.000000</td>\n",
       "      <td>2216.000000</td>\n",
       "      <td>2240.000000</td>\n",
       "      <td>2240.000000</td>\n",
       "      <td>2240.000000</td>\n",
       "      <td>2240.000000</td>\n",
       "      <td>2240.000000</td>\n",
       "      <td>2240.000000</td>\n",
       "      <td>2240.000000</td>\n",
       "      <td>2240.000000</td>\n",
       "      <td>2240.000000</td>\n",
       "      <td>2240.000000</td>\n",
       "      <td>2240.000000</td>\n",
       "      <td>2240.000000</td>\n",
       "      <td>2240.000000</td>\n",
       "      <td>2240.000000</td>\n",
       "      <td>2240.000000</td>\n",
       "      <td>2240.000000</td>\n",
       "      <td>2240.000000</td>\n",
       "      <td>2240.000000</td>\n",
       "      <td>2240.000000</td>\n",
       "      <td>2240.000000</td>\n",
       "      <td>2240.0</td>\n",
       "      <td>2240.0</td>\n",
       "      <td>2240.000000</td>\n",
       "    </tr>\n",
       "    <tr>\n",
       "      <th>mean</th>\n",
       "      <td>5592.159821</td>\n",
       "      <td>1968.805804</td>\n",
       "      <td>52247.251354</td>\n",
       "      <td>0.444196</td>\n",
       "      <td>0.506250</td>\n",
       "      <td>49.109375</td>\n",
       "      <td>303.935714</td>\n",
       "      <td>26.302232</td>\n",
       "      <td>166.950000</td>\n",
       "      <td>37.525446</td>\n",
       "      <td>27.062946</td>\n",
       "      <td>44.021875</td>\n",
       "      <td>2.325000</td>\n",
       "      <td>4.084821</td>\n",
       "      <td>2.662054</td>\n",
       "      <td>5.790179</td>\n",
       "      <td>5.316518</td>\n",
       "      <td>0.072768</td>\n",
       "      <td>0.074554</td>\n",
       "      <td>0.072768</td>\n",
       "      <td>0.064286</td>\n",
       "      <td>0.013393</td>\n",
       "      <td>0.009375</td>\n",
       "      <td>3.0</td>\n",
       "      <td>11.0</td>\n",
       "      <td>0.149107</td>\n",
       "    </tr>\n",
       "    <tr>\n",
       "      <th>std</th>\n",
       "      <td>3246.662198</td>\n",
       "      <td>11.984069</td>\n",
       "      <td>25173.076661</td>\n",
       "      <td>0.538398</td>\n",
       "      <td>0.544538</td>\n",
       "      <td>28.962453</td>\n",
       "      <td>336.597393</td>\n",
       "      <td>39.773434</td>\n",
       "      <td>225.715373</td>\n",
       "      <td>54.628979</td>\n",
       "      <td>41.280498</td>\n",
       "      <td>52.167439</td>\n",
       "      <td>1.932238</td>\n",
       "      <td>2.778714</td>\n",
       "      <td>2.923101</td>\n",
       "      <td>3.250958</td>\n",
       "      <td>2.426645</td>\n",
       "      <td>0.259813</td>\n",
       "      <td>0.262728</td>\n",
       "      <td>0.259813</td>\n",
       "      <td>0.245316</td>\n",
       "      <td>0.114976</td>\n",
       "      <td>0.096391</td>\n",
       "      <td>0.0</td>\n",
       "      <td>0.0</td>\n",
       "      <td>0.356274</td>\n",
       "    </tr>\n",
       "    <tr>\n",
       "      <th>min</th>\n",
       "      <td>0.000000</td>\n",
       "      <td>1893.000000</td>\n",
       "      <td>1730.000000</td>\n",
       "      <td>0.000000</td>\n",
       "      <td>0.000000</td>\n",
       "      <td>0.000000</td>\n",
       "      <td>0.000000</td>\n",
       "      <td>0.000000</td>\n",
       "      <td>0.000000</td>\n",
       "      <td>0.000000</td>\n",
       "      <td>0.000000</td>\n",
       "      <td>0.000000</td>\n",
       "      <td>0.000000</td>\n",
       "      <td>0.000000</td>\n",
       "      <td>0.000000</td>\n",
       "      <td>0.000000</td>\n",
       "      <td>0.000000</td>\n",
       "      <td>0.000000</td>\n",
       "      <td>0.000000</td>\n",
       "      <td>0.000000</td>\n",
       "      <td>0.000000</td>\n",
       "      <td>0.000000</td>\n",
       "      <td>0.000000</td>\n",
       "      <td>3.0</td>\n",
       "      <td>11.0</td>\n",
       "      <td>0.000000</td>\n",
       "    </tr>\n",
       "    <tr>\n",
       "      <th>25%</th>\n",
       "      <td>2828.250000</td>\n",
       "      <td>1959.000000</td>\n",
       "      <td>35303.000000</td>\n",
       "      <td>0.000000</td>\n",
       "      <td>0.000000</td>\n",
       "      <td>24.000000</td>\n",
       "      <td>23.750000</td>\n",
       "      <td>1.000000</td>\n",
       "      <td>16.000000</td>\n",
       "      <td>3.000000</td>\n",
       "      <td>1.000000</td>\n",
       "      <td>9.000000</td>\n",
       "      <td>1.000000</td>\n",
       "      <td>2.000000</td>\n",
       "      <td>0.000000</td>\n",
       "      <td>3.000000</td>\n",
       "      <td>3.000000</td>\n",
       "      <td>0.000000</td>\n",
       "      <td>0.000000</td>\n",
       "      <td>0.000000</td>\n",
       "      <td>0.000000</td>\n",
       "      <td>0.000000</td>\n",
       "      <td>0.000000</td>\n",
       "      <td>3.0</td>\n",
       "      <td>11.0</td>\n",
       "      <td>0.000000</td>\n",
       "    </tr>\n",
       "    <tr>\n",
       "      <th>50%</th>\n",
       "      <td>5458.500000</td>\n",
       "      <td>1970.000000</td>\n",
       "      <td>51381.500000</td>\n",
       "      <td>0.000000</td>\n",
       "      <td>0.000000</td>\n",
       "      <td>49.000000</td>\n",
       "      <td>173.500000</td>\n",
       "      <td>8.000000</td>\n",
       "      <td>67.000000</td>\n",
       "      <td>12.000000</td>\n",
       "      <td>8.000000</td>\n",
       "      <td>24.000000</td>\n",
       "      <td>2.000000</td>\n",
       "      <td>4.000000</td>\n",
       "      <td>2.000000</td>\n",
       "      <td>5.000000</td>\n",
       "      <td>6.000000</td>\n",
       "      <td>0.000000</td>\n",
       "      <td>0.000000</td>\n",
       "      <td>0.000000</td>\n",
       "      <td>0.000000</td>\n",
       "      <td>0.000000</td>\n",
       "      <td>0.000000</td>\n",
       "      <td>3.0</td>\n",
       "      <td>11.0</td>\n",
       "      <td>0.000000</td>\n",
       "    </tr>\n",
       "    <tr>\n",
       "      <th>75%</th>\n",
       "      <td>8427.750000</td>\n",
       "      <td>1977.000000</td>\n",
       "      <td>68522.000000</td>\n",
       "      <td>1.000000</td>\n",
       "      <td>1.000000</td>\n",
       "      <td>74.000000</td>\n",
       "      <td>504.250000</td>\n",
       "      <td>33.000000</td>\n",
       "      <td>232.000000</td>\n",
       "      <td>50.000000</td>\n",
       "      <td>33.000000</td>\n",
       "      <td>56.000000</td>\n",
       "      <td>3.000000</td>\n",
       "      <td>6.000000</td>\n",
       "      <td>4.000000</td>\n",
       "      <td>8.000000</td>\n",
       "      <td>7.000000</td>\n",
       "      <td>0.000000</td>\n",
       "      <td>0.000000</td>\n",
       "      <td>0.000000</td>\n",
       "      <td>0.000000</td>\n",
       "      <td>0.000000</td>\n",
       "      <td>0.000000</td>\n",
       "      <td>3.0</td>\n",
       "      <td>11.0</td>\n",
       "      <td>0.000000</td>\n",
       "    </tr>\n",
       "    <tr>\n",
       "      <th>max</th>\n",
       "      <td>11191.000000</td>\n",
       "      <td>1996.000000</td>\n",
       "      <td>666666.000000</td>\n",
       "      <td>2.000000</td>\n",
       "      <td>2.000000</td>\n",
       "      <td>99.000000</td>\n",
       "      <td>1493.000000</td>\n",
       "      <td>199.000000</td>\n",
       "      <td>1725.000000</td>\n",
       "      <td>259.000000</td>\n",
       "      <td>263.000000</td>\n",
       "      <td>362.000000</td>\n",
       "      <td>15.000000</td>\n",
       "      <td>27.000000</td>\n",
       "      <td>28.000000</td>\n",
       "      <td>13.000000</td>\n",
       "      <td>20.000000</td>\n",
       "      <td>1.000000</td>\n",
       "      <td>1.000000</td>\n",
       "      <td>1.000000</td>\n",
       "      <td>1.000000</td>\n",
       "      <td>1.000000</td>\n",
       "      <td>1.000000</td>\n",
       "      <td>3.0</td>\n",
       "      <td>11.0</td>\n",
       "      <td>1.000000</td>\n",
       "    </tr>\n",
       "  </tbody>\n",
       "</table>\n",
       "</div>"
      ],
      "text/plain": [
       "                 ID   Year_Birth         Income      Kidhome     Teenhome  \\\n",
       "count   2240.000000  2240.000000    2216.000000  2240.000000  2240.000000   \n",
       "mean    5592.159821  1968.805804   52247.251354     0.444196     0.506250   \n",
       "std     3246.662198    11.984069   25173.076661     0.538398     0.544538   \n",
       "min        0.000000  1893.000000    1730.000000     0.000000     0.000000   \n",
       "25%     2828.250000  1959.000000   35303.000000     0.000000     0.000000   \n",
       "50%     5458.500000  1970.000000   51381.500000     0.000000     0.000000   \n",
       "75%     8427.750000  1977.000000   68522.000000     1.000000     1.000000   \n",
       "max    11191.000000  1996.000000  666666.000000     2.000000     2.000000   \n",
       "\n",
       "           Recency     MntWines    MntFruits  MntMeatProducts  \\\n",
       "count  2240.000000  2240.000000  2240.000000      2240.000000   \n",
       "mean     49.109375   303.935714    26.302232       166.950000   \n",
       "std      28.962453   336.597393    39.773434       225.715373   \n",
       "min       0.000000     0.000000     0.000000         0.000000   \n",
       "25%      24.000000    23.750000     1.000000        16.000000   \n",
       "50%      49.000000   173.500000     8.000000        67.000000   \n",
       "75%      74.000000   504.250000    33.000000       232.000000   \n",
       "max      99.000000  1493.000000   199.000000      1725.000000   \n",
       "\n",
       "       MntFishProducts  MntSweetProducts  MntGoldProds  NumDealsPurchases  \\\n",
       "count      2240.000000       2240.000000   2240.000000        2240.000000   \n",
       "mean         37.525446         27.062946     44.021875           2.325000   \n",
       "std          54.628979         41.280498     52.167439           1.932238   \n",
       "min           0.000000          0.000000      0.000000           0.000000   \n",
       "25%           3.000000          1.000000      9.000000           1.000000   \n",
       "50%          12.000000          8.000000     24.000000           2.000000   \n",
       "75%          50.000000         33.000000     56.000000           3.000000   \n",
       "max         259.000000        263.000000    362.000000          15.000000   \n",
       "\n",
       "       NumWebPurchases  NumCatalogPurchases  NumStorePurchases  \\\n",
       "count      2240.000000          2240.000000        2240.000000   \n",
       "mean          4.084821             2.662054           5.790179   \n",
       "std           2.778714             2.923101           3.250958   \n",
       "min           0.000000             0.000000           0.000000   \n",
       "25%           2.000000             0.000000           3.000000   \n",
       "50%           4.000000             2.000000           5.000000   \n",
       "75%           6.000000             4.000000           8.000000   \n",
       "max          27.000000            28.000000          13.000000   \n",
       "\n",
       "       NumWebVisitsMonth  AcceptedCmp3  AcceptedCmp4  AcceptedCmp5  \\\n",
       "count        2240.000000   2240.000000   2240.000000   2240.000000   \n",
       "mean            5.316518      0.072768      0.074554      0.072768   \n",
       "std             2.426645      0.259813      0.262728      0.259813   \n",
       "min             0.000000      0.000000      0.000000      0.000000   \n",
       "25%             3.000000      0.000000      0.000000      0.000000   \n",
       "50%             6.000000      0.000000      0.000000      0.000000   \n",
       "75%             7.000000      0.000000      0.000000      0.000000   \n",
       "max            20.000000      1.000000      1.000000      1.000000   \n",
       "\n",
       "       AcceptedCmp1  AcceptedCmp2     Complain  Z_CostContact  Z_Revenue  \\\n",
       "count   2240.000000   2240.000000  2240.000000         2240.0     2240.0   \n",
       "mean       0.064286      0.013393     0.009375            3.0       11.0   \n",
       "std        0.245316      0.114976     0.096391            0.0        0.0   \n",
       "min        0.000000      0.000000     0.000000            3.0       11.0   \n",
       "25%        0.000000      0.000000     0.000000            3.0       11.0   \n",
       "50%        0.000000      0.000000     0.000000            3.0       11.0   \n",
       "75%        0.000000      0.000000     0.000000            3.0       11.0   \n",
       "max        1.000000      1.000000     1.000000            3.0       11.0   \n",
       "\n",
       "          Response  \n",
       "count  2240.000000  \n",
       "mean      0.149107  \n",
       "std       0.356274  \n",
       "min       0.000000  \n",
       "25%       0.000000  \n",
       "50%       0.000000  \n",
       "75%       0.000000  \n",
       "max       1.000000  "
      ]
     },
     "execution_count": 9,
     "metadata": {},
     "output_type": "execute_result"
    }
   ],
   "source": [
    "# Generate descriptive statstics of a DataFrame\n",
    "marketing.describe()"
   ]
  },
  {
   "cell_type": "markdown",
   "id": "b87622bd",
   "metadata": {
    "papermill": {
     "duration": 0.014435,
     "end_time": "2024-01-20T22:16:09.258499",
     "exception": false,
     "start_time": "2024-01-20T22:16:09.244064",
     "status": "completed"
    },
    "tags": []
   },
   "source": [
    "### Creating new DataFrame\n",
    "------------------------------\n",
    "A DataFrame can be created by **pd.DataFrame()** method.\n",
    "\n",
    "The content of a DataFrame is constructed using Python **dictionary-list**, where the **key** in the dictionary is the **column name** of the DataFrame, and the **values** are **a list of entries**."
   ]
  },
  {
   "cell_type": "code",
   "execution_count": 10,
   "id": "03adecad",
   "metadata": {
    "execution": {
     "iopub.execute_input": "2024-01-20T22:16:09.288665Z",
     "iopub.status.busy": "2024-01-20T22:16:09.288158Z",
     "iopub.status.idle": "2024-01-20T22:16:09.300229Z",
     "shell.execute_reply": "2024-01-20T22:16:09.299036Z"
    },
    "papermill": {
     "duration": 0.030297,
     "end_time": "2024-01-20T22:16:09.302734",
     "exception": false,
     "start_time": "2024-01-20T22:16:09.272437",
     "status": "completed"
    },
    "tags": []
   },
   "outputs": [
    {
     "data": {
      "text/html": [
       "<div>\n",
       "<style scoped>\n",
       "    .dataframe tbody tr th:only-of-type {\n",
       "        vertical-align: middle;\n",
       "    }\n",
       "\n",
       "    .dataframe tbody tr th {\n",
       "        vertical-align: top;\n",
       "    }\n",
       "\n",
       "    .dataframe thead th {\n",
       "        text-align: right;\n",
       "    }\n",
       "</style>\n",
       "<table border=\"1\" class=\"dataframe\">\n",
       "  <thead>\n",
       "    <tr style=\"text-align: right;\">\n",
       "      <th></th>\n",
       "      <th>Year_Birth</th>\n",
       "      <th>Income</th>\n",
       "    </tr>\n",
       "  </thead>\n",
       "  <tbody>\n",
       "    <tr>\n",
       "      <th>0</th>\n",
       "      <td>1999</td>\n",
       "      <td>36000</td>\n",
       "    </tr>\n",
       "    <tr>\n",
       "      <th>1</th>\n",
       "      <td>2000</td>\n",
       "      <td>38000</td>\n",
       "    </tr>\n",
       "  </tbody>\n",
       "</table>\n",
       "</div>"
      ],
      "text/plain": [
       "   Year_Birth  Income\n",
       "0        1999   36000\n",
       "1        2000   38000"
      ]
     },
     "execution_count": 10,
     "metadata": {},
     "output_type": "execute_result"
    }
   ],
   "source": [
    "pd.DataFrame({\"Year_Birth\":[1999,2000],\n",
    "              \"Income\":[36000,38000]})"
   ]
  },
  {
   "cell_type": "markdown",
   "id": "b9d16b8f",
   "metadata": {
    "papermill": {
     "duration": 0.013725,
     "end_time": "2024-01-20T22:16:09.330846",
     "exception": false,
     "start_time": "2024-01-20T22:16:09.317121",
     "status": "completed"
    },
    "tags": []
   },
   "source": [
    "By default, the row index of a new DataFrame is acsending from 0(0,1,2,3,...).\n",
    "It's also possible to assign the desired row index when creating a DataFrame unsing `index`."
   ]
  },
  {
   "cell_type": "code",
   "execution_count": 11,
   "id": "e17c3403",
   "metadata": {
    "execution": {
     "iopub.execute_input": "2024-01-20T22:16:09.361207Z",
     "iopub.status.busy": "2024-01-20T22:16:09.360741Z",
     "iopub.status.idle": "2024-01-20T22:16:09.372473Z",
     "shell.execute_reply": "2024-01-20T22:16:09.371525Z"
    },
    "papermill": {
     "duration": 0.029661,
     "end_time": "2024-01-20T22:16:09.374655",
     "exception": false,
     "start_time": "2024-01-20T22:16:09.344994",
     "status": "completed"
    },
    "tags": []
   },
   "outputs": [
    {
     "data": {
      "text/html": [
       "<div>\n",
       "<style scoped>\n",
       "    .dataframe tbody tr th:only-of-type {\n",
       "        vertical-align: middle;\n",
       "    }\n",
       "\n",
       "    .dataframe tbody tr th {\n",
       "        vertical-align: top;\n",
       "    }\n",
       "\n",
       "    .dataframe thead th {\n",
       "        text-align: right;\n",
       "    }\n",
       "</style>\n",
       "<table border=\"1\" class=\"dataframe\">\n",
       "  <thead>\n",
       "    <tr style=\"text-align: right;\">\n",
       "      <th></th>\n",
       "      <th>Year_Birth</th>\n",
       "      <th>Income</th>\n",
       "    </tr>\n",
       "  </thead>\n",
       "  <tbody>\n",
       "    <tr>\n",
       "      <th>1</th>\n",
       "      <td>1999</td>\n",
       "      <td>36000</td>\n",
       "    </tr>\n",
       "    <tr>\n",
       "      <th>2</th>\n",
       "      <td>2000</td>\n",
       "      <td>38000</td>\n",
       "    </tr>\n",
       "  </tbody>\n",
       "</table>\n",
       "</div>"
      ],
      "text/plain": [
       "   Year_Birth  Income\n",
       "1        1999   36000\n",
       "2        2000   38000"
      ]
     },
     "execution_count": 11,
     "metadata": {},
     "output_type": "execute_result"
    }
   ],
   "source": [
    "pd.DataFrame({\"Year_Birth\":[1999,2000],\n",
    "              \"Income\":[36000,38000]},\n",
    "               index = [1,2])"
   ]
  },
  {
   "cell_type": "markdown",
   "id": "2b263cde",
   "metadata": {
    "papermill": {
     "duration": 0.013987,
     "end_time": "2024-01-20T22:16:09.402951",
     "exception": false,
     "start_time": "2024-01-20T22:16:09.388964",
     "status": "completed"
    },
    "tags": []
   },
   "source": [
    "### Indexing and selecting data\n",
    "---------------------------------"
   ]
  },
  {
   "cell_type": "markdown",
   "id": "dba2611f",
   "metadata": {
    "papermill": {
     "duration": 0.014014,
     "end_time": "2024-01-20T22:16:09.431773",
     "exception": false,
     "start_time": "2024-01-20T22:16:09.417759",
     "status": "completed"
    },
    "tags": []
   },
   "source": [
    "Access column of a DataFrame using `.` or `[]` operator."
   ]
  },
  {
   "cell_type": "code",
   "execution_count": 12,
   "id": "1450c342",
   "metadata": {
    "execution": {
     "iopub.execute_input": "2024-01-20T22:16:09.462676Z",
     "iopub.status.busy": "2024-01-20T22:16:09.462221Z",
     "iopub.status.idle": "2024-01-20T22:16:09.467649Z",
     "shell.execute_reply": "2024-01-20T22:16:09.466529Z"
    },
    "papermill": {
     "duration": 0.023951,
     "end_time": "2024-01-20T22:16:09.470049",
     "exception": false,
     "start_time": "2024-01-20T22:16:09.446098",
     "status": "completed"
    },
    "tags": []
   },
   "outputs": [],
   "source": [
    "X = marketing.Education\n"
   ]
  },
  {
   "cell_type": "code",
   "execution_count": 13,
   "id": "3ea7517a",
   "metadata": {
    "execution": {
     "iopub.execute_input": "2024-01-20T22:16:09.501724Z",
     "iopub.status.busy": "2024-01-20T22:16:09.501240Z",
     "iopub.status.idle": "2024-01-20T22:16:09.508619Z",
     "shell.execute_reply": "2024-01-20T22:16:09.507494Z"
    },
    "papermill": {
     "duration": 0.026059,
     "end_time": "2024-01-20T22:16:09.510925",
     "exception": false,
     "start_time": "2024-01-20T22:16:09.484866",
     "status": "completed"
    },
    "tags": []
   },
   "outputs": [
    {
     "data": {
      "text/plain": [
       "pandas.core.series.Series"
      ]
     },
     "execution_count": 13,
     "metadata": {},
     "output_type": "execute_result"
    }
   ],
   "source": [
    "type(X)"
   ]
  },
  {
   "cell_type": "code",
   "execution_count": 14,
   "id": "58034b0f",
   "metadata": {
    "execution": {
     "iopub.execute_input": "2024-01-20T22:16:09.541934Z",
     "iopub.status.busy": "2024-01-20T22:16:09.541441Z",
     "iopub.status.idle": "2024-01-20T22:16:09.550990Z",
     "shell.execute_reply": "2024-01-20T22:16:09.549876Z"
    },
    "papermill": {
     "duration": 0.027938,
     "end_time": "2024-01-20T22:16:09.553352",
     "exception": false,
     "start_time": "2024-01-20T22:16:09.525414",
     "status": "completed"
    },
    "tags": []
   },
   "outputs": [
    {
     "data": {
      "text/plain": [
       "0       Graduation\n",
       "1       Graduation\n",
       "2       Graduation\n",
       "3       Graduation\n",
       "4              PhD\n",
       "           ...    \n",
       "2235    Graduation\n",
       "2236           PhD\n",
       "2237    Graduation\n",
       "2238        Master\n",
       "2239           PhD\n",
       "Name: Education, Length: 2240, dtype: object"
      ]
     },
     "execution_count": 14,
     "metadata": {},
     "output_type": "execute_result"
    }
   ],
   "source": [
    "marketing['Education']"
   ]
  },
  {
   "cell_type": "markdown",
   "id": "9fe55827",
   "metadata": {
    "papermill": {
     "duration": 0.01406,
     "end_time": "2024-01-20T22:16:09.581889",
     "exception": false,
     "start_time": "2024-01-20T22:16:09.567829",
     "status": "completed"
    },
    "tags": []
   },
   "source": [
    "the indexing operator `[]` does have the advantage that it can handle column names with reserved characters in them (e.g. if we had a income in year column, df.income in year wouldn't work)."
   ]
  },
  {
   "cell_type": "markdown",
   "id": "b0666584",
   "metadata": {
    "papermill": {
     "duration": 0.014159,
     "end_time": "2024-01-20T22:16:09.610519",
     "exception": false,
     "start_time": "2024-01-20T22:16:09.596360",
     "status": "completed"
    },
    "tags": []
   },
   "source": [
    "Access single value of a column in DataFrame"
   ]
  },
  {
   "cell_type": "code",
   "execution_count": 15,
   "id": "91524027",
   "metadata": {
    "execution": {
     "iopub.execute_input": "2024-01-20T22:16:09.642176Z",
     "iopub.status.busy": "2024-01-20T22:16:09.641679Z",
     "iopub.status.idle": "2024-01-20T22:16:09.649358Z",
     "shell.execute_reply": "2024-01-20T22:16:09.648256Z"
    },
    "papermill": {
     "duration": 0.026727,
     "end_time": "2024-01-20T22:16:09.651814",
     "exception": false,
     "start_time": "2024-01-20T22:16:09.625087",
     "status": "completed"
    },
    "tags": []
   },
   "outputs": [
    {
     "data": {
      "text/plain": [
       "1957"
      ]
     },
     "execution_count": 15,
     "metadata": {},
     "output_type": "execute_result"
    }
   ],
   "source": [
    "marketing['Year_Birth'][0]"
   ]
  },
  {
   "cell_type": "code",
   "execution_count": 16,
   "id": "798d7d02",
   "metadata": {
    "execution": {
     "iopub.execute_input": "2024-01-20T22:16:09.683796Z",
     "iopub.status.busy": "2024-01-20T22:16:09.683288Z",
     "iopub.status.idle": "2024-01-20T22:16:09.690283Z",
     "shell.execute_reply": "2024-01-20T22:16:09.689239Z"
    },
    "papermill": {
     "duration": 0.025673,
     "end_time": "2024-01-20T22:16:09.692562",
     "exception": false,
     "start_time": "2024-01-20T22:16:09.666889",
     "status": "completed"
    },
    "tags": []
   },
   "outputs": [
    {
     "data": {
      "text/plain": [
       "46344.0"
      ]
     },
     "execution_count": 16,
     "metadata": {},
     "output_type": "execute_result"
    }
   ],
   "source": [
    "marketing['Income'][1]"
   ]
  },
  {
   "cell_type": "markdown",
   "id": "37529972",
   "metadata": {
    "papermill": {
     "duration": 0.01448,
     "end_time": "2024-01-20T22:16:09.722337",
     "exception": false,
     "start_time": "2024-01-20T22:16:09.707857",
     "status": "completed"
    },
    "tags": []
   },
   "source": [
    "### Converting data type\n",
    "--------------------------"
   ]
  },
  {
   "cell_type": "code",
   "execution_count": 17,
   "id": "2a053eb0",
   "metadata": {
    "execution": {
     "iopub.execute_input": "2024-01-20T22:16:09.754524Z",
     "iopub.status.busy": "2024-01-20T22:16:09.754042Z",
     "iopub.status.idle": "2024-01-20T22:16:09.758702Z",
     "shell.execute_reply": "2024-01-20T22:16:09.757775Z"
    },
    "papermill": {
     "duration": 0.023676,
     "end_time": "2024-01-20T22:16:09.761050",
     "exception": false,
     "start_time": "2024-01-20T22:16:09.737374",
     "status": "completed"
    },
    "tags": []
   },
   "outputs": [],
   "source": [
    "#df['year'] = df['year'].astype('bool')\n",
    "#print(df['year'])"
   ]
  },
  {
   "cell_type": "markdown",
   "id": "bd3bf29b",
   "metadata": {
    "papermill": {
     "duration": 0.016285,
     "end_time": "2024-01-20T22:16:09.792426",
     "exception": false,
     "start_time": "2024-01-20T22:16:09.776141",
     "status": "completed"
    },
    "tags": []
   },
   "source": [
    "### Creating new boolean column using condition\n",
    "----------------------------------------"
   ]
  },
  {
   "cell_type": "code",
   "execution_count": 18,
   "id": "43c18c69",
   "metadata": {
    "execution": {
     "iopub.execute_input": "2024-01-20T22:16:09.824459Z",
     "iopub.status.busy": "2024-01-20T22:16:09.823991Z",
     "iopub.status.idle": "2024-01-20T22:16:09.834168Z",
     "shell.execute_reply": "2024-01-20T22:16:09.832879Z"
    },
    "papermill": {
     "duration": 0.029965,
     "end_time": "2024-01-20T22:16:09.837319",
     "exception": false,
     "start_time": "2024-01-20T22:16:09.807354",
     "status": "completed"
    },
    "tags": []
   },
   "outputs": [
    {
     "name": "stdout",
     "output_type": "stream",
     "text": [
      "0       False\n",
      "1       False\n",
      "2       False\n",
      "3       False\n",
      "4       False\n",
      "        ...  \n",
      "2235    False\n",
      "2236    False\n",
      "2237    False\n",
      "2238    False\n",
      "2239    False\n",
      "Name: after_1990, Length: 2240, dtype: bool\n"
     ]
    }
   ],
   "source": [
    "marketing['after_1990'] = np.where(\n",
    "                   marketing['Year_Birth']>=1990,\n",
    "                   True, False)\n",
    "print(marketing['after_1990'])"
   ]
  },
  {
   "cell_type": "markdown",
   "id": "3eeec187",
   "metadata": {
    "papermill": {
     "duration": 0.015536,
     "end_time": "2024-01-20T22:16:09.868670",
     "exception": false,
     "start_time": "2024-01-20T22:16:09.853134",
     "status": "completed"
    },
    "tags": []
   },
   "source": [
    "### Mapping values to existing columns\n",
    "-------------------------------------"
   ]
  },
  {
   "cell_type": "code",
   "execution_count": 19,
   "id": "fa426b96",
   "metadata": {
    "execution": {
     "iopub.execute_input": "2024-01-20T22:16:09.902701Z",
     "iopub.status.busy": "2024-01-20T22:16:09.901452Z",
     "iopub.status.idle": "2024-01-20T22:16:09.909908Z",
     "shell.execute_reply": "2024-01-20T22:16:09.908778Z"
    },
    "papermill": {
     "duration": 0.028041,
     "end_time": "2024-01-20T22:16:09.912461",
     "exception": false,
     "start_time": "2024-01-20T22:16:09.884420",
     "status": "completed"
    },
    "tags": []
   },
   "outputs": [],
   "source": [
    "# column marketing_channel is existed, and column channel_code is new created\n",
    "marital_dict= {'Single':1, 'Together':2, 'Married': 3, 'Divorced': 4, 'Widow': 5, 'Absurd':6,'Alone': 7, 'YOLO':8 }\n",
    "marketing['marital_dict'] = marketing['Marital_Status'].map(marital_dict)"
   ]
  },
  {
   "cell_type": "code",
   "execution_count": 20,
   "id": "01afb261",
   "metadata": {
    "execution": {
     "iopub.execute_input": "2024-01-20T22:16:09.945317Z",
     "iopub.status.busy": "2024-01-20T22:16:09.944869Z",
     "iopub.status.idle": "2024-01-20T22:16:09.971522Z",
     "shell.execute_reply": "2024-01-20T22:16:09.970178Z"
    },
    "papermill": {
     "duration": 0.046331,
     "end_time": "2024-01-20T22:16:09.974239",
     "exception": false,
     "start_time": "2024-01-20T22:16:09.927908",
     "status": "completed"
    },
    "tags": []
   },
   "outputs": [
    {
     "data": {
      "text/html": [
       "<div>\n",
       "<style scoped>\n",
       "    .dataframe tbody tr th:only-of-type {\n",
       "        vertical-align: middle;\n",
       "    }\n",
       "\n",
       "    .dataframe tbody tr th {\n",
       "        vertical-align: top;\n",
       "    }\n",
       "\n",
       "    .dataframe thead th {\n",
       "        text-align: right;\n",
       "    }\n",
       "</style>\n",
       "<table border=\"1\" class=\"dataframe\">\n",
       "  <thead>\n",
       "    <tr style=\"text-align: right;\">\n",
       "      <th></th>\n",
       "      <th>ID</th>\n",
       "      <th>Year_Birth</th>\n",
       "      <th>Education</th>\n",
       "      <th>Marital_Status</th>\n",
       "      <th>Income</th>\n",
       "      <th>Kidhome</th>\n",
       "      <th>Teenhome</th>\n",
       "      <th>Dt_Customer</th>\n",
       "      <th>Recency</th>\n",
       "      <th>MntWines</th>\n",
       "      <th>MntFruits</th>\n",
       "      <th>MntMeatProducts</th>\n",
       "      <th>MntFishProducts</th>\n",
       "      <th>MntSweetProducts</th>\n",
       "      <th>MntGoldProds</th>\n",
       "      <th>NumDealsPurchases</th>\n",
       "      <th>NumWebPurchases</th>\n",
       "      <th>NumCatalogPurchases</th>\n",
       "      <th>NumStorePurchases</th>\n",
       "      <th>NumWebVisitsMonth</th>\n",
       "      <th>AcceptedCmp3</th>\n",
       "      <th>AcceptedCmp4</th>\n",
       "      <th>AcceptedCmp5</th>\n",
       "      <th>AcceptedCmp1</th>\n",
       "      <th>AcceptedCmp2</th>\n",
       "      <th>Complain</th>\n",
       "      <th>Z_CostContact</th>\n",
       "      <th>Z_Revenue</th>\n",
       "      <th>Response</th>\n",
       "      <th>after_1990</th>\n",
       "      <th>marital_dict</th>\n",
       "    </tr>\n",
       "  </thead>\n",
       "  <tbody>\n",
       "    <tr>\n",
       "      <th>0</th>\n",
       "      <td>5524</td>\n",
       "      <td>1957</td>\n",
       "      <td>Graduation</td>\n",
       "      <td>Single</td>\n",
       "      <td>58138.0</td>\n",
       "      <td>0</td>\n",
       "      <td>0</td>\n",
       "      <td>2012-09-04</td>\n",
       "      <td>58</td>\n",
       "      <td>635</td>\n",
       "      <td>88</td>\n",
       "      <td>546</td>\n",
       "      <td>172</td>\n",
       "      <td>88</td>\n",
       "      <td>88</td>\n",
       "      <td>3</td>\n",
       "      <td>8</td>\n",
       "      <td>10</td>\n",
       "      <td>4</td>\n",
       "      <td>7</td>\n",
       "      <td>0</td>\n",
       "      <td>0</td>\n",
       "      <td>0</td>\n",
       "      <td>0</td>\n",
       "      <td>0</td>\n",
       "      <td>0</td>\n",
       "      <td>3</td>\n",
       "      <td>11</td>\n",
       "      <td>1</td>\n",
       "      <td>False</td>\n",
       "      <td>1</td>\n",
       "    </tr>\n",
       "    <tr>\n",
       "      <th>1</th>\n",
       "      <td>2174</td>\n",
       "      <td>1954</td>\n",
       "      <td>Graduation</td>\n",
       "      <td>Single</td>\n",
       "      <td>46344.0</td>\n",
       "      <td>1</td>\n",
       "      <td>1</td>\n",
       "      <td>2014-03-08</td>\n",
       "      <td>38</td>\n",
       "      <td>11</td>\n",
       "      <td>1</td>\n",
       "      <td>6</td>\n",
       "      <td>2</td>\n",
       "      <td>1</td>\n",
       "      <td>6</td>\n",
       "      <td>2</td>\n",
       "      <td>1</td>\n",
       "      <td>1</td>\n",
       "      <td>2</td>\n",
       "      <td>5</td>\n",
       "      <td>0</td>\n",
       "      <td>0</td>\n",
       "      <td>0</td>\n",
       "      <td>0</td>\n",
       "      <td>0</td>\n",
       "      <td>0</td>\n",
       "      <td>3</td>\n",
       "      <td>11</td>\n",
       "      <td>0</td>\n",
       "      <td>False</td>\n",
       "      <td>1</td>\n",
       "    </tr>\n",
       "    <tr>\n",
       "      <th>2</th>\n",
       "      <td>4141</td>\n",
       "      <td>1965</td>\n",
       "      <td>Graduation</td>\n",
       "      <td>Together</td>\n",
       "      <td>71613.0</td>\n",
       "      <td>0</td>\n",
       "      <td>0</td>\n",
       "      <td>2013-08-21</td>\n",
       "      <td>26</td>\n",
       "      <td>426</td>\n",
       "      <td>49</td>\n",
       "      <td>127</td>\n",
       "      <td>111</td>\n",
       "      <td>21</td>\n",
       "      <td>42</td>\n",
       "      <td>1</td>\n",
       "      <td>8</td>\n",
       "      <td>2</td>\n",
       "      <td>10</td>\n",
       "      <td>4</td>\n",
       "      <td>0</td>\n",
       "      <td>0</td>\n",
       "      <td>0</td>\n",
       "      <td>0</td>\n",
       "      <td>0</td>\n",
       "      <td>0</td>\n",
       "      <td>3</td>\n",
       "      <td>11</td>\n",
       "      <td>0</td>\n",
       "      <td>False</td>\n",
       "      <td>2</td>\n",
       "    </tr>\n",
       "    <tr>\n",
       "      <th>3</th>\n",
       "      <td>6182</td>\n",
       "      <td>1984</td>\n",
       "      <td>Graduation</td>\n",
       "      <td>Together</td>\n",
       "      <td>26646.0</td>\n",
       "      <td>1</td>\n",
       "      <td>0</td>\n",
       "      <td>2014-02-10</td>\n",
       "      <td>26</td>\n",
       "      <td>11</td>\n",
       "      <td>4</td>\n",
       "      <td>20</td>\n",
       "      <td>10</td>\n",
       "      <td>3</td>\n",
       "      <td>5</td>\n",
       "      <td>2</td>\n",
       "      <td>2</td>\n",
       "      <td>0</td>\n",
       "      <td>4</td>\n",
       "      <td>6</td>\n",
       "      <td>0</td>\n",
       "      <td>0</td>\n",
       "      <td>0</td>\n",
       "      <td>0</td>\n",
       "      <td>0</td>\n",
       "      <td>0</td>\n",
       "      <td>3</td>\n",
       "      <td>11</td>\n",
       "      <td>0</td>\n",
       "      <td>False</td>\n",
       "      <td>2</td>\n",
       "    </tr>\n",
       "    <tr>\n",
       "      <th>4</th>\n",
       "      <td>5324</td>\n",
       "      <td>1981</td>\n",
       "      <td>PhD</td>\n",
       "      <td>Married</td>\n",
       "      <td>58293.0</td>\n",
       "      <td>1</td>\n",
       "      <td>0</td>\n",
       "      <td>2014-01-19</td>\n",
       "      <td>94</td>\n",
       "      <td>173</td>\n",
       "      <td>43</td>\n",
       "      <td>118</td>\n",
       "      <td>46</td>\n",
       "      <td>27</td>\n",
       "      <td>15</td>\n",
       "      <td>5</td>\n",
       "      <td>5</td>\n",
       "      <td>3</td>\n",
       "      <td>6</td>\n",
       "      <td>5</td>\n",
       "      <td>0</td>\n",
       "      <td>0</td>\n",
       "      <td>0</td>\n",
       "      <td>0</td>\n",
       "      <td>0</td>\n",
       "      <td>0</td>\n",
       "      <td>3</td>\n",
       "      <td>11</td>\n",
       "      <td>0</td>\n",
       "      <td>False</td>\n",
       "      <td>3</td>\n",
       "    </tr>\n",
       "  </tbody>\n",
       "</table>\n",
       "</div>"
      ],
      "text/plain": [
       "     ID  Year_Birth   Education Marital_Status   Income  Kidhome  Teenhome  \\\n",
       "0  5524        1957  Graduation         Single  58138.0        0         0   \n",
       "1  2174        1954  Graduation         Single  46344.0        1         1   \n",
       "2  4141        1965  Graduation       Together  71613.0        0         0   \n",
       "3  6182        1984  Graduation       Together  26646.0        1         0   \n",
       "4  5324        1981         PhD        Married  58293.0        1         0   \n",
       "\n",
       "  Dt_Customer  Recency  MntWines  MntFruits  MntMeatProducts  MntFishProducts  \\\n",
       "0  2012-09-04       58       635         88              546              172   \n",
       "1  2014-03-08       38        11          1                6                2   \n",
       "2  2013-08-21       26       426         49              127              111   \n",
       "3  2014-02-10       26        11          4               20               10   \n",
       "4  2014-01-19       94       173         43              118               46   \n",
       "\n",
       "   MntSweetProducts  MntGoldProds  NumDealsPurchases  NumWebPurchases  \\\n",
       "0                88            88                  3                8   \n",
       "1                 1             6                  2                1   \n",
       "2                21            42                  1                8   \n",
       "3                 3             5                  2                2   \n",
       "4                27            15                  5                5   \n",
       "\n",
       "   NumCatalogPurchases  NumStorePurchases  NumWebVisitsMonth  AcceptedCmp3  \\\n",
       "0                   10                  4                  7             0   \n",
       "1                    1                  2                  5             0   \n",
       "2                    2                 10                  4             0   \n",
       "3                    0                  4                  6             0   \n",
       "4                    3                  6                  5             0   \n",
       "\n",
       "   AcceptedCmp4  AcceptedCmp5  AcceptedCmp1  AcceptedCmp2  Complain  \\\n",
       "0             0             0             0             0         0   \n",
       "1             0             0             0             0         0   \n",
       "2             0             0             0             0         0   \n",
       "3             0             0             0             0         0   \n",
       "4             0             0             0             0         0   \n",
       "\n",
       "   Z_CostContact  Z_Revenue  Response  after_1990  marital_dict  \n",
       "0              3         11         1       False             1  \n",
       "1              3         11         0       False             1  \n",
       "2              3         11         0       False             2  \n",
       "3              3         11         0       False             2  \n",
       "4              3         11         0       False             3  "
      ]
     },
     "execution_count": 20,
     "metadata": {},
     "output_type": "execute_result"
    }
   ],
   "source": [
    "marketing.head()"
   ]
  },
  {
   "cell_type": "code",
   "execution_count": 21,
   "id": "7fb28ce3",
   "metadata": {
    "execution": {
     "iopub.execute_input": "2024-01-20T22:16:10.007407Z",
     "iopub.status.busy": "2024-01-20T22:16:10.006988Z",
     "iopub.status.idle": "2024-01-20T22:16:10.016277Z",
     "shell.execute_reply": "2024-01-20T22:16:10.014265Z"
    },
    "papermill": {
     "duration": 0.028811,
     "end_time": "2024-01-20T22:16:10.018846",
     "exception": false,
     "start_time": "2024-01-20T22:16:09.990035",
     "status": "completed"
    },
    "tags": []
   },
   "outputs": [
    {
     "name": "stdout",
     "output_type": "stream",
     "text": [
      "0       1\n",
      "1       1\n",
      "2       2\n",
      "3       2\n",
      "4       3\n",
      "       ..\n",
      "2235    3\n",
      "2236    2\n",
      "2237    4\n",
      "2238    2\n",
      "2239    3\n",
      "Name: marital_dict, Length: 2240, dtype: int64\n"
     ]
    }
   ],
   "source": [
    "print(marketing.marital_dict)"
   ]
  },
  {
   "cell_type": "markdown",
   "id": "8c02a0ff",
   "metadata": {
    "papermill": {
     "duration": 0.01549,
     "end_time": "2024-01-20T22:16:10.050752",
     "exception": false,
     "start_time": "2024-01-20T22:16:10.035262",
     "status": "completed"
    },
    "tags": []
   },
   "source": [
    "### Convert column to datetime column\n",
    "-----------------------------------------"
   ]
  },
  {
   "cell_type": "code",
   "execution_count": 22,
   "id": "0a68265c",
   "metadata": {
    "execution": {
     "iopub.execute_input": "2024-01-20T22:16:10.085114Z",
     "iopub.status.busy": "2024-01-20T22:16:10.084673Z",
     "iopub.status.idle": "2024-01-20T22:16:10.106800Z",
     "shell.execute_reply": "2024-01-20T22:16:10.105627Z"
    },
    "papermill": {
     "duration": 0.042508,
     "end_time": "2024-01-20T22:16:10.109925",
     "exception": false,
     "start_time": "2024-01-20T22:16:10.067417",
     "status": "completed"
    },
    "tags": []
   },
   "outputs": [],
   "source": [
    "marketing = pd.read_csv('/kaggle/input/arketing-campaign/marketing_campaign.csv', sep = ';', parse_dates=['Dt_Customer']) "
   ]
  },
  {
   "cell_type": "code",
   "execution_count": 23,
   "id": "1b708963",
   "metadata": {
    "execution": {
     "iopub.execute_input": "2024-01-20T22:16:10.146032Z",
     "iopub.status.busy": "2024-01-20T22:16:10.145603Z",
     "iopub.status.idle": "2024-01-20T22:16:10.163049Z",
     "shell.execute_reply": "2024-01-20T22:16:10.161905Z"
    },
    "papermill": {
     "duration": 0.038681,
     "end_time": "2024-01-20T22:16:10.165598",
     "exception": false,
     "start_time": "2024-01-20T22:16:10.126917",
     "status": "completed"
    },
    "tags": []
   },
   "outputs": [
    {
     "name": "stdout",
     "output_type": "stream",
     "text": [
      "<class 'pandas.core.frame.DataFrame'>\n",
      "RangeIndex: 2240 entries, 0 to 2239\n",
      "Data columns (total 29 columns):\n",
      " #   Column               Non-Null Count  Dtype         \n",
      "---  ------               --------------  -----         \n",
      " 0   ID                   2240 non-null   int64         \n",
      " 1   Year_Birth           2240 non-null   int64         \n",
      " 2   Education            2240 non-null   object        \n",
      " 3   Marital_Status       2240 non-null   object        \n",
      " 4   Income               2216 non-null   float64       \n",
      " 5   Kidhome              2240 non-null   int64         \n",
      " 6   Teenhome             2240 non-null   int64         \n",
      " 7   Dt_Customer          2240 non-null   datetime64[ns]\n",
      " 8   Recency              2240 non-null   int64         \n",
      " 9   MntWines             2240 non-null   int64         \n",
      " 10  MntFruits            2240 non-null   int64         \n",
      " 11  MntMeatProducts      2240 non-null   int64         \n",
      " 12  MntFishProducts      2240 non-null   int64         \n",
      " 13  MntSweetProducts     2240 non-null   int64         \n",
      " 14  MntGoldProds         2240 non-null   int64         \n",
      " 15  NumDealsPurchases    2240 non-null   int64         \n",
      " 16  NumWebPurchases      2240 non-null   int64         \n",
      " 17  NumCatalogPurchases  2240 non-null   int64         \n",
      " 18  NumStorePurchases    2240 non-null   int64         \n",
      " 19  NumWebVisitsMonth    2240 non-null   int64         \n",
      " 20  AcceptedCmp3         2240 non-null   int64         \n",
      " 21  AcceptedCmp4         2240 non-null   int64         \n",
      " 22  AcceptedCmp5         2240 non-null   int64         \n",
      " 23  AcceptedCmp1         2240 non-null   int64         \n",
      " 24  AcceptedCmp2         2240 non-null   int64         \n",
      " 25  Complain             2240 non-null   int64         \n",
      " 26  Z_CostContact        2240 non-null   int64         \n",
      " 27  Z_Revenue            2240 non-null   int64         \n",
      " 28  Response             2240 non-null   int64         \n",
      "dtypes: datetime64[ns](1), float64(1), int64(25), object(2)\n",
      "memory usage: 507.6+ KB\n"
     ]
    }
   ],
   "source": [
    "# check data type of Dt_Customer\n",
    "marketing.info()"
   ]
  },
  {
   "cell_type": "markdown",
   "id": "ce20fdfb",
   "metadata": {
    "papermill": {
     "duration": 0.016188,
     "end_time": "2024-01-20T22:16:10.198660",
     "exception": false,
     "start_time": "2024-01-20T22:16:10.182472",
     "status": "completed"
    },
    "tags": []
   },
   "source": [
    "Or"
   ]
  },
  {
   "cell_type": "code",
   "execution_count": 24,
   "id": "c00fc943",
   "metadata": {
    "execution": {
     "iopub.execute_input": "2024-01-20T22:16:10.233026Z",
     "iopub.status.busy": "2024-01-20T22:16:10.232591Z",
     "iopub.status.idle": "2024-01-20T22:16:10.242964Z",
     "shell.execute_reply": "2024-01-20T22:16:10.241554Z"
    },
    "papermill": {
     "duration": 0.030794,
     "end_time": "2024-01-20T22:16:10.245729",
     "exception": false,
     "start_time": "2024-01-20T22:16:10.214935",
     "status": "completed"
    },
    "tags": []
   },
   "outputs": [],
   "source": [
    "marketing['Year_Birth'] = pd.to_datetime(marketing['Year_Birth'])"
   ]
  },
  {
   "cell_type": "code",
   "execution_count": 25,
   "id": "7fff67ce",
   "metadata": {
    "execution": {
     "iopub.execute_input": "2024-01-20T22:16:10.281022Z",
     "iopub.status.busy": "2024-01-20T22:16:10.280576Z",
     "iopub.status.idle": "2024-01-20T22:16:10.286905Z",
     "shell.execute_reply": "2024-01-20T22:16:10.285742Z"
    },
    "papermill": {
     "duration": 0.02626,
     "end_time": "2024-01-20T22:16:10.289248",
     "exception": false,
     "start_time": "2024-01-20T22:16:10.262988",
     "status": "completed"
    },
    "tags": []
   },
   "outputs": [
    {
     "name": "stdout",
     "output_type": "stream",
     "text": [
      "datetime64[ns]\n"
     ]
    }
   ],
   "source": [
    "print(marketing['Year_Birth'].dtype)"
   ]
  },
  {
   "cell_type": "markdown",
   "id": "97aa1931",
   "metadata": {
    "papermill": {
     "duration": 0.016392,
     "end_time": "2024-01-20T22:16:10.322155",
     "exception": false,
     "start_time": "2024-01-20T22:16:10.305763",
     "status": "completed"
    },
    "tags": []
   },
   "source": [
    "### Groupby data based on specific column\n",
    "----------------------------------------"
   ]
  },
  {
   "cell_type": "code",
   "execution_count": 26,
   "id": "69ec4cd7",
   "metadata": {
    "execution": {
     "iopub.execute_input": "2024-01-20T22:16:10.357182Z",
     "iopub.status.busy": "2024-01-20T22:16:10.356783Z",
     "iopub.status.idle": "2024-01-20T22:16:10.367610Z",
     "shell.execute_reply": "2024-01-20T22:16:10.366307Z"
    },
    "papermill": {
     "duration": 0.030759,
     "end_time": "2024-01-20T22:16:10.369990",
     "exception": false,
     "start_time": "2024-01-20T22:16:10.339231",
     "status": "completed"
    },
    "tags": []
   },
   "outputs": [
    {
     "name": "stdout",
     "output_type": "stream",
     "text": [
      "Education\n",
      "2n Cycle       203\n",
      "Basic           54\n",
      "Graduation    1127\n",
      "Master         370\n",
      "PhD            486\n",
      "Name: ID, dtype: int64\n"
     ]
    }
   ],
   "source": [
    "# Group by date_served and count number of unique user_id's\n",
    "education_customers = marketing.groupby(['Education'])['ID'].nunique()\n",
    "print(education_customers)"
   ]
  }
 ],
 "metadata": {
  "kaggle": {
   "accelerator": "none",
   "dataSources": [
    {
     "datasetId": 178248,
     "sourceId": 1139908,
     "sourceType": "datasetVersion"
    }
   ],
   "dockerImageVersionId": 30527,
   "isGpuEnabled": false,
   "isInternetEnabled": true,
   "language": "python",
   "sourceType": "notebook"
  },
  "kernelspec": {
   "display_name": "Python 3",
   "language": "python",
   "name": "python3"
  },
  "language_info": {
   "codemirror_mode": {
    "name": "ipython",
    "version": 3
   },
   "file_extension": ".py",
   "mimetype": "text/x-python",
   "name": "python",
   "nbconvert_exporter": "python",
   "pygments_lexer": "ipython3",
   "version": "3.10.12"
  },
  "papermill": {
   "default_parameters": {},
   "duration": 15.498816,
   "end_time": "2024-01-20T22:16:11.309023",
   "environment_variables": {},
   "exception": null,
   "input_path": "__notebook__.ipynb",
   "output_path": "__notebook__.ipynb",
   "parameters": {},
   "start_time": "2024-01-20T22:15:55.810207",
   "version": "2.4.0"
  }
 },
 "nbformat": 4,
 "nbformat_minor": 5
}
