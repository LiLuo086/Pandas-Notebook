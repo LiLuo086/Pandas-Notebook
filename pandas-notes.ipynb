{
 "cells": [
  {
   "cell_type": "markdown",
   "id": "31a0bb95",
   "metadata": {
    "papermill": {
     "duration": 0.01574,
     "end_time": "2024-01-14T15:34:12.283224",
     "exception": false,
     "start_time": "2024-01-14T15:34:12.267484",
     "status": "completed"
    },
    "tags": []
   },
   "source": [
    "**Pandas** stands for “Python Data Analysis” Library, is the most popular Python library for data analysis."
   ]
  },
  {
   "cell_type": "markdown",
   "id": "9fccb5ff",
   "metadata": {
    "papermill": {
     "duration": 0.012685,
     "end_time": "2024-01-14T15:34:12.311172",
     "exception": false,
     "start_time": "2024-01-14T15:34:12.298487",
     "status": "completed"
    },
    "tags": []
   },
   "source": [
    "Import **pandas** using alias **pd**"
   ]
  },
  {
   "cell_type": "code",
   "execution_count": 1,
   "id": "c6816734",
   "metadata": {
    "execution": {
     "iopub.execute_input": "2024-01-14T15:34:12.335521Z",
     "iopub.status.busy": "2024-01-14T15:34:12.334952Z",
     "iopub.status.idle": "2024-01-14T15:34:12.350655Z",
     "shell.execute_reply": "2024-01-14T15:34:12.349321Z"
    },
    "papermill": {
     "duration": 0.031523,
     "end_time": "2024-01-14T15:34:12.353469",
     "exception": false,
     "start_time": "2024-01-14T15:34:12.321946",
     "status": "completed"
    },
    "tags": []
   },
   "outputs": [],
   "source": [
    "import pandas as pd "
   ]
  },
  {
   "cell_type": "markdown",
   "id": "3a02fa33",
   "metadata": {
    "papermill": {
     "duration": 0.011056,
     "end_time": "2024-01-14T15:34:12.376390",
     "exception": false,
     "start_time": "2024-01-14T15:34:12.365334",
     "status": "completed"
    },
    "tags": []
   },
   "source": [
    "\n",
    "### Working with data that already exists"
   ]
  },
  {
   "cell_type": "markdown",
   "id": "d5f87b0a",
   "metadata": {
    "papermill": {
     "duration": 0.011485,
     "end_time": "2024-01-14T15:34:12.400212",
     "exception": false,
     "start_time": "2024-01-14T15:34:12.388727",
     "status": "completed"
    },
    "tags": []
   },
   "source": [
    "Load data stored in a csv file into a DataFrame using **pd.read_scv()** method"
   ]
  },
  {
   "cell_type": "code",
   "execution_count": 2,
   "id": "cd3c69aa",
   "metadata": {
    "execution": {
     "iopub.execute_input": "2024-01-14T15:34:12.424383Z",
     "iopub.status.busy": "2024-01-14T15:34:12.423829Z",
     "iopub.status.idle": "2024-01-14T15:34:12.446976Z",
     "shell.execute_reply": "2024-01-14T15:34:12.445940Z"
    },
    "papermill": {
     "duration": 0.038525,
     "end_time": "2024-01-14T15:34:12.449847",
     "exception": false,
     "start_time": "2024-01-14T15:34:12.411322",
     "status": "completed"
    },
    "tags": []
   },
   "outputs": [],
   "source": [
    "df = pd.read_csv('/kaggle/input/canada-per-capita-income/Canada_per_capita_income.csv') "
   ]
  },
  {
   "cell_type": "markdown",
   "id": "f48bfbeb",
   "metadata": {
    "papermill": {
     "duration": 0.011146,
     "end_time": "2024-01-14T15:34:12.472028",
     "exception": false,
     "start_time": "2024-01-14T15:34:12.460882",
     "status": "completed"
    },
    "tags": []
   },
   "source": [
    "**Show the DataFrame shape**, such as number of rows and columns"
   ]
  },
  {
   "cell_type": "code",
   "execution_count": 3,
   "id": "17683416",
   "metadata": {
    "execution": {
     "iopub.execute_input": "2024-01-14T15:34:12.496699Z",
     "iopub.status.busy": "2024-01-14T15:34:12.495095Z",
     "iopub.status.idle": "2024-01-14T15:34:12.507100Z",
     "shell.execute_reply": "2024-01-14T15:34:12.505696Z"
    },
    "papermill": {
     "duration": 0.026884,
     "end_time": "2024-01-14T15:34:12.510065",
     "exception": false,
     "start_time": "2024-01-14T15:34:12.483181",
     "status": "completed"
    },
    "tags": []
   },
   "outputs": [
    {
     "name": "stdout",
     "output_type": "stream",
     "text": [
      "The shape of the DataFrame:  (47, 2)\n"
     ]
    }
   ],
   "source": [
    "print(\"The shape of the DataFrame: \",df.shape)"
   ]
  },
  {
   "cell_type": "markdown",
   "id": "b2704f62",
   "metadata": {
    "papermill": {
     "duration": 0.010862,
     "end_time": "2024-01-14T15:34:12.532369",
     "exception": false,
     "start_time": "2024-01-14T15:34:12.521507",
     "status": "completed"
    },
    "tags": []
   },
   "source": [
    "Pandas only return the **first 5 rows** and **last 5 rows** and **headers** of a DataFrame, if the total rows of a DataFrame is less the the maximal rows allowed by system.\n",
    "\n",
    "If the system allowed maximal rows is larger than the number of rows of a DataFrame, all rows can be displayed."
   ]
  },
  {
   "cell_type": "markdown",
   "id": "d4585753",
   "metadata": {
    "papermill": {
     "duration": 0.010874,
     "end_time": "2024-01-14T15:34:12.554214",
     "exception": false,
     "start_time": "2024-01-14T15:34:12.543340",
     "status": "completed"
    },
    "tags": []
   },
   "source": [
    "**Show the maximal system allowed rows in a DataFrame**"
   ]
  },
  {
   "cell_type": "code",
   "execution_count": 4,
   "id": "deefe68c",
   "metadata": {
    "execution": {
     "iopub.execute_input": "2024-01-14T15:34:12.579325Z",
     "iopub.status.busy": "2024-01-14T15:34:12.578249Z",
     "iopub.status.idle": "2024-01-14T15:34:12.585986Z",
     "shell.execute_reply": "2024-01-14T15:34:12.583932Z"
    },
    "papermill": {
     "duration": 0.023482,
     "end_time": "2024-01-14T15:34:12.588977",
     "exception": false,
     "start_time": "2024-01-14T15:34:12.565495",
     "status": "completed"
    },
    "tags": []
   },
   "outputs": [
    {
     "name": "stdout",
     "output_type": "stream",
     "text": [
      "60\n"
     ]
    }
   ],
   "source": [
    "print(pd.options.display.max_rows)"
   ]
  },
  {
   "cell_type": "markdown",
   "id": "a30acd80",
   "metadata": {
    "papermill": {
     "duration": 0.010873,
     "end_time": "2024-01-14T15:34:12.610803",
     "exception": false,
     "start_time": "2024-01-14T15:34:12.599930",
     "status": "completed"
    },
    "tags": []
   },
   "source": [
    "**Change the system allowed maximal rows**"
   ]
  },
  {
   "cell_type": "code",
   "execution_count": 5,
   "id": "09afeb8c",
   "metadata": {
    "execution": {
     "iopub.execute_input": "2024-01-14T15:34:12.635648Z",
     "iopub.status.busy": "2024-01-14T15:34:12.635059Z",
     "iopub.status.idle": "2024-01-14T15:34:12.641301Z",
     "shell.execute_reply": "2024-01-14T15:34:12.639773Z"
    },
    "papermill": {
     "duration": 0.022299,
     "end_time": "2024-01-14T15:34:12.644265",
     "exception": false,
     "start_time": "2024-01-14T15:34:12.621966",
     "status": "completed"
    },
    "tags": []
   },
   "outputs": [],
   "source": [
    "pd.options.display.max_rows = 30"
   ]
  },
  {
   "cell_type": "markdown",
   "id": "962cc06b",
   "metadata": {
    "papermill": {
     "duration": 0.01033,
     "end_time": "2024-01-14T15:34:12.665343",
     "exception": false,
     "start_time": "2024-01-14T15:34:12.655013",
     "status": "completed"
    },
    "tags": []
   },
   "source": [
    "**Show all columns in the dataframe**"
   ]
  },
  {
   "cell_type": "code",
   "execution_count": 6,
   "id": "b2ebea72",
   "metadata": {
    "execution": {
     "iopub.execute_input": "2024-01-14T15:34:12.689395Z",
     "iopub.status.busy": "2024-01-14T15:34:12.688847Z",
     "iopub.status.idle": "2024-01-14T15:34:12.695972Z",
     "shell.execute_reply": "2024-01-14T15:34:12.694361Z"
    },
    "papermill": {
     "duration": 0.023113,
     "end_time": "2024-01-14T15:34:12.699260",
     "exception": false,
     "start_time": "2024-01-14T15:34:12.676147",
     "status": "completed"
    },
    "tags": []
   },
   "outputs": [],
   "source": [
    "pd.set_option('display.max_columns', None)"
   ]
  },
  {
   "cell_type": "code",
   "execution_count": 7,
   "id": "7382293d",
   "metadata": {
    "execution": {
     "iopub.execute_input": "2024-01-14T15:34:12.725039Z",
     "iopub.status.busy": "2024-01-14T15:34:12.724449Z",
     "iopub.status.idle": "2024-01-14T15:34:12.743774Z",
     "shell.execute_reply": "2024-01-14T15:34:12.742559Z"
    },
    "papermill": {
     "duration": 0.036661,
     "end_time": "2024-01-14T15:34:12.746807",
     "exception": false,
     "start_time": "2024-01-14T15:34:12.710146",
     "status": "completed"
    },
    "tags": []
   },
   "outputs": [
    {
     "name": "stdout",
     "output_type": "stream",
     "text": [
      "Display Content of the DataFrame:\n",
      "      year        income\n",
      "0   1970   3399.299037\n",
      "1   1971   3768.297935\n",
      "2   1972   4251.175484\n",
      "3   1973   4804.463248\n",
      "4   1974   5576.514583\n",
      "..   ...           ...\n",
      "42  2012  42665.255970\n",
      "43  2013  42676.468370\n",
      "44  2014  41039.893600\n",
      "45  2015  35175.188980\n",
      "46  2016  34229.193630\n",
      "\n",
      "[47 rows x 2 columns]\n"
     ]
    }
   ],
   "source": [
    "print(\"Display Content of the DataFrame:\\n \", df)"
   ]
  },
  {
   "cell_type": "markdown",
   "id": "f27ba2a6",
   "metadata": {
    "papermill": {
     "duration": 0.010703,
     "end_time": "2024-01-14T15:34:12.768423",
     "exception": false,
     "start_time": "2024-01-14T15:34:12.757720",
     "status": "completed"
    },
    "tags": []
   },
   "source": [
    "**Show the first 5 rows of a DataFrame using head() method**"
   ]
  },
  {
   "cell_type": "code",
   "execution_count": 8,
   "id": "1d76fc0e",
   "metadata": {
    "execution": {
     "iopub.execute_input": "2024-01-14T15:34:12.793943Z",
     "iopub.status.busy": "2024-01-14T15:34:12.793459Z",
     "iopub.status.idle": "2024-01-14T15:34:12.810359Z",
     "shell.execute_reply": "2024-01-14T15:34:12.808943Z"
    },
    "papermill": {
     "duration": 0.03244,
     "end_time": "2024-01-14T15:34:12.812952",
     "exception": false,
     "start_time": "2024-01-14T15:34:12.780512",
     "status": "completed"
    },
    "tags": []
   },
   "outputs": [
    {
     "data": {
      "text/html": [
       "<div>\n",
       "<style scoped>\n",
       "    .dataframe tbody tr th:only-of-type {\n",
       "        vertical-align: middle;\n",
       "    }\n",
       "\n",
       "    .dataframe tbody tr th {\n",
       "        vertical-align: top;\n",
       "    }\n",
       "\n",
       "    .dataframe thead th {\n",
       "        text-align: right;\n",
       "    }\n",
       "</style>\n",
       "<table border=\"1\" class=\"dataframe\">\n",
       "  <thead>\n",
       "    <tr style=\"text-align: right;\">\n",
       "      <th></th>\n",
       "      <th>year</th>\n",
       "      <th>income</th>\n",
       "    </tr>\n",
       "  </thead>\n",
       "  <tbody>\n",
       "    <tr>\n",
       "      <th>0</th>\n",
       "      <td>1970</td>\n",
       "      <td>3399.299037</td>\n",
       "    </tr>\n",
       "    <tr>\n",
       "      <th>1</th>\n",
       "      <td>1971</td>\n",
       "      <td>3768.297935</td>\n",
       "    </tr>\n",
       "    <tr>\n",
       "      <th>2</th>\n",
       "      <td>1972</td>\n",
       "      <td>4251.175484</td>\n",
       "    </tr>\n",
       "    <tr>\n",
       "      <th>3</th>\n",
       "      <td>1973</td>\n",
       "      <td>4804.463248</td>\n",
       "    </tr>\n",
       "    <tr>\n",
       "      <th>4</th>\n",
       "      <td>1974</td>\n",
       "      <td>5576.514583</td>\n",
       "    </tr>\n",
       "  </tbody>\n",
       "</table>\n",
       "</div>"
      ],
      "text/plain": [
       "   year       income\n",
       "0  1970  3399.299037\n",
       "1  1971  3768.297935\n",
       "2  1972  4251.175484\n",
       "3  1973  4804.463248\n",
       "4  1974  5576.514583"
      ]
     },
     "execution_count": 8,
     "metadata": {},
     "output_type": "execute_result"
    }
   ],
   "source": [
    "df.head()"
   ]
  },
  {
   "cell_type": "markdown",
   "id": "f82878c8",
   "metadata": {
    "papermill": {
     "duration": 0.010826,
     "end_time": "2024-01-14T15:34:12.834793",
     "exception": false,
     "start_time": "2024-01-14T15:34:12.823967",
     "status": "completed"
    },
    "tags": []
   },
   "source": [
    "**Show the information of a DataFrame**"
   ]
  },
  {
   "cell_type": "code",
   "execution_count": 9,
   "id": "0ae538ec",
   "metadata": {
    "execution": {
     "iopub.execute_input": "2024-01-14T15:34:12.859533Z",
     "iopub.status.busy": "2024-01-14T15:34:12.858987Z",
     "iopub.status.idle": "2024-01-14T15:34:12.890139Z",
     "shell.execute_reply": "2024-01-14T15:34:12.888613Z"
    },
    "papermill": {
     "duration": 0.047356,
     "end_time": "2024-01-14T15:34:12.893179",
     "exception": false,
     "start_time": "2024-01-14T15:34:12.845823",
     "status": "completed"
    },
    "tags": []
   },
   "outputs": [
    {
     "name": "stdout",
     "output_type": "stream",
     "text": [
      "<class 'pandas.core.frame.DataFrame'>\n",
      "RangeIndex: 47 entries, 0 to 46\n",
      "Data columns (total 2 columns):\n",
      " #   Column  Non-Null Count  Dtype  \n",
      "---  ------  --------------  -----  \n",
      " 0   year    47 non-null     int64  \n",
      " 1   income  47 non-null     float64\n",
      "dtypes: float64(1), int64(1)\n",
      "memory usage: 880.0 bytes\n"
     ]
    }
   ],
   "source": [
    "df.info()"
   ]
  },
  {
   "cell_type": "markdown",
   "id": "5d7c80a8",
   "metadata": {
    "papermill": {
     "duration": 0.01077,
     "end_time": "2024-01-14T15:34:12.915787",
     "exception": false,
     "start_time": "2024-01-14T15:34:12.905017",
     "status": "completed"
    },
    "tags": []
   },
   "source": [
    "**Generate descriptive statstics of a DataFrame**"
   ]
  },
  {
   "cell_type": "code",
   "execution_count": 10,
   "id": "1d07767f",
   "metadata": {
    "execution": {
     "iopub.execute_input": "2024-01-14T15:34:12.941175Z",
     "iopub.status.busy": "2024-01-14T15:34:12.940115Z",
     "iopub.status.idle": "2024-01-14T15:34:12.964191Z",
     "shell.execute_reply": "2024-01-14T15:34:12.963060Z"
    },
    "papermill": {
     "duration": 0.04004,
     "end_time": "2024-01-14T15:34:12.966977",
     "exception": false,
     "start_time": "2024-01-14T15:34:12.926937",
     "status": "completed"
    },
    "tags": []
   },
   "outputs": [
    {
     "data": {
      "text/html": [
       "<div>\n",
       "<style scoped>\n",
       "    .dataframe tbody tr th:only-of-type {\n",
       "        vertical-align: middle;\n",
       "    }\n",
       "\n",
       "    .dataframe tbody tr th {\n",
       "        vertical-align: top;\n",
       "    }\n",
       "\n",
       "    .dataframe thead th {\n",
       "        text-align: right;\n",
       "    }\n",
       "</style>\n",
       "<table border=\"1\" class=\"dataframe\">\n",
       "  <thead>\n",
       "    <tr style=\"text-align: right;\">\n",
       "      <th></th>\n",
       "      <th>year</th>\n",
       "      <th>income</th>\n",
       "    </tr>\n",
       "  </thead>\n",
       "  <tbody>\n",
       "    <tr>\n",
       "      <th>count</th>\n",
       "      <td>47.000000</td>\n",
       "      <td>47.000000</td>\n",
       "    </tr>\n",
       "    <tr>\n",
       "      <th>mean</th>\n",
       "      <td>1993.000000</td>\n",
       "      <td>18920.137063</td>\n",
       "    </tr>\n",
       "    <tr>\n",
       "      <th>std</th>\n",
       "      <td>13.711309</td>\n",
       "      <td>12034.679438</td>\n",
       "    </tr>\n",
       "    <tr>\n",
       "      <th>min</th>\n",
       "      <td>1970.000000</td>\n",
       "      <td>3399.299037</td>\n",
       "    </tr>\n",
       "    <tr>\n",
       "      <th>25%</th>\n",
       "      <td>1981.500000</td>\n",
       "      <td>9526.914515</td>\n",
       "    </tr>\n",
       "    <tr>\n",
       "      <th>50%</th>\n",
       "      <td>1993.000000</td>\n",
       "      <td>16426.725480</td>\n",
       "    </tr>\n",
       "    <tr>\n",
       "      <th>75%</th>\n",
       "      <td>2004.500000</td>\n",
       "      <td>27458.601420</td>\n",
       "    </tr>\n",
       "    <tr>\n",
       "      <th>max</th>\n",
       "      <td>2016.000000</td>\n",
       "      <td>42676.468370</td>\n",
       "    </tr>\n",
       "  </tbody>\n",
       "</table>\n",
       "</div>"
      ],
      "text/plain": [
       "              year        income\n",
       "count    47.000000     47.000000\n",
       "mean   1993.000000  18920.137063\n",
       "std      13.711309  12034.679438\n",
       "min    1970.000000   3399.299037\n",
       "25%    1981.500000   9526.914515\n",
       "50%    1993.000000  16426.725480\n",
       "75%    2004.500000  27458.601420\n",
       "max    2016.000000  42676.468370"
      ]
     },
     "execution_count": 10,
     "metadata": {},
     "output_type": "execute_result"
    }
   ],
   "source": [
    "df.describe()"
   ]
  },
  {
   "cell_type": "markdown",
   "id": "0d3786fa",
   "metadata": {
    "papermill": {
     "duration": 0.011932,
     "end_time": "2024-01-14T15:34:12.990465",
     "exception": false,
     "start_time": "2024-01-14T15:34:12.978533",
     "status": "completed"
    },
    "tags": []
   },
   "source": [
    "---"
   ]
  },
  {
   "cell_type": "markdown",
   "id": "0995a2ee",
   "metadata": {
    "papermill": {
     "duration": 0.014451,
     "end_time": "2024-01-14T15:34:13.017167",
     "exception": false,
     "start_time": "2024-01-14T15:34:13.002716",
     "status": "completed"
    },
    "tags": []
   },
   "source": [
    "### Creating new DataFrame\n",
    "A DataFrame can be created by **df.DataFrame()** method.\n",
    "\n",
    "The content of a DataFrame is constructed using Python **dictionary-list**, where the **key** in the dictionary is the **column name** of the DataFrame, and the **values** are **a list of entries**."
   ]
  },
  {
   "cell_type": "code",
   "execution_count": 11,
   "id": "3231dbc0",
   "metadata": {
    "execution": {
     "iopub.execute_input": "2024-01-14T15:34:13.045179Z",
     "iopub.status.busy": "2024-01-14T15:34:13.044314Z",
     "iopub.status.idle": "2024-01-14T15:34:13.055499Z",
     "shell.execute_reply": "2024-01-14T15:34:13.054563Z"
    },
    "papermill": {
     "duration": 0.027543,
     "end_time": "2024-01-14T15:34:13.058049",
     "exception": false,
     "start_time": "2024-01-14T15:34:13.030506",
     "status": "completed"
    },
    "tags": []
   },
   "outputs": [
    {
     "data": {
      "text/html": [
       "<div>\n",
       "<style scoped>\n",
       "    .dataframe tbody tr th:only-of-type {\n",
       "        vertical-align: middle;\n",
       "    }\n",
       "\n",
       "    .dataframe tbody tr th {\n",
       "        vertical-align: top;\n",
       "    }\n",
       "\n",
       "    .dataframe thead th {\n",
       "        text-align: right;\n",
       "    }\n",
       "</style>\n",
       "<table border=\"1\" class=\"dataframe\">\n",
       "  <thead>\n",
       "    <tr style=\"text-align: right;\">\n",
       "      <th></th>\n",
       "      <th>year</th>\n",
       "      <th>income</th>\n",
       "    </tr>\n",
       "  </thead>\n",
       "  <tbody>\n",
       "    <tr>\n",
       "      <th>0</th>\n",
       "      <td>2020</td>\n",
       "      <td>36000</td>\n",
       "    </tr>\n",
       "    <tr>\n",
       "      <th>1</th>\n",
       "      <td>2021</td>\n",
       "      <td>38000</td>\n",
       "    </tr>\n",
       "  </tbody>\n",
       "</table>\n",
       "</div>"
      ],
      "text/plain": [
       "   year  income\n",
       "0  2020   36000\n",
       "1  2021   38000"
      ]
     },
     "execution_count": 11,
     "metadata": {},
     "output_type": "execute_result"
    }
   ],
   "source": [
    "pd.DataFrame({\"year\":[2020,2021],\n",
    "              \"income\":[36000,38000]})"
   ]
  },
  {
   "cell_type": "markdown",
   "id": "b796dca5",
   "metadata": {
    "papermill": {
     "duration": 0.011447,
     "end_time": "2024-01-14T15:34:13.081270",
     "exception": false,
     "start_time": "2024-01-14T15:34:13.069823",
     "status": "completed"
    },
    "tags": []
   },
   "source": [
    "By default, the row index of a new DataFrame is acsending from 0(0,1,2,3,...).\n",
    "It's also possible to assign the desired row index when creating a DataFrame unsing `index`."
   ]
  },
  {
   "cell_type": "code",
   "execution_count": 12,
   "id": "771b1bd8",
   "metadata": {
    "execution": {
     "iopub.execute_input": "2024-01-14T15:34:13.107683Z",
     "iopub.status.busy": "2024-01-14T15:34:13.106751Z",
     "iopub.status.idle": "2024-01-14T15:34:13.119453Z",
     "shell.execute_reply": "2024-01-14T15:34:13.117827Z"
    },
    "papermill": {
     "duration": 0.029164,
     "end_time": "2024-01-14T15:34:13.122277",
     "exception": false,
     "start_time": "2024-01-14T15:34:13.093113",
     "status": "completed"
    },
    "tags": []
   },
   "outputs": [
    {
     "data": {
      "text/html": [
       "<div>\n",
       "<style scoped>\n",
       "    .dataframe tbody tr th:only-of-type {\n",
       "        vertical-align: middle;\n",
       "    }\n",
       "\n",
       "    .dataframe tbody tr th {\n",
       "        vertical-align: top;\n",
       "    }\n",
       "\n",
       "    .dataframe thead th {\n",
       "        text-align: right;\n",
       "    }\n",
       "</style>\n",
       "<table border=\"1\" class=\"dataframe\">\n",
       "  <thead>\n",
       "    <tr style=\"text-align: right;\">\n",
       "      <th></th>\n",
       "      <th>year</th>\n",
       "      <th>income</th>\n",
       "    </tr>\n",
       "  </thead>\n",
       "  <tbody>\n",
       "    <tr>\n",
       "      <th>1</th>\n",
       "      <td>2020</td>\n",
       "      <td>36000</td>\n",
       "    </tr>\n",
       "    <tr>\n",
       "      <th>2</th>\n",
       "      <td>2021</td>\n",
       "      <td>38000</td>\n",
       "    </tr>\n",
       "  </tbody>\n",
       "</table>\n",
       "</div>"
      ],
      "text/plain": [
       "   year  income\n",
       "1  2020   36000\n",
       "2  2021   38000"
      ]
     },
     "execution_count": 12,
     "metadata": {},
     "output_type": "execute_result"
    }
   ],
   "source": [
    "pd.DataFrame({\"year\":[2020,2021],\n",
    "              \"income\":[36000,38000]},\n",
    "               index = [1,2])"
   ]
  },
  {
   "cell_type": "markdown",
   "id": "4e82e1c2",
   "metadata": {
    "papermill": {
     "duration": 0.011879,
     "end_time": "2024-01-14T15:34:13.146236",
     "exception": false,
     "start_time": "2024-01-14T15:34:13.134357",
     "status": "completed"
    },
    "tags": []
   },
   "source": [
    "---"
   ]
  },
  {
   "cell_type": "markdown",
   "id": "7dc98ac0",
   "metadata": {
    "papermill": {
     "duration": 0.012856,
     "end_time": "2024-01-14T15:34:13.172273",
     "exception": false,
     "start_time": "2024-01-14T15:34:13.159417",
     "status": "completed"
    },
    "tags": []
   },
   "source": [
    "### Indexing and selecting data"
   ]
  },
  {
   "cell_type": "markdown",
   "id": "c93ca454",
   "metadata": {
    "papermill": {
     "duration": 0.012846,
     "end_time": "2024-01-14T15:34:13.198072",
     "exception": false,
     "start_time": "2024-01-14T15:34:13.185226",
     "status": "completed"
    },
    "tags": []
   },
   "source": [
    "Access column of a DataFrame using `.` or `[]` operator."
   ]
  },
  {
   "cell_type": "code",
   "execution_count": 13,
   "id": "5dc7803f",
   "metadata": {
    "execution": {
     "iopub.execute_input": "2024-01-14T15:34:13.226986Z",
     "iopub.status.busy": "2024-01-14T15:34:13.226036Z",
     "iopub.status.idle": "2024-01-14T15:34:13.236394Z",
     "shell.execute_reply": "2024-01-14T15:34:13.234986Z"
    },
    "papermill": {
     "duration": 0.027785,
     "end_time": "2024-01-14T15:34:13.239468",
     "exception": false,
     "start_time": "2024-01-14T15:34:13.211683",
     "status": "completed"
    },
    "tags": []
   },
   "outputs": [
    {
     "data": {
      "text/plain": [
       "0     1970\n",
       "1     1971\n",
       "2     1972\n",
       "3     1973\n",
       "4     1974\n",
       "      ... \n",
       "42    2012\n",
       "43    2013\n",
       "44    2014\n",
       "45    2015\n",
       "46    2016\n",
       "Name: year, Length: 47, dtype: int64"
      ]
     },
     "execution_count": 13,
     "metadata": {},
     "output_type": "execute_result"
    }
   ],
   "source": [
    "X = df.year\n",
    "X"
   ]
  },
  {
   "cell_type": "code",
   "execution_count": 14,
   "id": "f74aa7ff",
   "metadata": {
    "execution": {
     "iopub.execute_input": "2024-01-14T15:34:13.266395Z",
     "iopub.status.busy": "2024-01-14T15:34:13.265299Z",
     "iopub.status.idle": "2024-01-14T15:34:13.274074Z",
     "shell.execute_reply": "2024-01-14T15:34:13.272734Z"
    },
    "papermill": {
     "duration": 0.025066,
     "end_time": "2024-01-14T15:34:13.276627",
     "exception": false,
     "start_time": "2024-01-14T15:34:13.251561",
     "status": "completed"
    },
    "tags": []
   },
   "outputs": [
    {
     "data": {
      "text/plain": [
       "pandas.core.series.Series"
      ]
     },
     "execution_count": 14,
     "metadata": {},
     "output_type": "execute_result"
    }
   ],
   "source": [
    "type(X)"
   ]
  },
  {
   "cell_type": "code",
   "execution_count": 15,
   "id": "66d6978f",
   "metadata": {
    "execution": {
     "iopub.execute_input": "2024-01-14T15:34:13.303268Z",
     "iopub.status.busy": "2024-01-14T15:34:13.302818Z",
     "iopub.status.idle": "2024-01-14T15:34:13.309814Z",
     "shell.execute_reply": "2024-01-14T15:34:13.308859Z"
    },
    "papermill": {
     "duration": 0.023074,
     "end_time": "2024-01-14T15:34:13.311923",
     "exception": false,
     "start_time": "2024-01-14T15:34:13.288849",
     "status": "completed"
    },
    "tags": []
   },
   "outputs": [
    {
     "data": {
      "text/plain": [
       "pandas.core.series.Series"
      ]
     },
     "execution_count": 15,
     "metadata": {},
     "output_type": "execute_result"
    }
   ],
   "source": [
    "X= df['income']\n",
    "type(X)"
   ]
  },
  {
   "cell_type": "markdown",
   "id": "db0ca982",
   "metadata": {
    "papermill": {
     "duration": 0.011924,
     "end_time": "2024-01-14T15:34:13.335994",
     "exception": false,
     "start_time": "2024-01-14T15:34:13.324070",
     "status": "completed"
    },
    "tags": []
   },
   "source": [
    "the indexing operator `[]` does have the advantage that it can handle column names with reserved characters in them (e.g. if we had a income in year column, df.income in year wouldn't work)."
   ]
  },
  {
   "cell_type": "markdown",
   "id": "166b2c5a",
   "metadata": {
    "papermill": {
     "duration": 0.011772,
     "end_time": "2024-01-14T15:34:13.360044",
     "exception": false,
     "start_time": "2024-01-14T15:34:13.348272",
     "status": "completed"
    },
    "tags": []
   },
   "source": [
    "Access single value of a column in DataFrame"
   ]
  },
  {
   "cell_type": "code",
   "execution_count": 16,
   "id": "2a2497b5",
   "metadata": {
    "execution": {
     "iopub.execute_input": "2024-01-14T15:34:13.386172Z",
     "iopub.status.busy": "2024-01-14T15:34:13.385748Z",
     "iopub.status.idle": "2024-01-14T15:34:13.394744Z",
     "shell.execute_reply": "2024-01-14T15:34:13.393182Z"
    },
    "papermill": {
     "duration": 0.025419,
     "end_time": "2024-01-14T15:34:13.397564",
     "exception": false,
     "start_time": "2024-01-14T15:34:13.372145",
     "status": "completed"
    },
    "tags": []
   },
   "outputs": [
    {
     "data": {
      "text/plain": [
       "1970"
      ]
     },
     "execution_count": 16,
     "metadata": {},
     "output_type": "execute_result"
    }
   ],
   "source": [
    "df['year'][0]"
   ]
  },
  {
   "cell_type": "code",
   "execution_count": 17,
   "id": "1916ddbf",
   "metadata": {
    "execution": {
     "iopub.execute_input": "2024-01-14T15:34:13.425312Z",
     "iopub.status.busy": "2024-01-14T15:34:13.424896Z",
     "iopub.status.idle": "2024-01-14T15:34:13.432908Z",
     "shell.execute_reply": "2024-01-14T15:34:13.431585Z"
    },
    "papermill": {
     "duration": 0.025101,
     "end_time": "2024-01-14T15:34:13.435243",
     "exception": false,
     "start_time": "2024-01-14T15:34:13.410142",
     "status": "completed"
    },
    "tags": []
   },
   "outputs": [
    {
     "data": {
      "text/plain": [
       "3768.297935"
      ]
     },
     "execution_count": 17,
     "metadata": {},
     "output_type": "execute_result"
    }
   ],
   "source": [
    "df['income'][1]"
   ]
  }
 ],
 "metadata": {
  "kaggle": {
   "accelerator": "none",
   "dataSources": [
    {
     "datasetId": 3565387,
     "sourceId": 6209250,
     "sourceType": "datasetVersion"
    }
   ],
   "dockerImageVersionId": 30527,
   "isGpuEnabled": false,
   "isInternetEnabled": true,
   "language": "python",
   "sourceType": "notebook"
  },
  "kernelspec": {
   "display_name": "Python 3",
   "language": "python",
   "name": "python3"
  },
  "language_info": {
   "codemirror_mode": {
    "name": "ipython",
    "version": 3
   },
   "file_extension": ".py",
   "mimetype": "text/x-python",
   "name": "python",
   "nbconvert_exporter": "python",
   "pygments_lexer": "ipython3",
   "version": "3.10.12"
  },
  "papermill": {
   "default_parameters": {},
   "duration": 15.822024,
   "end_time": "2024-01-14T15:34:14.472509",
   "environment_variables": {},
   "exception": null,
   "input_path": "__notebook__.ipynb",
   "output_path": "__notebook__.ipynb",
   "parameters": {},
   "start_time": "2024-01-14T15:33:58.650485",
   "version": "2.4.0"
  }
 },
 "nbformat": 4,
 "nbformat_minor": 5
}
